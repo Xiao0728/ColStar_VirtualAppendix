{
 "cells": [
  {
   "cell_type": "code",
   "execution_count": 1,
   "id": "composed-disco",
   "metadata": {},
   "outputs": [
    {
     "name": "stderr",
     "output_type": "stream",
     "text": [
      "PyTerrier 0.9.1 has loaded Terrier 5.7 (built by craigm on 2022-11-10 18:30) and terrier-helper 0.0.7\n",
      "\n"
     ]
    }
   ],
   "source": [
    "import pyterrier as pt\n",
    "pt.init(tqdm='notebook')"
   ]
  },
  {
   "cell_type": "code",
   "execution_count": 2,
   "id": "similar-reggae",
   "metadata": {},
   "outputs": [
    {
     "name": "stdout",
     "output_type": "stream",
     "text": [
      "colbert.all_types.res.gz      reranker.all_types.res.gz\r\n",
      "colbert.only_exact.res.gz     reranker.only_exact.res.gz\r\n",
      "colbert.only_semantic.res.gz  reranker.only_semantic.res.gz\r\n",
      "colbert.only_speical.res.gz   reranker.only_special.res.gz\r\n"
     ]
    }
   ],
   "source": [
    "!ls ./ColBERT"
   ]
  },
  {
   "cell_type": "code",
   "execution_count": 4,
   "id": "classified-danish",
   "metadata": {},
   "outputs": [],
   "source": [
    "e2e_only_exact = pt.io.read_results(\"./ColBERT/colbert.only_exact.res.gz\")\n",
    "e2e_only_semantic = pt.io.read_results(\"./ColBERT/colbert.only_semantic.res.gz\")\n",
    "e2e_only_special = pt.io.read_results(\"./ColBERT/colbert.only_special.res.gz\")\n",
    "e2e_all_types = pt.io.read_results(\"./ColBERT/colbert.all_types.res.gz\")\n",
    "\n",
    "rerank_only_exact = pt.io.read_results(\"./ColBERT/reranker.only_exact.res.gz\")\n",
    "rerank_only_semantic = pt.io.read_results(\"./ColBERT/reranker.only_semantic.res.gz\")\n",
    "rerank_only_special = pt.io.read_results(\"./ColBERT/reranker.only_special.res.gz\")\n",
    "rerank_all_types = pt.io.read_results(\"./ColBERT/reranker.all_types.res.gz\")"
   ]
  },
  {
   "cell_type": "code",
   "execution_count": 12,
   "id": "surgical-worst",
   "metadata": {},
   "outputs": [
    {
     "data": {
      "application/vnd.jupyter.widget-view+json": {
       "model_id": "065be2f29561422d90e937e424a933be",
       "version_major": 2,
       "version_minor": 0
      },
      "text/plain": [
       "HBox(children=(HTML(value='pt.Experiment'), FloatProgress(value=0.0, max=8.0), HTML(value='')))"
      ]
     },
     "metadata": {},
     "output_type": "display_data"
    },
    {
     "name": "stdout",
     "output_type": "stream",
     "text": [
      "\n"
     ]
    },
    {
     "data": {
      "text/html": [
       "<div>\n",
       "<style scoped>\n",
       "    .dataframe tbody tr th:only-of-type {\n",
       "        vertical-align: middle;\n",
       "    }\n",
       "\n",
       "    .dataframe tbody tr th {\n",
       "        vertical-align: top;\n",
       "    }\n",
       "\n",
       "    .dataframe thead th {\n",
       "        text-align: right;\n",
       "    }\n",
       "</style>\n",
       "<table border=\"1\" class=\"dataframe\">\n",
       "  <thead>\n",
       "    <tr style=\"text-align: right;\">\n",
       "      <th></th>\n",
       "      <th>name</th>\n",
       "      <th>nDCG@10</th>\n",
       "      <th>R(rel=2)@1000</th>\n",
       "      <th>AP(rel=2)@1000</th>\n",
       "      <th>RR(rel=2)@10</th>\n",
       "    </tr>\n",
       "  </thead>\n",
       "  <tbody>\n",
       "    <tr>\n",
       "      <th>0</th>\n",
       "      <td>reranker.only_exact</td>\n",
       "      <td>0.526527</td>\n",
       "      <td>0.807223</td>\n",
       "      <td>0.334937</td>\n",
       "      <td>0.655093</td>\n",
       "    </tr>\n",
       "    <tr>\n",
       "      <th>1</th>\n",
       "      <td>reranker.only_semantic</td>\n",
       "      <td>0.138996</td>\n",
       "      <td>0.807223</td>\n",
       "      <td>0.097151</td>\n",
       "      <td>0.234744</td>\n",
       "    </tr>\n",
       "    <tr>\n",
       "      <th>2</th>\n",
       "      <td>reranker.only_special</td>\n",
       "      <td>0.518976</td>\n",
       "      <td>0.807223</td>\n",
       "      <td>0.334874</td>\n",
       "      <td>0.713889</td>\n",
       "    </tr>\n",
       "    <tr>\n",
       "      <th>3</th>\n",
       "      <td>reranker.all_types</td>\n",
       "      <td>0.706804</td>\n",
       "      <td>0.807223</td>\n",
       "      <td>0.483810</td>\n",
       "      <td>0.834877</td>\n",
       "    </tr>\n",
       "    <tr>\n",
       "      <th>4</th>\n",
       "      <td>colbert.only_exact</td>\n",
       "      <td>0.492102</td>\n",
       "      <td>0.771416</td>\n",
       "      <td>0.301504</td>\n",
       "      <td>0.646781</td>\n",
       "    </tr>\n",
       "    <tr>\n",
       "      <th>5</th>\n",
       "      <td>colbert.only_semantic</td>\n",
       "      <td>0.002188</td>\n",
       "      <td>0.113610</td>\n",
       "      <td>0.002780</td>\n",
       "      <td>0.004630</td>\n",
       "    </tr>\n",
       "    <tr>\n",
       "      <th>6</th>\n",
       "      <td>colbert.only_speical</td>\n",
       "      <td>0.383874</td>\n",
       "      <td>0.554282</td>\n",
       "      <td>0.224973</td>\n",
       "      <td>0.568078</td>\n",
       "    </tr>\n",
       "    <tr>\n",
       "      <th>7</th>\n",
       "      <td>colbert.all_types</td>\n",
       "      <td>0.689939</td>\n",
       "      <td>0.805692</td>\n",
       "      <td>0.472455</td>\n",
       "      <td>0.831790</td>\n",
       "    </tr>\n",
       "  </tbody>\n",
       "</table>\n",
       "</div>"
      ],
      "text/plain": [
       "                     name   nDCG@10  R(rel=2)@1000  AP(rel=2)@1000  \\\n",
       "0     reranker.only_exact  0.526527       0.807223        0.334937   \n",
       "1  reranker.only_semantic  0.138996       0.807223        0.097151   \n",
       "2   reranker.only_special  0.518976       0.807223        0.334874   \n",
       "3      reranker.all_types  0.706804       0.807223        0.483810   \n",
       "4      colbert.only_exact  0.492102       0.771416        0.301504   \n",
       "5   colbert.only_semantic  0.002188       0.113610        0.002780   \n",
       "6    colbert.only_speical  0.383874       0.554282        0.224973   \n",
       "7       colbert.all_types  0.689939       0.805692        0.472455   \n",
       "\n",
       "   RR(rel=2)@10  \n",
       "0      0.655093  \n",
       "1      0.234744  \n",
       "2      0.713889  \n",
       "3      0.834877  \n",
       "4      0.646781  \n",
       "5      0.004630  \n",
       "6      0.568078  \n",
       "7      0.831790  "
      ]
     },
     "execution_count": 12,
     "metadata": {},
     "output_type": "execute_result"
    }
   ],
   "source": [
    "from pyterrier.measures import *\n",
    "res_colbert_RQ3_3 = pt.Experiment(\n",
    "    [\n",
    "    rerank_only_exact,\n",
    "    rerank_only_semantic,\n",
    "    rerank_only_special,\n",
    "    rerank_all_types,\n",
    "    e2e_only_exact,\n",
    "    e2e_only_semantic,\n",
    "    e2e_only_special,\n",
    "    e2e_all_types\n",
    "    ],\n",
    "    pt.get_dataset(\"trec-deep-learning-passages\").get_topics('test-2020'),\n",
    "    pt.get_dataset(\"trec-deep-learning-passages\").get_qrels('test-2020'),\n",
    "\n",
    "    filter_by_qrels=True,\n",
    "    batch_size=100,verbose=True,\n",
    "    eval_metrics = [nDCG@10, R(rel=2)@1000,AP(rel=2)@1000,RR(rel=2)@10], # Note: using R@1000 here instead of R(rel=2)@1000 to match the measure used by the TCT-ColBERT paper\n",
    "    names=[\n",
    "      \n",
    "        \"reranker.only_exact\",\"reranker.only_semantic\",\n",
    "        \"reranker.only_special\",\"reranker.all_types\",\n",
    "        \"colbert.only_exact\",\"colbert.only_semantic\",\n",
    "        \"colbert.only_speical\",\"colbert.all_types\"]\n",
    ")\n",
    "\n",
    "res_colbert_RQ3_3"
   ]
  },
  {
   "cell_type": "code",
   "execution_count": 28,
   "id": "subsequent-paradise",
   "metadata": {},
   "outputs": [
    {
     "name": "stdout",
     "output_type": "stream",
     "text": [
      "colminilm.all_types.res.gz\tcolminilm.reranker.all_types.res.gz\r\n",
      "colminilm.only_exact.res.gz\tcolminilm.reranker.only_exact.res.gz\r\n",
      "colminilm.only_semantic.res.gz\tcolminilm.reranker.only_special.res.gz\r\n",
      "colminilm.only_special.res.gz\trcolminilm.eranker.only_semantic.res.gz\r\n"
     ]
    }
   ],
   "source": [
    "!ls ./ColminiLM"
   ]
  },
  {
   "cell_type": "code",
   "execution_count": 29,
   "id": "animal-weapon",
   "metadata": {},
   "outputs": [],
   "source": [
    "e2e_only_exact = pt.io.read_results(\"./ColminiLM/colminilm.only_exact.res.gz\")\n",
    "e2e_only_semantic = pt.io.read_results(\"./ColminiLM/colminilm.only_semantic.res.gz\")\n",
    "e2e_only_special = pt.io.read_results(\"./ColminiLM/colminilm.only_special.res.gz\")\n",
    "e2e_all_types = pt.io.read_results(\"./ColminiLM/colminilm.all_types.res.gz\")\n",
    "\n",
    "rerank_only_exact = pt.io.read_results(\"./ColminiLM/colminilm.reranker.only_exact.res.gz\")\n",
    "rerank_only_semantic = pt.io.read_results(\"./ColminiLM/colminilm.reranker.only_semantic.res.gz\")\n",
    "rerank_only_special = pt.io.read_results(\"./ColminiLM/colminilm.reranker.only_special.res.gz\")\n",
    "rerank_all_types = pt.io.read_results(\"./ColminiLM/colminilm.reranker.all_types.res.gz\")"
   ]
  },
  {
   "cell_type": "code",
   "execution_count": 30,
   "id": "disabled-sierra",
   "metadata": {},
   "outputs": [
    {
     "data": {
      "application/vnd.jupyter.widget-view+json": {
       "model_id": "4126c62581e448209d548ffa4baaadc6",
       "version_major": 2,
       "version_minor": 0
      },
      "text/plain": [
       "HBox(children=(HTML(value='pt.Experiment'), FloatProgress(value=0.0, max=8.0), HTML(value='')))"
      ]
     },
     "metadata": {},
     "output_type": "display_data"
    },
    {
     "name": "stdout",
     "output_type": "stream",
     "text": [
      "\n"
     ]
    },
    {
     "data": {
      "text/html": [
       "<div>\n",
       "<style scoped>\n",
       "    .dataframe tbody tr th:only-of-type {\n",
       "        vertical-align: middle;\n",
       "    }\n",
       "\n",
       "    .dataframe tbody tr th {\n",
       "        vertical-align: top;\n",
       "    }\n",
       "\n",
       "    .dataframe thead th {\n",
       "        text-align: right;\n",
       "    }\n",
       "</style>\n",
       "<table border=\"1\" class=\"dataframe\">\n",
       "  <thead>\n",
       "    <tr style=\"text-align: right;\">\n",
       "      <th></th>\n",
       "      <th>name</th>\n",
       "      <th>nDCG@10</th>\n",
       "      <th>R(rel=2)@1000</th>\n",
       "      <th>AP(rel=2)@1000</th>\n",
       "      <th>RR(rel=2)@10</th>\n",
       "    </tr>\n",
       "  </thead>\n",
       "  <tbody>\n",
       "    <tr>\n",
       "      <th>0</th>\n",
       "      <td>colminilm.reranker.only_exact</td>\n",
       "      <td>0.487370</td>\n",
       "      <td>0.807223</td>\n",
       "      <td>0.291422</td>\n",
       "      <td>0.676102</td>\n",
       "    </tr>\n",
       "    <tr>\n",
       "      <th>1</th>\n",
       "      <td>colminilm.reranker.only_semantic</td>\n",
       "      <td>0.074291</td>\n",
       "      <td>0.807223</td>\n",
       "      <td>0.060396</td>\n",
       "      <td>0.124846</td>\n",
       "    </tr>\n",
       "    <tr>\n",
       "      <th>2</th>\n",
       "      <td>colminilm.reranker.only_special</td>\n",
       "      <td>0.522579</td>\n",
       "      <td>0.807223</td>\n",
       "      <td>0.316767</td>\n",
       "      <td>0.737860</td>\n",
       "    </tr>\n",
       "    <tr>\n",
       "      <th>3</th>\n",
       "      <td>colminilm.reranker.all_types</td>\n",
       "      <td>0.684679</td>\n",
       "      <td>0.807223</td>\n",
       "      <td>0.457559</td>\n",
       "      <td>0.865741</td>\n",
       "    </tr>\n",
       "    <tr>\n",
       "      <th>4</th>\n",
       "      <td>colminilm.only_exact</td>\n",
       "      <td>0.426379</td>\n",
       "      <td>0.679590</td>\n",
       "      <td>0.240331</td>\n",
       "      <td>0.633818</td>\n",
       "    </tr>\n",
       "    <tr>\n",
       "      <th>5</th>\n",
       "      <td>colminilm.only_semantic</td>\n",
       "      <td>0.000563</td>\n",
       "      <td>0.027143</td>\n",
       "      <td>0.000226</td>\n",
       "      <td>0.000000</td>\n",
       "    </tr>\n",
       "    <tr>\n",
       "      <th>6</th>\n",
       "      <td>colminilm.only_speical</td>\n",
       "      <td>0.346634</td>\n",
       "      <td>0.535445</td>\n",
       "      <td>0.169501</td>\n",
       "      <td>0.528777</td>\n",
       "    </tr>\n",
       "    <tr>\n",
       "      <th>7</th>\n",
       "      <td>colminilm.all_types</td>\n",
       "      <td>0.672129</td>\n",
       "      <td>0.762298</td>\n",
       "      <td>0.434058</td>\n",
       "      <td>0.860207</td>\n",
       "    </tr>\n",
       "  </tbody>\n",
       "</table>\n",
       "</div>"
      ],
      "text/plain": [
       "                               name   nDCG@10  R(rel=2)@1000  AP(rel=2)@1000  \\\n",
       "0     colminilm.reranker.only_exact  0.487370       0.807223        0.291422   \n",
       "1  colminilm.reranker.only_semantic  0.074291       0.807223        0.060396   \n",
       "2   colminilm.reranker.only_special  0.522579       0.807223        0.316767   \n",
       "3      colminilm.reranker.all_types  0.684679       0.807223        0.457559   \n",
       "4              colminilm.only_exact  0.426379       0.679590        0.240331   \n",
       "5           colminilm.only_semantic  0.000563       0.027143        0.000226   \n",
       "6            colminilm.only_speical  0.346634       0.535445        0.169501   \n",
       "7               colminilm.all_types  0.672129       0.762298        0.434058   \n",
       "\n",
       "   RR(rel=2)@10  \n",
       "0      0.676102  \n",
       "1      0.124846  \n",
       "2      0.737860  \n",
       "3      0.865741  \n",
       "4      0.633818  \n",
       "5      0.000000  \n",
       "6      0.528777  \n",
       "7      0.860207  "
      ]
     },
     "execution_count": 30,
     "metadata": {},
     "output_type": "execute_result"
    }
   ],
   "source": [
    "from pyterrier.measures import *\n",
    "res_colminilm_RQ3_3 = pt.Experiment(\n",
    "    [\n",
    "    rerank_only_exact,\n",
    "    rerank_only_semantic,\n",
    "    rerank_only_special,\n",
    "    rerank_all_types,\n",
    "    e2e_only_exact,\n",
    "    e2e_only_semantic,\n",
    "    e2e_only_special,\n",
    "    e2e_all_types\n",
    "    ],\n",
    "    pt.get_dataset(\"trec-deep-learning-passages\").get_topics('test-2020'),\n",
    "    pt.get_dataset(\"trec-deep-learning-passages\").get_qrels('test-2020'),\n",
    "\n",
    "    filter_by_qrels=True,\n",
    "    batch_size=100,verbose=True,\n",
    "    eval_metrics = [nDCG@10, R(rel=2)@1000,AP(rel=2)@1000,RR(rel=2)@10], # Note: using R@1000 here instead of R(rel=2)@1000 to match the measure used by the TCT-ColBERT paper\n",
    "    names=[\n",
    "      \n",
    "        \"colminilm.reranker.only_exact\",\"colminilm.reranker.only_semantic\",\n",
    "        \"colminilm.reranker.only_special\",\"colminilm.reranker.all_types\",\n",
    "        \"colminilm.only_exact\",\"colminilm.only_semantic\",\n",
    "        \"colminilm.only_speical\",\"colminilm.all_types\"]\n",
    ")\n",
    "\n",
    "res_colminilm_RQ3_3"
   ]
  },
  {
   "cell_type": "code",
   "execution_count": null,
   "id": "biblical-douglas",
   "metadata": {},
   "outputs": [],
   "source": []
  },
  {
   "cell_type": "code",
   "execution_count": null,
   "id": "cathedral-tanzania",
   "metadata": {},
   "outputs": [],
   "source": []
  },
  {
   "cell_type": "code",
   "execution_count": 15,
   "id": "purple-rings",
   "metadata": {},
   "outputs": [
    {
     "name": "stdout",
     "output_type": "stream",
     "text": [
      "colroberta.all_types.res.gz\t    colroberta.reranker.all_types.res.gz\r\n",
      "colroberta.only_exact.res.gz\t    colroberta.reranker.only_exact.res.gz\r\n",
      "colroberta.only_semantic.res.gz     colroberta.reranker.only_semantic.res.gz\r\n",
      "colroberta.only_special.new.res.gz  colroberta.reranker.only_special.new.res.gz\r\n"
     ]
    }
   ],
   "source": [
    "!ls ./ColRoBERTa"
   ]
  },
  {
   "cell_type": "code",
   "execution_count": 17,
   "id": "frequent-charity",
   "metadata": {},
   "outputs": [],
   "source": [
    "e2e_only_exact = pt.io.read_results(\"./ColRoBERTa/colroberta.only_exact.res.gz\")\n",
    "e2e_only_semantic = pt.io.read_results(\"./ColRoBERTa/colroberta.only_semantic.res.gz\")\n",
    "e2e_only_special = pt.io.read_results(\"./ColRoBERTa/colroberta.only_special.res.gz\")\n",
    "e2e_all_types = pt.io.read_results(\"./ColRoBERTa/colroberta.all_types.res.gz\")\n",
    "\n",
    "rerank_only_exact = pt.io.read_results(\"./ColRoBERTa/colroberta.reranker.only_exact.res.gz\")\n",
    "rerank_only_semantic = pt.io.read_results(\"./ColRoBERTa/colroberta.reranker.only_semantic.res.gz\")\n",
    "rerank_only_special = pt.io.read_results(\"./ColRoBERTa/colroberta.reranker.only_special.res.gz\")\n",
    "rerank_all_types = pt.io.read_results(\"./ColRoBERTa/colroberta.reranker.all_types.res.gz\")"
   ]
  },
  {
   "cell_type": "code",
   "execution_count": 18,
   "id": "unlimited-insurance",
   "metadata": {},
   "outputs": [
    {
     "data": {
      "application/vnd.jupyter.widget-view+json": {
       "model_id": "8fd42a28ef0a43bfba1d1216493ddfe6",
       "version_major": 2,
       "version_minor": 0
      },
      "text/plain": [
       "HBox(children=(HTML(value='pt.Experiment'), FloatProgress(value=0.0, max=8.0), HTML(value='')))"
      ]
     },
     "metadata": {},
     "output_type": "display_data"
    },
    {
     "name": "stdout",
     "output_type": "stream",
     "text": [
      "\n"
     ]
    },
    {
     "data": {
      "text/html": [
       "<div>\n",
       "<style scoped>\n",
       "    .dataframe tbody tr th:only-of-type {\n",
       "        vertical-align: middle;\n",
       "    }\n",
       "\n",
       "    .dataframe tbody tr th {\n",
       "        vertical-align: top;\n",
       "    }\n",
       "\n",
       "    .dataframe thead th {\n",
       "        text-align: right;\n",
       "    }\n",
       "</style>\n",
       "<table border=\"1\" class=\"dataframe\">\n",
       "  <thead>\n",
       "    <tr style=\"text-align: right;\">\n",
       "      <th></th>\n",
       "      <th>name</th>\n",
       "      <th>nDCG@10</th>\n",
       "      <th>R(rel=2)@1000</th>\n",
       "      <th>AP(rel=2)@1000</th>\n",
       "      <th>RR(rel=2)@10</th>\n",
       "    </tr>\n",
       "  </thead>\n",
       "  <tbody>\n",
       "    <tr>\n",
       "      <th>0</th>\n",
       "      <td>colroberta.reranker.only_exact</td>\n",
       "      <td>0.396841</td>\n",
       "      <td>0.807223</td>\n",
       "      <td>0.215926</td>\n",
       "      <td>0.541049</td>\n",
       "    </tr>\n",
       "    <tr>\n",
       "      <th>1</th>\n",
       "      <td>colroberta.reranker.only_semantic</td>\n",
       "      <td>0.260481</td>\n",
       "      <td>0.807223</td>\n",
       "      <td>0.179008</td>\n",
       "      <td>0.404240</td>\n",
       "    </tr>\n",
       "    <tr>\n",
       "      <th>2</th>\n",
       "      <td>colroberta.reranker.only_special</td>\n",
       "      <td>0.635353</td>\n",
       "      <td>0.807223</td>\n",
       "      <td>0.413755</td>\n",
       "      <td>0.832407</td>\n",
       "    </tr>\n",
       "    <tr>\n",
       "      <th>3</th>\n",
       "      <td>colroberta.reranker.all_types</td>\n",
       "      <td>0.695075</td>\n",
       "      <td>0.807223</td>\n",
       "      <td>0.462050</td>\n",
       "      <td>0.843541</td>\n",
       "    </tr>\n",
       "    <tr>\n",
       "      <th>4</th>\n",
       "      <td>colroberta.only_exact</td>\n",
       "      <td>0.349475</td>\n",
       "      <td>0.589295</td>\n",
       "      <td>0.167219</td>\n",
       "      <td>0.497531</td>\n",
       "    </tr>\n",
       "    <tr>\n",
       "      <th>5</th>\n",
       "      <td>colroberta.only_semantic</td>\n",
       "      <td>0.157172</td>\n",
       "      <td>0.302576</td>\n",
       "      <td>0.068653</td>\n",
       "      <td>0.287037</td>\n",
       "    </tr>\n",
       "    <tr>\n",
       "      <th>6</th>\n",
       "      <td>colroberta.only_speical</td>\n",
       "      <td>0.574166</td>\n",
       "      <td>0.705422</td>\n",
       "      <td>0.317664</td>\n",
       "      <td>0.816049</td>\n",
       "    </tr>\n",
       "    <tr>\n",
       "      <th>7</th>\n",
       "      <td>colroberta.all_types</td>\n",
       "      <td>0.666198</td>\n",
       "      <td>0.763290</td>\n",
       "      <td>0.423786</td>\n",
       "      <td>0.828395</td>\n",
       "    </tr>\n",
       "  </tbody>\n",
       "</table>\n",
       "</div>"
      ],
      "text/plain": [
       "                                name   nDCG@10  R(rel=2)@1000  AP(rel=2)@1000  \\\n",
       "0     colroberta.reranker.only_exact  0.396841       0.807223        0.215926   \n",
       "1  colroberta.reranker.only_semantic  0.260481       0.807223        0.179008   \n",
       "2   colroberta.reranker.only_special  0.635353       0.807223        0.413755   \n",
       "3      colroberta.reranker.all_types  0.695075       0.807223        0.462050   \n",
       "4              colroberta.only_exact  0.349475       0.589295        0.167219   \n",
       "5           colroberta.only_semantic  0.157172       0.302576        0.068653   \n",
       "6            colroberta.only_speical  0.574166       0.705422        0.317664   \n",
       "7               colroberta.all_types  0.666198       0.763290        0.423786   \n",
       "\n",
       "   RR(rel=2)@10  \n",
       "0      0.541049  \n",
       "1      0.404240  \n",
       "2      0.832407  \n",
       "3      0.843541  \n",
       "4      0.497531  \n",
       "5      0.287037  \n",
       "6      0.816049  \n",
       "7      0.828395  "
      ]
     },
     "execution_count": 18,
     "metadata": {},
     "output_type": "execute_result"
    }
   ],
   "source": [
    "from pyterrier.measures import *\n",
    "res_colroberta_RQ3_3 = pt.Experiment(\n",
    "    [\n",
    "    rerank_only_exact,\n",
    "    rerank_only_semantic,\n",
    "    rerank_only_special,\n",
    "    rerank_all_types,\n",
    "    e2e_only_exact,\n",
    "    e2e_only_semantic,\n",
    "    e2e_only_special,\n",
    "    e2e_all_types\n",
    "    ],\n",
    "    pt.get_dataset(\"trec-deep-learning-passages\").get_topics('test-2020'),\n",
    "    pt.get_dataset(\"trec-deep-learning-passages\").get_qrels('test-2020'),\n",
    "\n",
    "    filter_by_qrels=True,\n",
    "    batch_size=100,verbose=True,\n",
    "    eval_metrics = [nDCG@10, R(rel=2)@1000,AP(rel=2)@1000,RR(rel=2)@10], # Note: using R@1000 here instead of R(rel=2)@1000 to match the measure used by the TCT-ColBERT paper\n",
    "    names=[\n",
    "      \n",
    "        \"colroberta.reranker.only_exact\",\"colroberta.reranker.only_semantic\",\n",
    "        \"colroberta.reranker.only_special\",\"colroberta.reranker.all_types\",\n",
    "        \"colroberta.only_exact\",\"colroberta.only_semantic\",\n",
    "        \"colroberta.only_speical\",\"colroberta.all_types\"]\n",
    ")\n",
    "\n",
    "res_colroberta_RQ3_3"
   ]
  },
  {
   "cell_type": "code",
   "execution_count": 22,
   "id": "higher-omega",
   "metadata": {},
   "outputs": [
    {
     "name": "stdout",
     "output_type": "stream",
     "text": [
      "colalbert.all_types.res.gz\tcolalbert.reranker.all_types.res.gz\r\n",
      "colalbert.only_exact.res.gz\tcolalbert.reranker.only_exact.res.gz\r\n",
      "colalbert.only_semantic.res.gz\tcolalbert.reranker.only_semantic.res.gz\r\n",
      "colalbert.only_specialres.gz\tcolalbert.reranker.only_special.res.gz\r\n"
     ]
    }
   ],
   "source": [
    "!ls ./ColALBERT"
   ]
  },
  {
   "cell_type": "code",
   "execution_count": 23,
   "id": "precious-cocktail",
   "metadata": {},
   "outputs": [],
   "source": [
    "e2e_only_exact = pt.io.read_results(\"./ColALBERT/colalbert.only_exact.res.gz\")\n",
    "e2e_only_semantic = pt.io.read_results(\"./ColALBERT/colalbert.only_semantic.res.gz\")\n",
    "e2e_only_special = pt.io.read_results(\"./ColALBERT/colalbert.only_special.res.gz\")\n",
    "e2e_all_types = pt.io.read_results(\"./ColALBERT/colalbert.all_types.res.gz\")\n",
    "\n",
    "rerank_only_exact = pt.io.read_results(\"./ColALBERT/colalbert.reranker.only_exact.res.gz\")\n",
    "rerank_only_semantic = pt.io.read_results(\"./ColALBERT/colalbert.reranker.only_semantic.res.gz\")\n",
    "rerank_only_special = pt.io.read_results(\"./ColALBERT/colalbert.reranker.only_special.res.gz\")\n",
    "rerank_all_types = pt.io.read_results(\"./ColALBERT/colalbert.reranker.all_types.res.gz\")"
   ]
  },
  {
   "cell_type": "code",
   "execution_count": 24,
   "id": "million-hundred",
   "metadata": {},
   "outputs": [
    {
     "data": {
      "application/vnd.jupyter.widget-view+json": {
       "model_id": "3acd6fb9420c473eb358f5f6da0e6842",
       "version_major": 2,
       "version_minor": 0
      },
      "text/plain": [
       "HBox(children=(HTML(value='pt.Experiment'), FloatProgress(value=0.0, max=8.0), HTML(value='')))"
      ]
     },
     "metadata": {},
     "output_type": "display_data"
    },
    {
     "name": "stdout",
     "output_type": "stream",
     "text": [
      "\n"
     ]
    },
    {
     "data": {
      "text/html": [
       "<div>\n",
       "<style scoped>\n",
       "    .dataframe tbody tr th:only-of-type {\n",
       "        vertical-align: middle;\n",
       "    }\n",
       "\n",
       "    .dataframe tbody tr th {\n",
       "        vertical-align: top;\n",
       "    }\n",
       "\n",
       "    .dataframe thead th {\n",
       "        text-align: right;\n",
       "    }\n",
       "</style>\n",
       "<table border=\"1\" class=\"dataframe\">\n",
       "  <thead>\n",
       "    <tr style=\"text-align: right;\">\n",
       "      <th></th>\n",
       "      <th>name</th>\n",
       "      <th>nDCG@10</th>\n",
       "      <th>R(rel=2)@1000</th>\n",
       "      <th>AP(rel=2)@1000</th>\n",
       "      <th>RR(rel=2)@10</th>\n",
       "    </tr>\n",
       "  </thead>\n",
       "  <tbody>\n",
       "    <tr>\n",
       "      <th>0</th>\n",
       "      <td>colalbert.reranker.only_exact</td>\n",
       "      <td>0.505309</td>\n",
       "      <td>0.807223</td>\n",
       "      <td>0.289749</td>\n",
       "      <td>0.679343</td>\n",
       "    </tr>\n",
       "    <tr>\n",
       "      <th>1</th>\n",
       "      <td>colalbert.reranker.only_semantic</td>\n",
       "      <td>0.074438</td>\n",
       "      <td>0.807223</td>\n",
       "      <td>0.048966</td>\n",
       "      <td>0.088837</td>\n",
       "    </tr>\n",
       "    <tr>\n",
       "      <th>2</th>\n",
       "      <td>colalbert.reranker.only_special</td>\n",
       "      <td>0.459578</td>\n",
       "      <td>0.807223</td>\n",
       "      <td>0.283326</td>\n",
       "      <td>0.624405</td>\n",
       "    </tr>\n",
       "    <tr>\n",
       "      <th>3</th>\n",
       "      <td>colalbert.reranker.all_types</td>\n",
       "      <td>0.630362</td>\n",
       "      <td>0.807223</td>\n",
       "      <td>0.400878</td>\n",
       "      <td>0.751132</td>\n",
       "    </tr>\n",
       "    <tr>\n",
       "      <th>4</th>\n",
       "      <td>colalbert.only_exact</td>\n",
       "      <td>0.410674</td>\n",
       "      <td>0.714540</td>\n",
       "      <td>0.214767</td>\n",
       "      <td>0.585567</td>\n",
       "    </tr>\n",
       "    <tr>\n",
       "      <th>5</th>\n",
       "      <td>colalbert.only_semantic</td>\n",
       "      <td>0.007132</td>\n",
       "      <td>0.055049</td>\n",
       "      <td>0.001104</td>\n",
       "      <td>0.018519</td>\n",
       "    </tr>\n",
       "    <tr>\n",
       "      <th>6</th>\n",
       "      <td>colalbert.only_speical</td>\n",
       "      <td>0.341385</td>\n",
       "      <td>0.493947</td>\n",
       "      <td>0.163823</td>\n",
       "      <td>0.485082</td>\n",
       "    </tr>\n",
       "    <tr>\n",
       "      <th>7</th>\n",
       "      <td>colalbert.all_types</td>\n",
       "      <td>0.603873</td>\n",
       "      <td>0.792211</td>\n",
       "      <td>0.366756</td>\n",
       "      <td>0.745370</td>\n",
       "    </tr>\n",
       "  </tbody>\n",
       "</table>\n",
       "</div>"
      ],
      "text/plain": [
       "                               name   nDCG@10  R(rel=2)@1000  AP(rel=2)@1000  \\\n",
       "0     colalbert.reranker.only_exact  0.505309       0.807223        0.289749   \n",
       "1  colalbert.reranker.only_semantic  0.074438       0.807223        0.048966   \n",
       "2   colalbert.reranker.only_special  0.459578       0.807223        0.283326   \n",
       "3      colalbert.reranker.all_types  0.630362       0.807223        0.400878   \n",
       "4              colalbert.only_exact  0.410674       0.714540        0.214767   \n",
       "5           colalbert.only_semantic  0.007132       0.055049        0.001104   \n",
       "6            colalbert.only_speical  0.341385       0.493947        0.163823   \n",
       "7               colalbert.all_types  0.603873       0.792211        0.366756   \n",
       "\n",
       "   RR(rel=2)@10  \n",
       "0      0.679343  \n",
       "1      0.088837  \n",
       "2      0.624405  \n",
       "3      0.751132  \n",
       "4      0.585567  \n",
       "5      0.018519  \n",
       "6      0.485082  \n",
       "7      0.745370  "
      ]
     },
     "execution_count": 24,
     "metadata": {},
     "output_type": "execute_result"
    }
   ],
   "source": [
    "from pyterrier.measures import *\n",
    "res_colalbert_RQ3_3 = pt.Experiment(\n",
    "    [\n",
    "    rerank_only_exact,\n",
    "    rerank_only_semantic,\n",
    "    rerank_only_special,\n",
    "    rerank_all_types,\n",
    "    e2e_only_exact,\n",
    "    e2e_only_semantic,\n",
    "    e2e_only_special,\n",
    "    e2e_all_types\n",
    "    ],\n",
    "    pt.get_dataset(\"trec-deep-learning-passages\").get_topics('test-2020'),\n",
    "    pt.get_dataset(\"trec-deep-learning-passages\").get_qrels('test-2020'),\n",
    "\n",
    "    filter_by_qrels=True,\n",
    "    batch_size=100,verbose=True,\n",
    "    eval_metrics = [nDCG@10, R(rel=2)@1000,AP(rel=2)@1000,RR(rel=2)@10], # Note: using R@1000 here instead of R(rel=2)@1000 to match the measure used by the TCT-ColBERT paper\n",
    "    names=[\n",
    "      \n",
    "        \"colalbert.reranker.only_exact\",\"colalbert.reranker.only_semantic\",\n",
    "        \"colalbert.reranker.only_special\",\"colalbert.reranker.all_types\",\n",
    "        \"colalbert.only_exact\",\"colalbert.only_semantic\",\n",
    "        \"colalbert.only_speical\",\"colalbert.all_types\"]\n",
    ")\n",
    "\n",
    "res_colalbert_RQ3_3"
   ]
  },
  {
   "cell_type": "code",
   "execution_count": null,
   "id": "closed-supplement",
   "metadata": {},
   "outputs": [],
   "source": []
  }
 ],
 "metadata": {
  "kernelspec": {
   "display_name": "Python 3",
   "language": "python",
   "name": "python3"
  },
  "language_info": {
   "codemirror_mode": {
    "name": "ipython",
    "version": 3
   },
   "file_extension": ".py",
   "mimetype": "text/x-python",
   "name": "python",
   "nbconvert_exporter": "python",
   "pygments_lexer": "ipython3",
   "version": "3.7.9"
  }
 },
 "nbformat": 4,
 "nbformat_minor": 5
}
