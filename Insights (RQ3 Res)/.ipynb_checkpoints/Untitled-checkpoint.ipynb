{
 "cells": [
  {
   "cell_type": "code",
   "execution_count": 1,
   "id": "capable-clause",
   "metadata": {},
   "outputs": [
    {
     "name": "stderr",
     "output_type": "stream",
     "text": [
      "PyTerrier 0.9.1 has loaded Terrier 5.7 (built by craigm on 2022-11-10 18:30) and terrier-helper 0.0.7\n",
      "\n"
     ]
    }
   ],
   "source": [
    "import pyterrier as pt\n",
    "pt.init(tqdm='notebook')"
   ]
  },
  {
   "cell_type": "code",
   "execution_count": 2,
   "id": "effective-vacation",
   "metadata": {},
   "outputs": [
    {
     "name": "stdout",
     "output_type": "stream",
     "text": [
      "colbert.all_types.res.gz      reranker.all_types.res.gz\r\n",
      "colbert.only_exact.res.gz     reranker.only_exact.res.gz\r\n",
      "colbert.only_semantic.res.gz  reranker.only_semantic.res.gz\r\n",
      "colbert.only_speical.res.gz   reranker.only_special.res.gz\r\n"
     ]
    }
   ],
   "source": [
    "!ls ./ColBERT"
   ]
  },
  {
   "cell_type": "code",
   "execution_count": 4,
   "id": "suitable-promotion",
   "metadata": {},
   "outputs": [],
   "source": [
    "e2e_only_exact = pt.io.read_results(\"./ColBERT/colbert.only_exact.res.gz\")\n",
    "e2e_only_semantic = pt.io.read_results(\"./ColBERT/colbert.only_semantic.res.gz\")\n",
    "e2e_only_special = pt.io.read_results(\"./ColBERT/colbert.only_special.res.gz\")\n",
    "e2e_all_types = pt.io.read_results(\"./ColBERT/colbert.all_types.res.gz\")\n",
    "\n",
    "rerank_only_exact = pt.io.read_results(\"./ColBERT/reranker.only_exact.res.gz\")\n",
    "rerank_only_semantic = pt.io.read_results(\"./ColBERT/reranker.only_semantic.res.gz\")\n",
    "rerank_only_special = pt.io.read_results(\"./ColBERT/reranker.only_special.res.gz\")\n",
    "rerank_all_types = pt.io.read_results(\"./ColBERT/reranker.all_types.res.gz\")"
   ]
  },
  {
   "cell_type": "code",
   "execution_count": 12,
   "id": "adult-method",
   "metadata": {},
   "outputs": [
    {
     "data": {
      "application/vnd.jupyter.widget-view+json": {
       "model_id": "065be2f29561422d90e937e424a933be",
       "version_major": 2,
       "version_minor": 0
      },
      "text/plain": [
       "HBox(children=(HTML(value='pt.Experiment'), FloatProgress(value=0.0, max=8.0), HTML(value='')))"
      ]
     },
     "metadata": {},
     "output_type": "display_data"
    },
    {
     "name": "stdout",
     "output_type": "stream",
     "text": [
      "\n"
     ]
    },
    {
     "data": {
      "text/html": [
       "<div>\n",
       "<style scoped>\n",
       "    .dataframe tbody tr th:only-of-type {\n",
       "        vertical-align: middle;\n",
       "    }\n",
       "\n",
       "    .dataframe tbody tr th {\n",
       "        vertical-align: top;\n",
       "    }\n",
       "\n",
       "    .dataframe thead th {\n",
       "        text-align: right;\n",
       "    }\n",
       "</style>\n",
       "<table border=\"1\" class=\"dataframe\">\n",
       "  <thead>\n",
       "    <tr style=\"text-align: right;\">\n",
       "      <th></th>\n",
       "      <th>name</th>\n",
       "      <th>nDCG@10</th>\n",
       "      <th>R(rel=2)@1000</th>\n",
       "      <th>AP(rel=2)@1000</th>\n",
       "      <th>RR(rel=2)@10</th>\n",
       "    </tr>\n",
       "  </thead>\n",
       "  <tbody>\n",
       "    <tr>\n",
       "      <th>0</th>\n",
       "      <td>reranker.only_exact</td>\n",
       "      <td>0.526527</td>\n",
       "      <td>0.807223</td>\n",
       "      <td>0.334937</td>\n",
       "      <td>0.655093</td>\n",
       "    </tr>\n",
       "    <tr>\n",
       "      <th>1</th>\n",
       "      <td>reranker.only_semantic</td>\n",
       "      <td>0.138996</td>\n",
       "      <td>0.807223</td>\n",
       "      <td>0.097151</td>\n",
       "      <td>0.234744</td>\n",
       "    </tr>\n",
       "    <tr>\n",
       "      <th>2</th>\n",
       "      <td>reranker.only_special</td>\n",
       "      <td>0.518976</td>\n",
       "      <td>0.807223</td>\n",
       "      <td>0.334874</td>\n",
       "      <td>0.713889</td>\n",
       "    </tr>\n",
       "    <tr>\n",
       "      <th>3</th>\n",
       "      <td>reranker.all_types</td>\n",
       "      <td>0.706804</td>\n",
       "      <td>0.807223</td>\n",
       "      <td>0.483810</td>\n",
       "      <td>0.834877</td>\n",
       "    </tr>\n",
       "    <tr>\n",
       "      <th>4</th>\n",
       "      <td>colbert.only_exact</td>\n",
       "      <td>0.492102</td>\n",
       "      <td>0.771416</td>\n",
       "      <td>0.301504</td>\n",
       "      <td>0.646781</td>\n",
       "    </tr>\n",
       "    <tr>\n",
       "      <th>5</th>\n",
       "      <td>colbert.only_semantic</td>\n",
       "      <td>0.002188</td>\n",
       "      <td>0.113610</td>\n",
       "      <td>0.002780</td>\n",
       "      <td>0.004630</td>\n",
       "    </tr>\n",
       "    <tr>\n",
       "      <th>6</th>\n",
       "      <td>colbert.only_speical</td>\n",
       "      <td>0.383874</td>\n",
       "      <td>0.554282</td>\n",
       "      <td>0.224973</td>\n",
       "      <td>0.568078</td>\n",
       "    </tr>\n",
       "    <tr>\n",
       "      <th>7</th>\n",
       "      <td>colbert.all_types</td>\n",
       "      <td>0.689939</td>\n",
       "      <td>0.805692</td>\n",
       "      <td>0.472455</td>\n",
       "      <td>0.831790</td>\n",
       "    </tr>\n",
       "  </tbody>\n",
       "</table>\n",
       "</div>"
      ],
      "text/plain": [
       "                     name   nDCG@10  R(rel=2)@1000  AP(rel=2)@1000  \\\n",
       "0     reranker.only_exact  0.526527       0.807223        0.334937   \n",
       "1  reranker.only_semantic  0.138996       0.807223        0.097151   \n",
       "2   reranker.only_special  0.518976       0.807223        0.334874   \n",
       "3      reranker.all_types  0.706804       0.807223        0.483810   \n",
       "4      colbert.only_exact  0.492102       0.771416        0.301504   \n",
       "5   colbert.only_semantic  0.002188       0.113610        0.002780   \n",
       "6    colbert.only_speical  0.383874       0.554282        0.224973   \n",
       "7       colbert.all_types  0.689939       0.805692        0.472455   \n",
       "\n",
       "   RR(rel=2)@10  \n",
       "0      0.655093  \n",
       "1      0.234744  \n",
       "2      0.713889  \n",
       "3      0.834877  \n",
       "4      0.646781  \n",
       "5      0.004630  \n",
       "6      0.568078  \n",
       "7      0.831790  "
      ]
     },
     "execution_count": 12,
     "metadata": {},
     "output_type": "execute_result"
    }
   ],
   "source": [
    "from pyterrier.measures import *\n",
    "res_colbert_RQ3_3 = pt.Experiment(\n",
    "    [\n",
    "    rerank_only_exact,\n",
    "    rerank_only_semantic,\n",
    "    rerank_only_special,\n",
    "    rerank_all_types,\n",
    "    e2e_only_exact,\n",
    "    e2e_only_semantic,\n",
    "    e2e_only_special,\n",
    "    e2e_all_types\n",
    "    ],\n",
    "    pt.get_dataset(\"trec-deep-learning-passages\").get_topics('test-2020'),\n",
    "    pt.get_dataset(\"trec-deep-learning-passages\").get_qrels('test-2020'),\n",
    "\n",
    "    filter_by_qrels=True,\n",
    "    batch_size=100,verbose=True,\n",
    "    eval_metrics = [nDCG@10, R(rel=2)@1000,AP(rel=2)@1000,RR(rel=2)@10], # Note: using R@1000 here instead of R(rel=2)@1000 to match the measure used by the TCT-ColBERT paper\n",
    "    names=[\n",
    "      \n",
    "        \"reranker.only_exact\",\"reranker.only_semantic\",\n",
    "        \"reranker.only_special\",\"reranker.all_types\",\n",
    "        \"colbert.only_exact\",\"colbert.only_semantic\",\n",
    "        \"colbert.only_speical\",\"colbert.all_types\"]\n",
    ")\n",
    "\n",
    "res_colbert_RQ3_3"
   ]
  },
  {
   "cell_type": "code",
   "execution_count": 15,
   "id": "prescribed-representation",
   "metadata": {},
   "outputs": [
    {
     "name": "stdout",
     "output_type": "stream",
     "text": [
      "colroberta.all_types.res.gz\t    colroberta.reranker.all_types.res.gz\r\n",
      "colroberta.only_exact.res.gz\t    colroberta.reranker.only_exact.res.gz\r\n",
      "colroberta.only_semantic.res.gz     colroberta.reranker.only_semantic.res.gz\r\n",
      "colroberta.only_special.new.res.gz  colroberta.reranker.only_special.new.res.gz\r\n"
     ]
    }
   ],
   "source": [
    "!ls ./ColRoBERTa"
   ]
  },
  {
   "cell_type": "code",
   "execution_count": 17,
   "id": "spectacular-doctrine",
   "metadata": {},
   "outputs": [],
   "source": [
    "e2e_only_exact = pt.io.read_results(\"./ColRoBERTa/colroberta.only_exact.res.gz\")\n",
    "e2e_only_semantic = pt.io.read_results(\"./ColRoBERTa/colroberta.only_semantic.res.gz\")\n",
    "e2e_only_special = pt.io.read_results(\"./ColRoBERTa/colroberta.only_special.res.gz\")\n",
    "e2e_all_types = pt.io.read_results(\"./ColRoBERTa/colroberta.all_types.res.gz\")\n",
    "\n",
    "rerank_only_exact = pt.io.read_results(\"./ColRoBERTa/colroberta.reranker.only_exact.res.gz\")\n",
    "rerank_only_semantic = pt.io.read_results(\"./ColRoBERTa/colroberta.reranker.only_semantic.res.gz\")\n",
    "rerank_only_special = pt.io.read_results(\"./ColRoBERTa/colroberta.reranker.only_special.res.gz\")\n",
    "rerank_all_types = pt.io.read_results(\"./ColRoBERTa/colroberta.reranker.all_types.res.gz\")"
   ]
  },
  {
   "cell_type": "code",
   "execution_count": 18,
   "id": "herbal-responsibility",
   "metadata": {},
   "outputs": [
    {
     "data": {
      "application/vnd.jupyter.widget-view+json": {
       "model_id": "8fd42a28ef0a43bfba1d1216493ddfe6",
       "version_major": 2,
       "version_minor": 0
      },
      "text/plain": [
       "HBox(children=(HTML(value='pt.Experiment'), FloatProgress(value=0.0, max=8.0), HTML(value='')))"
      ]
     },
     "metadata": {},
     "output_type": "display_data"
    },
    {
     "name": "stdout",
     "output_type": "stream",
     "text": [
      "\n"
     ]
    },
    {
     "data": {
      "text/html": [
       "<div>\n",
       "<style scoped>\n",
       "    .dataframe tbody tr th:only-of-type {\n",
       "        vertical-align: middle;\n",
       "    }\n",
       "\n",
       "    .dataframe tbody tr th {\n",
       "        vertical-align: top;\n",
       "    }\n",
       "\n",
       "    .dataframe thead th {\n",
       "        text-align: right;\n",
       "    }\n",
       "</style>\n",
       "<table border=\"1\" class=\"dataframe\">\n",
       "  <thead>\n",
       "    <tr style=\"text-align: right;\">\n",
       "      <th></th>\n",
       "      <th>name</th>\n",
       "      <th>nDCG@10</th>\n",
       "      <th>R(rel=2)@1000</th>\n",
       "      <th>AP(rel=2)@1000</th>\n",
       "      <th>RR(rel=2)@10</th>\n",
       "    </tr>\n",
       "  </thead>\n",
       "  <tbody>\n",
       "    <tr>\n",
       "      <th>0</th>\n",
       "      <td>colroberta.reranker.only_exact</td>\n",
       "      <td>0.396841</td>\n",
       "      <td>0.807223</td>\n",
       "      <td>0.215926</td>\n",
       "      <td>0.541049</td>\n",
       "    </tr>\n",
       "    <tr>\n",
       "      <th>1</th>\n",
       "      <td>colroberta.reranker.only_semantic</td>\n",
       "      <td>0.260481</td>\n",
       "      <td>0.807223</td>\n",
       "      <td>0.179008</td>\n",
       "      <td>0.404240</td>\n",
       "    </tr>\n",
       "    <tr>\n",
       "      <th>2</th>\n",
       "      <td>colroberta.reranker.only_special</td>\n",
       "      <td>0.635353</td>\n",
       "      <td>0.807223</td>\n",
       "      <td>0.413755</td>\n",
       "      <td>0.832407</td>\n",
       "    </tr>\n",
       "    <tr>\n",
       "      <th>3</th>\n",
       "      <td>colroberta.reranker.all_types</td>\n",
       "      <td>0.695075</td>\n",
       "      <td>0.807223</td>\n",
       "      <td>0.462050</td>\n",
       "      <td>0.843541</td>\n",
       "    </tr>\n",
       "    <tr>\n",
       "      <th>4</th>\n",
       "      <td>colroberta.only_exact</td>\n",
       "      <td>0.349475</td>\n",
       "      <td>0.589295</td>\n",
       "      <td>0.167219</td>\n",
       "      <td>0.497531</td>\n",
       "    </tr>\n",
       "    <tr>\n",
       "      <th>5</th>\n",
       "      <td>colroberta.only_semantic</td>\n",
       "      <td>0.157172</td>\n",
       "      <td>0.302576</td>\n",
       "      <td>0.068653</td>\n",
       "      <td>0.287037</td>\n",
       "    </tr>\n",
       "    <tr>\n",
       "      <th>6</th>\n",
       "      <td>colroberta.only_speical</td>\n",
       "      <td>0.574166</td>\n",
       "      <td>0.705422</td>\n",
       "      <td>0.317664</td>\n",
       "      <td>0.816049</td>\n",
       "    </tr>\n",
       "    <tr>\n",
       "      <th>7</th>\n",
       "      <td>colroberta.all_types</td>\n",
       "      <td>0.666198</td>\n",
       "      <td>0.763290</td>\n",
       "      <td>0.423786</td>\n",
       "      <td>0.828395</td>\n",
       "    </tr>\n",
       "  </tbody>\n",
       "</table>\n",
       "</div>"
      ],
      "text/plain": [
       "                                name   nDCG@10  R(rel=2)@1000  AP(rel=2)@1000  \\\n",
       "0     colroberta.reranker.only_exact  0.396841       0.807223        0.215926   \n",
       "1  colroberta.reranker.only_semantic  0.260481       0.807223        0.179008   \n",
       "2   colroberta.reranker.only_special  0.635353       0.807223        0.413755   \n",
       "3      colroberta.reranker.all_types  0.695075       0.807223        0.462050   \n",
       "4              colroberta.only_exact  0.349475       0.589295        0.167219   \n",
       "5           colroberta.only_semantic  0.157172       0.302576        0.068653   \n",
       "6            colroberta.only_speical  0.574166       0.705422        0.317664   \n",
       "7               colroberta.all_types  0.666198       0.763290        0.423786   \n",
       "\n",
       "   RR(rel=2)@10  \n",
       "0      0.541049  \n",
       "1      0.404240  \n",
       "2      0.832407  \n",
       "3      0.843541  \n",
       "4      0.497531  \n",
       "5      0.287037  \n",
       "6      0.816049  \n",
       "7      0.828395  "
      ]
     },
     "execution_count": 18,
     "metadata": {},
     "output_type": "execute_result"
    }
   ],
   "source": [
    "from pyterrier.measures import *\n",
    "res_colroberta_RQ3_3 = pt.Experiment(\n",
    "    [\n",
    "    rerank_only_exact,\n",
    "    rerank_only_semantic,\n",
    "    rerank_only_special,\n",
    "    rerank_all_types,\n",
    "    e2e_only_exact,\n",
    "    e2e_only_semantic,\n",
    "    e2e_only_special,\n",
    "    e2e_all_types\n",
    "    ],\n",
    "    pt.get_dataset(\"trec-deep-learning-passages\").get_topics('test-2020'),\n",
    "    pt.get_dataset(\"trec-deep-learning-passages\").get_qrels('test-2020'),\n",
    "\n",
    "    filter_by_qrels=True,\n",
    "    batch_size=100,verbose=True,\n",
    "    eval_metrics = [nDCG@10, R(rel=2)@1000,AP(rel=2)@1000,RR(rel=2)@10], # Note: using R@1000 here instead of R(rel=2)@1000 to match the measure used by the TCT-ColBERT paper\n",
    "    names=[\n",
    "      \n",
    "        \"colroberta.reranker.only_exact\",\"colroberta.reranker.only_semantic\",\n",
    "        \"colroberta.reranker.only_special\",\"colroberta.reranker.all_types\",\n",
    "        \"colroberta.only_exact\",\"colroberta.only_semantic\",\n",
    "        \"colroberta.only_speical\",\"colroberta.all_types\"]\n",
    ")\n",
    "\n",
    "res_colroberta_RQ3_3"
   ]
  },
  {
   "cell_type": "code",
   "execution_count": null,
   "id": "ignored-despite",
   "metadata": {},
   "outputs": [],
   "source": []
  }
 ],
 "metadata": {
  "kernelspec": {
   "display_name": "Python 3",
   "language": "python",
   "name": "python3"
  },
  "language_info": {
   "codemirror_mode": {
    "name": "ipython",
    "version": 3
   },
   "file_extension": ".py",
   "mimetype": "text/x-python",
   "name": "python",
   "nbconvert_exporter": "python",
   "pygments_lexer": "ipython3",
   "version": "3.7.9"
  }
 },
 "nbformat": 4,
 "nbformat_minor": 5
}
