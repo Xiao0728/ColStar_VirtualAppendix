{
 "cells": [
  {
   "cell_type": "code",
   "execution_count": 1,
   "id": "mexican-sacrifice",
   "metadata": {},
   "outputs": [
    {
     "name": "stderr",
     "output_type": "stream",
     "text": [
      "PyTerrier 0.9.1 has loaded Terrier 5.7 (built by craigm on 2022-11-10 18:30) and terrier-helper 0.0.7\n",
      "\n"
     ]
    }
   ],
   "source": [
    "import pyterrier as pt\n",
    "pt.init(tqdm='notebook')"
   ]
  },
  {
   "cell_type": "markdown",
   "id": "guided-coordinator",
   "metadata": {},
   "source": [
    "# ColBERT"
   ]
  },
  {
   "cell_type": "code",
   "execution_count": 6,
   "id": "coordinate-cleaning",
   "metadata": {},
   "outputs": [],
   "source": [
    "e2e = pt.io.read_results(\"./ColBERT/colbert.e2e.dl20.res.gz\")\n",
    "rerank = pt.io.read_results(\"./ColBERT/colbert.rerank.dl20.res.gz\")"
   ]
  },
  {
   "cell_type": "code",
   "execution_count": 8,
   "id": "several-farming",
   "metadata": {},
   "outputs": [
    {
     "data": {
      "application/vnd.jupyter.widget-view+json": {
       "model_id": "d3fff154b55d4ef1a90ffac785ca77ce",
       "version_major": 2,
       "version_minor": 0
      },
      "text/plain": [
       "HBox(children=(HTML(value='pt.Experiment'), FloatProgress(value=0.0, max=12.0), HTML(value='')))"
      ]
     },
     "metadata": {},
     "output_type": "display_data"
    },
    {
     "name": "stdout",
     "output_type": "stream",
     "text": [
      "\n"
     ]
    },
    {
     "data": {
      "text/html": [
       "<div>\n",
       "<style scoped>\n",
       "    .dataframe tbody tr th:only-of-type {\n",
       "        vertical-align: middle;\n",
       "    }\n",
       "\n",
       "    .dataframe tbody tr th {\n",
       "        vertical-align: top;\n",
       "    }\n",
       "\n",
       "    .dataframe thead th {\n",
       "        text-align: right;\n",
       "    }\n",
       "</style>\n",
       "<table border=\"1\" class=\"dataframe\">\n",
       "  <thead>\n",
       "    <tr style=\"text-align: right;\">\n",
       "      <th></th>\n",
       "      <th>name</th>\n",
       "      <th>nDCG@10</th>\n",
       "      <th>RR(rel=2)@10</th>\n",
       "      <th>R(rel=2)@1000</th>\n",
       "      <th>AP(rel=2)@1000</th>\n",
       "    </tr>\n",
       "  </thead>\n",
       "  <tbody>\n",
       "    <tr>\n",
       "      <th>0</th>\n",
       "      <td>colbert-rerank</td>\n",
       "      <td>0.7068</td>\n",
       "      <td>0.8349</td>\n",
       "      <td>0.8072</td>\n",
       "      <td>0.4838</td>\n",
       "    </tr>\n",
       "    <tr>\n",
       "      <th>1</th>\n",
       "      <td>colbert-e2e</td>\n",
       "      <td>0.6899</td>\n",
       "      <td>0.8318</td>\n",
       "      <td>0.8057</td>\n",
       "      <td>0.4725</td>\n",
       "    </tr>\n",
       "  </tbody>\n",
       "</table>\n",
       "</div>"
      ],
      "text/plain": [
       "             name  nDCG@10  RR(rel=2)@10  R(rel=2)@1000  AP(rel=2)@1000\n",
       "0  colbert-rerank   0.7068        0.8349         0.8072          0.4838\n",
       "1     colbert-e2e   0.6899        0.8318         0.8057          0.4725"
      ]
     },
     "execution_count": 8,
     "metadata": {},
     "output_type": "execute_result"
    }
   ],
   "source": [
    "\n",
    "from pyterrier.measures import *\n",
    "res = pt.Experiment([rerank,e2e],\n",
    "    pt.get_dataset(\"trec-deep-learning-passages\").get_topics('test-2020'),\n",
    "    pt.get_dataset(\"trec-deep-learning-passages\").get_qrels('test-2020'),\n",
    "    batch_size=10, \n",
    "    verbose=True,round=4,\n",
    "    filter_by_qrels=True,\n",
    "    eval_metrics=[nDCG@10, RR(rel=2)@10, R(rel=2)@1000, AP(rel=2)@1000],\n",
    "    names=[\"colbert-rerank\",\"colbert-e2e\" ]\n",
    ")\n",
    "res"
   ]
  },
  {
   "cell_type": "markdown",
   "id": "cross-inspector",
   "metadata": {},
   "source": [
    "# ColminiLM"
   ]
  },
  {
   "cell_type": "code",
   "execution_count": 9,
   "id": "specific-metro",
   "metadata": {},
   "outputs": [
    {
     "name": "stdout",
     "output_type": "stream",
     "text": [
      "colminilm.e2e.dl19.res.gz  colminilm.rerank.dl19.res.gz\r\n",
      "colminilm.e2e.dl20.res.gz  colminilm.rerank.dl20.res.gz\r\n"
     ]
    }
   ],
   "source": [
    "!ls ./ColminiLM/"
   ]
  },
  {
   "cell_type": "code",
   "execution_count": 10,
   "id": "exceptional-waste",
   "metadata": {},
   "outputs": [],
   "source": [
    "e2e = pt.io.read_results(\"./ColminiLM/colminilm.e2e.dl20.res.gz\")\n",
    "rerank = pt.io.read_results(\"./ColminiLM/colminilm.rerank.dl20.res.gz\")"
   ]
  },
  {
   "cell_type": "code",
   "execution_count": 11,
   "id": "current-carry",
   "metadata": {},
   "outputs": [
    {
     "data": {
      "application/vnd.jupyter.widget-view+json": {
       "model_id": "44c6cac6ffa34d1da031442d905a2131",
       "version_major": 2,
       "version_minor": 0
      },
      "text/plain": [
       "HBox(children=(HTML(value='pt.Experiment'), FloatProgress(value=0.0, max=12.0), HTML(value='')))"
      ]
     },
     "metadata": {},
     "output_type": "display_data"
    },
    {
     "name": "stdout",
     "output_type": "stream",
     "text": [
      "\n"
     ]
    },
    {
     "data": {
      "text/html": [
       "<div>\n",
       "<style scoped>\n",
       "    .dataframe tbody tr th:only-of-type {\n",
       "        vertical-align: middle;\n",
       "    }\n",
       "\n",
       "    .dataframe tbody tr th {\n",
       "        vertical-align: top;\n",
       "    }\n",
       "\n",
       "    .dataframe thead th {\n",
       "        text-align: right;\n",
       "    }\n",
       "</style>\n",
       "<table border=\"1\" class=\"dataframe\">\n",
       "  <thead>\n",
       "    <tr style=\"text-align: right;\">\n",
       "      <th></th>\n",
       "      <th>name</th>\n",
       "      <th>nDCG@10</th>\n",
       "      <th>RR(rel=2)@10</th>\n",
       "      <th>R(rel=2)@1000</th>\n",
       "      <th>AP(rel=2)@1000</th>\n",
       "    </tr>\n",
       "  </thead>\n",
       "  <tbody>\n",
       "    <tr>\n",
       "      <th>0</th>\n",
       "      <td>colminilm-rerank</td>\n",
       "      <td>0.6847</td>\n",
       "      <td>0.8657</td>\n",
       "      <td>0.8072</td>\n",
       "      <td>0.4576</td>\n",
       "    </tr>\n",
       "    <tr>\n",
       "      <th>1</th>\n",
       "      <td>colminilm-e2e</td>\n",
       "      <td>0.6721</td>\n",
       "      <td>0.8602</td>\n",
       "      <td>0.7623</td>\n",
       "      <td>0.4341</td>\n",
       "    </tr>\n",
       "  </tbody>\n",
       "</table>\n",
       "</div>"
      ],
      "text/plain": [
       "               name  nDCG@10  RR(rel=2)@10  R(rel=2)@1000  AP(rel=2)@1000\n",
       "0  colminilm-rerank   0.6847        0.8657         0.8072          0.4576\n",
       "1     colminilm-e2e   0.6721        0.8602         0.7623          0.4341"
      ]
     },
     "execution_count": 11,
     "metadata": {},
     "output_type": "execute_result"
    }
   ],
   "source": [
    "\n",
    "from pyterrier.measures import *\n",
    "res_colminilm = pt.Experiment([rerank,e2e],\n",
    "    pt.get_dataset(\"trec-deep-learning-passages\").get_topics('test-2020'),\n",
    "    pt.get_dataset(\"trec-deep-learning-passages\").get_qrels('test-2020'),\n",
    "    batch_size=10, \n",
    "    verbose=True,round=4,\n",
    "    filter_by_qrels=True,\n",
    "    eval_metrics=[nDCG@10, RR(rel=2)@10, R(rel=2)@1000, AP(rel=2)@1000],\n",
    "    names=[\"colminilm-rerank\",\"colminilm-e2e\" ]\n",
    ")\n",
    "res_colminilm"
   ]
  },
  {
   "cell_type": "markdown",
   "id": "lucky-census",
   "metadata": {},
   "source": [
    "# ColRoBERTa"
   ]
  },
  {
   "cell_type": "code",
   "execution_count": 13,
   "id": "future-sperm",
   "metadata": {},
   "outputs": [
    {
     "name": "stdout",
     "output_type": "stream",
     "text": [
      "colroberta.e2e.dl19.res.gz  colroberta.rerank.dl19.res.gz\r\n",
      "colroberta.e2e.dl20.res.gz  colroberta.rerank.dl20.res.gz\r\n"
     ]
    }
   ],
   "source": [
    "!ls ./ColRoBERTa/"
   ]
  },
  {
   "cell_type": "code",
   "execution_count": 14,
   "id": "sapphire-preparation",
   "metadata": {},
   "outputs": [],
   "source": [
    "e2e = pt.io.read_results(\"./ColRoBERTa/colroberta.e2e.dl20.res.gz\")\n",
    "rerank = pt.io.read_results(\"./ColRoBERTa/colroberta.rerank.dl20.res.gz\")"
   ]
  },
  {
   "cell_type": "code",
   "execution_count": 15,
   "id": "affected-welding",
   "metadata": {},
   "outputs": [
    {
     "data": {
      "application/vnd.jupyter.widget-view+json": {
       "model_id": "d6b35f0605584474abc4172cb0aa744e",
       "version_major": 2,
       "version_minor": 0
      },
      "text/plain": [
       "HBox(children=(HTML(value='pt.Experiment'), FloatProgress(value=0.0, max=12.0), HTML(value='')))"
      ]
     },
     "metadata": {},
     "output_type": "display_data"
    },
    {
     "name": "stdout",
     "output_type": "stream",
     "text": [
      "\n"
     ]
    },
    {
     "data": {
      "text/html": [
       "<div>\n",
       "<style scoped>\n",
       "    .dataframe tbody tr th:only-of-type {\n",
       "        vertical-align: middle;\n",
       "    }\n",
       "\n",
       "    .dataframe tbody tr th {\n",
       "        vertical-align: top;\n",
       "    }\n",
       "\n",
       "    .dataframe thead th {\n",
       "        text-align: right;\n",
       "    }\n",
       "</style>\n",
       "<table border=\"1\" class=\"dataframe\">\n",
       "  <thead>\n",
       "    <tr style=\"text-align: right;\">\n",
       "      <th></th>\n",
       "      <th>name</th>\n",
       "      <th>nDCG@10</th>\n",
       "      <th>RR(rel=2)@10</th>\n",
       "      <th>R(rel=2)@1000</th>\n",
       "      <th>AP(rel=2)@1000</th>\n",
       "    </tr>\n",
       "  </thead>\n",
       "  <tbody>\n",
       "    <tr>\n",
       "      <th>0</th>\n",
       "      <td>colroberta-rerank</td>\n",
       "      <td>0.6951</td>\n",
       "      <td>0.8435</td>\n",
       "      <td>0.8072</td>\n",
       "      <td>0.4621</td>\n",
       "    </tr>\n",
       "    <tr>\n",
       "      <th>1</th>\n",
       "      <td>colroberta-e2e</td>\n",
       "      <td>0.6662</td>\n",
       "      <td>0.8284</td>\n",
       "      <td>0.7633</td>\n",
       "      <td>0.4238</td>\n",
       "    </tr>\n",
       "  </tbody>\n",
       "</table>\n",
       "</div>"
      ],
      "text/plain": [
       "                name  nDCG@10  RR(rel=2)@10  R(rel=2)@1000  AP(rel=2)@1000\n",
       "0  colroberta-rerank   0.6951        0.8435         0.8072          0.4621\n",
       "1     colroberta-e2e   0.6662        0.8284         0.7633          0.4238"
      ]
     },
     "execution_count": 15,
     "metadata": {},
     "output_type": "execute_result"
    }
   ],
   "source": [
    "\n",
    "from pyterrier.measures import *\n",
    "res_colroberta = pt.Experiment([rerank,e2e],\n",
    "    pt.get_dataset(\"trec-deep-learning-passages\").get_topics('test-2020'),\n",
    "    pt.get_dataset(\"trec-deep-learning-passages\").get_qrels('test-2020'),\n",
    "    batch_size=10, \n",
    "    verbose=True,round=4,\n",
    "    filter_by_qrels=True,\n",
    "    eval_metrics=[nDCG@10, RR(rel=2)@10, R(rel=2)@1000, AP(rel=2)@1000],\n",
    "    names=[\"colroberta-rerank\",\"colroberta-e2e\" ]\n",
    ")\n",
    "res_colroberta"
   ]
  },
  {
   "cell_type": "markdown",
   "id": "global-wilderness",
   "metadata": {},
   "source": [
    "# ColALBERT"
   ]
  },
  {
   "cell_type": "code",
   "execution_count": 16,
   "id": "danish-cyprus",
   "metadata": {},
   "outputs": [],
   "source": [
    "e2e = pt.io.read_results(\"./ColALBERT/colalbert.e2e.dl20.res.gz\")\n",
    "rerank = pt.io.read_results(\"./ColALBERT/colalbert.rerank.dl20.res.gz\")"
   ]
  },
  {
   "cell_type": "code",
   "execution_count": 17,
   "id": "imperial-roulette",
   "metadata": {},
   "outputs": [
    {
     "data": {
      "application/vnd.jupyter.widget-view+json": {
       "model_id": "b44597f4dbc94ba1800a35b50d04afca",
       "version_major": 2,
       "version_minor": 0
      },
      "text/plain": [
       "HBox(children=(HTML(value='pt.Experiment'), FloatProgress(value=0.0, max=12.0), HTML(value='')))"
      ]
     },
     "metadata": {},
     "output_type": "display_data"
    },
    {
     "name": "stdout",
     "output_type": "stream",
     "text": [
      "\n"
     ]
    },
    {
     "data": {
      "text/html": [
       "<div>\n",
       "<style scoped>\n",
       "    .dataframe tbody tr th:only-of-type {\n",
       "        vertical-align: middle;\n",
       "    }\n",
       "\n",
       "    .dataframe tbody tr th {\n",
       "        vertical-align: top;\n",
       "    }\n",
       "\n",
       "    .dataframe thead th {\n",
       "        text-align: right;\n",
       "    }\n",
       "</style>\n",
       "<table border=\"1\" class=\"dataframe\">\n",
       "  <thead>\n",
       "    <tr style=\"text-align: right;\">\n",
       "      <th></th>\n",
       "      <th>name</th>\n",
       "      <th>nDCG@10</th>\n",
       "      <th>RR(rel=2)@10</th>\n",
       "      <th>R(rel=2)@1000</th>\n",
       "      <th>AP(rel=2)@1000</th>\n",
       "    </tr>\n",
       "  </thead>\n",
       "  <tbody>\n",
       "    <tr>\n",
       "      <th>0</th>\n",
       "      <td>colalbert-rerank</td>\n",
       "      <td>0.6304</td>\n",
       "      <td>0.7511</td>\n",
       "      <td>0.8072</td>\n",
       "      <td>0.4009</td>\n",
       "    </tr>\n",
       "    <tr>\n",
       "      <th>1</th>\n",
       "      <td>colalbert-e2e</td>\n",
       "      <td>0.6039</td>\n",
       "      <td>0.7454</td>\n",
       "      <td>0.7922</td>\n",
       "      <td>0.3668</td>\n",
       "    </tr>\n",
       "  </tbody>\n",
       "</table>\n",
       "</div>"
      ],
      "text/plain": [
       "               name  nDCG@10  RR(rel=2)@10  R(rel=2)@1000  AP(rel=2)@1000\n",
       "0  colalbert-rerank   0.6304        0.7511         0.8072          0.4009\n",
       "1     colalbert-e2e   0.6039        0.7454         0.7922          0.3668"
      ]
     },
     "execution_count": 17,
     "metadata": {},
     "output_type": "execute_result"
    }
   ],
   "source": [
    "\n",
    "from pyterrier.measures import *\n",
    "res_colalbert = pt.Experiment([rerank,e2e],\n",
    "    pt.get_dataset(\"trec-deep-learning-passages\").get_topics('test-2020'),\n",
    "    pt.get_dataset(\"trec-deep-learning-passages\").get_qrels('test-2020'),\n",
    "    batch_size=10, \n",
    "    verbose=True,round=4,\n",
    "    filter_by_qrels=True,\n",
    "    eval_metrics=[nDCG@10, RR(rel=2)@10, R(rel=2)@1000, AP(rel=2)@1000],\n",
    "    names=[\"colalbert-rerank\",\"colalbert-e2e\" ]\n",
    ")\n",
    "res_colalbert"
   ]
  },
  {
   "cell_type": "markdown",
   "id": "basic-skill",
   "metadata": {},
   "source": [
    "# Conclusion:\n",
    "\n",
    "Based on the results of our replicability experiments, we find that:\n",
    "\n",
    "we succesfully extend ColBERT to Col$\\star$ by implementing the contextualised late interaction mechanism upon various pre-trained models with different tokenisers. In addition, we find that the base pre-trained model used for ColBERT can greatly impact the retrieval performance."
   ]
  },
  {
   "cell_type": "code",
   "execution_count": null,
   "id": "abroad-legend",
   "metadata": {},
   "outputs": [],
   "source": []
  },
  {
   "cell_type": "code",
   "execution_count": null,
   "id": "undefined-fight",
   "metadata": {},
   "outputs": [],
   "source": []
  }
 ],
 "metadata": {
  "kernelspec": {
   "display_name": "Python 3",
   "language": "python",
   "name": "python3"
  },
  "language_info": {
   "codemirror_mode": {
    "name": "ipython",
    "version": 3
   },
   "file_extension": ".py",
   "mimetype": "text/x-python",
   "name": "python",
   "nbconvert_exporter": "python",
   "pygments_lexer": "ipython3",
   "version": "3.7.9"
  }
 },
 "nbformat": 4,
 "nbformat_minor": 5
}
