{
 "cells": [
  {
   "cell_type": "code",
   "execution_count": 3,
   "id": "neural-sarah",
   "metadata": {},
   "outputs": [
    {
     "name": "stdout",
     "output_type": "stream",
     "text": [
      "Sun Jan  8 19:00:37 2023       \r\n",
      "+-----------------------------------------------------------------------------+\r\n",
      "| NVIDIA-SMI 470.74       Driver Version: 470.74       CUDA Version: 11.4     |\r\n",
      "|-------------------------------+----------------------+----------------------+\r\n",
      "| GPU  Name        Persistence-M| Bus-Id        Disp.A | Volatile Uncorr. ECC |\r\n",
      "| Fan  Temp  Perf  Pwr:Usage/Cap|         Memory-Usage | GPU-Util  Compute M. |\r\n",
      "|                               |                      |               MIG M. |\r\n",
      "|===============================+======================+======================|\r\n",
      "|   0  NVIDIA TITAN RTX    Off  | 00000000:DA:00.0 Off |                  N/A |\r\n",
      "| 41%   37C    P8    15W / 280W |   1858MiB / 24220MiB |      0%      Default |\r\n",
      "|                               |                      |                  N/A |\r\n",
      "+-------------------------------+----------------------+----------------------+\r\n",
      "                                                                               \r\n",
      "+-----------------------------------------------------------------------------+\r\n",
      "| Processes:                                                                  |\r\n",
      "|  GPU   GI   CI        PID   Type   Process name                  GPU Memory |\r\n",
      "|        ID   ID                                                   Usage      |\r\n",
      "|=============================================================================|\r\n",
      "+-----------------------------------------------------------------------------+\r\n"
     ]
    }
   ],
   "source": [
    "!nvidia-smi"
   ]
  },
  {
   "cell_type": "code",
   "execution_count": 4,
   "id": "necessary-tulsa",
   "metadata": {},
   "outputs": [],
   "source": [
    "# pip install transformers==4.10.0"
   ]
  },
  {
   "cell_type": "code",
   "execution_count": 9,
   "id": "artistic-madness",
   "metadata": {},
   "outputs": [
    {
     "data": {
      "text/plain": [
       "'4.10.0'"
      ]
     },
     "execution_count": 9,
     "metadata": {},
     "output_type": "execute_result"
    }
   ],
   "source": [
    "import transformers\n",
    "transformers.__version__"
   ]
  },
  {
   "cell_type": "code",
   "execution_count": 10,
   "id": "scheduled-switzerland",
   "metadata": {},
   "outputs": [
    {
     "name": "stderr",
     "output_type": "stream",
     "text": [
      "PyTerrier 0.9.2 has loaded Terrier 5.7 (built by craigm on 2022-11-10 18:30) and terrier-helper 0.0.7\n",
      "\n"
     ]
    }
   ],
   "source": [
    "import pyterrier as pt\n",
    "pt.init()"
   ]
  },
  {
   "cell_type": "code",
   "execution_count": 11,
   "id": "informational-match",
   "metadata": {},
   "outputs": [],
   "source": [
    "import pandas as pd\n",
    "qrelsDev = pt.get_dataset(\"trec-deep-learning-passages\").get_qrels('dev')\n",
    "topicsDev = pt.get_dataset(\"trec-deep-learning-passages\").get_topics('dev')\n",
    "topicsDev = topicsDev.merge(qrelsDev[qrelsDev[\"label\"] > 0][[\"qid\"]].drop_duplicates()).head(1000)\n",
    "\n",
    "qrels2019 = pt.get_dataset(\"trec-deep-learning-passages\").get_qrels('test-2019')\n",
    "topics2019 = pt.get_dataset(\"trec-deep-learning-passages\").get_topics('test-2019')\n",
    "topics2019 = topics2019.merge(qrels2019[qrels2019[\"label\"] > 0][[\"qid\"]].drop_duplicates())\n",
    "\n",
    "qrels_2above2019 = qrels2019.copy()\n",
    "qrels_2above2019[\"label\"] = qrels_2above2019[\"label\"].apply(lambda value: value if value > 1 else 0)\n",
    "\n",
    "\n",
    "topics2020 = pt.get_dataset(\"trec-deep-learning-passages\").get_topics('test-2020')\n",
    "qrels2020 = pt.get_dataset(\"trec-deep-learning-passages\").get_qrels('test-2020')\n",
    "topics2020 = topics2020.merge(qrels2020[qrels2020[\"label\"] > 0][[\"qid\"]].drop_duplicates())\n",
    "\n",
    "qrels_2above2020 = qrels2020.copy()\n",
    "qrels_2above2020[\"label\"] = qrels_2above2020[\"label\"].apply(lambda value: value if value > 1 else 0)\n",
    "\n"
   ]
  },
  {
   "cell_type": "code",
   "execution_count": 12,
   "id": "hungry-hydrogen",
   "metadata": {},
   "outputs": [],
   "source": [
    "import string\n",
    "import torch\n",
    "import torch.nn as nn\n",
    "\n",
    "# from transformers import RobertaPreTrainedModel, XLMRobertaConfig, XLMRobertaTokenizer, XLMRobertaModel\n",
    "\n",
    "from transformers import RobertaPreTrainedModel, RobertaConfig, RobertaModel, RobertaTokenizer\n",
    "#from transformers.modeling_roberta import RobertaPreTrainedModel, RobertaConfig, RobertaModel, RobertaTokenizer\n",
    "\n",
    "from colbert.parameters import DEVICE\n",
    "\n",
    "\n",
    "class ColRoberta(RobertaPreTrainedModel):\n",
    "    config_class = RobertaConfig\n",
    "\n",
    "    def __init__(self, config, query_maxlen, doc_maxlen, mask_punctuation, dim=128, similarity_metric='cosine'):\n",
    "\n",
    "        super(ColRoberta, self).__init__(config)\n",
    "        print(config)\n",
    "\n",
    "        self.query_maxlen = query_maxlen\n",
    "        self.doc_maxlen = doc_maxlen\n",
    "        self.similarity_metric = similarity_metric\n",
    "        self.dim = dim\n",
    "\n",
    "        self.mask_punctuation = mask_punctuation\n",
    "        self.skiplist = {}\n",
    "\n",
    "        self.tokenizer = RobertaTokenizer.from_pretrained('roberta-large')\n",
    "        self.tokenizer.add_tokens(['[unused0]'])\n",
    "        self.tokenizer.add_tokens(['[unused1]'])\n",
    "        \n",
    "        self.roberta = RobertaModel(config)\n",
    "        #self.roberta.resize_token_embeddings(len(self.tokenizer)) \n",
    "\n",
    "        self.linear = nn.Linear(config.hidden_size, dim, bias=False)\n",
    "\n",
    "        self.init_weights()\n",
    "\n",
    "    def forward(self, Q, D):\n",
    "        return self.score(self.query(*Q), self.doc(*D))\n",
    "\n",
    "    def query(self, input_ids, attention_mask):\n",
    "        input_ids, attention_mask = input_ids.to(DEVICE), attention_mask.to(DEVICE)\n",
    "        Q = self.roberta(input_ids, attention_mask=attention_mask)[0]\n",
    "        Q = self.linear(Q)\n",
    "\n",
    "        return torch.nn.functional.normalize(Q, p=2, dim=2)\n",
    "\n",
    "    def doc(self, input_ids, attention_mask, keep_dims=True):\n",
    "        input_ids, attention_mask = input_ids.to(DEVICE), attention_mask.to(DEVICE)\n",
    "        D = self.roberta(input_ids, attention_mask=attention_mask)[0]\n",
    "        D = self.linear(D)\n",
    "\n",
    "        mask = torch.tensor(self.mask(input_ids), device=DEVICE).unsqueeze(2).float()\n",
    "        D = D * mask\n",
    "\n",
    "        D = torch.nn.functional.normalize(D, p=2, dim=2)\n",
    "\n",
    "        if not keep_dims:\n",
    "            D, mask = D.cpu().to(dtype=torch.float16), mask.cpu().bool().squeeze(-1)\n",
    "            D = [d[mask[idx]] for idx, d in enumerate(D)]\n",
    "\n",
    "        return D\n",
    "\n",
    "    def score(self, Q, D):\n",
    "        if self.similarity_metric == 'cosine':\n",
    "            return (Q @ D.permute(0, 2, 1)).max(2).values.sum(1)\n",
    "\n",
    "        assert self.similarity_metric == 'l2'\n",
    "        return (-1.0 * ((Q.unsqueeze(2) - D.unsqueeze(1))**2).sum(-1)).max(-1).values.sum(-1)\n",
    "\n",
    "    def mask(self, input_ids):\n",
    "        mask = [[(x not in self.skiplist) and (x != 1) for x in d] for d in input_ids.cpu().tolist()]\n",
    "        return mask"
   ]
  },
  {
   "cell_type": "code",
   "execution_count": 6,
   "id": "premium-transformation",
   "metadata": {},
   "outputs": [],
   "source": [
    "# checkpoint_loc = \"http://www.dcs.gla.ac.uk/~craigm/colroberta-50000.dnn\"\n"
   ]
  },
  {
   "cell_type": "code",
   "execution_count": 7,
   "id": "genuine-integrity",
   "metadata": {},
   "outputs": [
    {
     "name": "stdout",
     "output_type": "stream",
     "text": [
      "ls: cannot access '/nfs/sean/workspace_xiao/ColRoberta/psg/train.py/ColRoberta/checkpoints/': No such file or directory\r\n"
     ]
    }
   ],
   "source": [
    "!ls /nfs/sean/workspace_xiao/ColRoberta/psg/train.py/ColRoberta/checkpoints/"
   ]
  },
  {
   "cell_type": "code",
   "execution_count": 7,
   "id": "marine-spencer",
   "metadata": {},
   "outputs": [],
   "source": [
    "# checkpoint_loc = \"/nfs/sean//workspace_xiao/ColRoberta/psg/train.py/ColRoberta_v1/checkpoints/colbert-200000.dnn\""
   ]
  },
  {
   "cell_type": "code",
   "execution_count": 8,
   "id": "combined-wallet",
   "metadata": {},
   "outputs": [],
   "source": [
    "\n",
    "# model = ColRoberta.from_pretrained('roberta-base', \n",
    "#                                      query_maxlen=32,\n",
    "#                                       doc_maxlen=180,\n",
    "#                                       dim=128,\n",
    "#                                       similarity_metric='cosine',\n",
    "#                                       mask_punctuation=True)\n",
    "# model.to(torch.device(\"cuda\"))\n",
    "# model.roberta.resize_token_embeddings(len(model.tokenizer))\n",
    "# from pyterrier_colbert import load_checkpoint\n",
    "# checkpoint = load_checkpoint(checkpoint_loc, model, do_print=True)"
   ]
  },
  {
   "cell_type": "code",
   "execution_count": 5,
   "id": "imported-edinburgh",
   "metadata": {},
   "outputs": [],
   "source": [
    "# import pyterrier_colbert.ranking\n",
    "# mof = pyterrier_colbert.ranking.ColBERTModelOnlyFactory((model, checkpoint))"
   ]
  },
  {
   "cell_type": "code",
   "execution_count": 6,
   "id": "superior-caribbean",
   "metadata": {},
   "outputs": [],
   "source": [
    "# mof.args.inference.doc_tokenizer.tok"
   ]
  },
  {
   "cell_type": "markdown",
   "id": "norwegian-lunch",
   "metadata": {},
   "source": [
    "# Inference ColRoberta E2E"
   ]
  },
  {
   "cell_type": "code",
   "execution_count": 8,
   "id": "assured-michigan",
   "metadata": {},
   "outputs": [
    {
     "name": "stdout",
     "output_type": "stream",
     "text": [
      "ColRoberta_v1\r\n"
     ]
    }
   ],
   "source": [
    "!ls /nfstrecdl//workspace_xiao/ColRoberta/psg/train.py/"
   ]
  },
  {
   "cell_type": "code",
   "execution_count": 7,
   "id": "compatible-latvia",
   "metadata": {},
   "outputs": [],
   "source": [
    "checkpoint_path = \"/nfstrecdl/workspace_xiao/ColRoberta/psg/train.py/ColRoberta_v1/checkpoints/colbert-90000.dnn\""
   ]
  },
  {
   "cell_type": "code",
   "execution_count": 8,
   "id": "stupid-mongolia",
   "metadata": {},
   "outputs": [],
   "source": [
    "# !ls /nfstrecdl/index_colroberta/msmarco_passage_index_colroberta90k_new"
   ]
  },
  {
   "cell_type": "code",
   "execution_count": 9,
   "id": "angry-healing",
   "metadata": {},
   "outputs": [
    {
     "name": "stdout",
     "output_type": "stream",
     "text": [
      "RobertaConfig {\n",
      "  \"_name_or_path\": \"roberta-base\",\n",
      "  \"architectures\": [\n",
      "    \"RobertaForMaskedLM\"\n",
      "  ],\n",
      "  \"attention_probs_dropout_prob\": 0.1,\n",
      "  \"bos_token_id\": 0,\n",
      "  \"classifier_dropout\": null,\n",
      "  \"eos_token_id\": 2,\n",
      "  \"gradient_checkpointing\": false,\n",
      "  \"hidden_act\": \"gelu\",\n",
      "  \"hidden_dropout_prob\": 0.1,\n",
      "  \"hidden_size\": 768,\n",
      "  \"initializer_range\": 0.02,\n",
      "  \"intermediate_size\": 3072,\n",
      "  \"layer_norm_eps\": 1e-05,\n",
      "  \"max_position_embeddings\": 514,\n",
      "  \"model_type\": \"roberta\",\n",
      "  \"num_attention_heads\": 12,\n",
      "  \"num_hidden_layers\": 12,\n",
      "  \"pad_token_id\": 1,\n",
      "  \"position_embedding_type\": \"absolute\",\n",
      "  \"transformers_version\": \"4.10.0\",\n",
      "  \"type_vocab_size\": 1,\n",
      "  \"use_cache\": true,\n",
      "  \"vocab_size\": 50265\n",
      "}\n",
      "\n"
     ]
    },
    {
     "name": "stderr",
     "output_type": "stream",
     "text": [
      "Some weights of the model checkpoint at roberta-base were not used when initializing ColBERT: ['lm_head.decoder.weight', 'lm_head.layer_norm.bias', 'lm_head.dense.weight', 'lm_head.dense.bias', 'lm_head.layer_norm.weight', 'lm_head.bias']\n",
      "- This IS expected if you are initializing ColBERT from the checkpoint of a model trained on another task or with another architecture (e.g. initializing a BertForSequenceClassification model from a BertForPreTraining model).\n",
      "- This IS NOT expected if you are initializing ColBERT from the checkpoint of a model that you expect to be exactly identical (initializing a BertForSequenceClassification model from a BertForSequenceClassification model).\n",
      "Some weights of ColBERT were not initialized from the model checkpoint at roberta-base and are newly initialized: ['linear.weight', 'roberta.embeddings.position_ids']\n",
      "You should probably TRAIN this model on a down-stream task to be able to use it for predictions and inference.\n"
     ]
    },
    {
     "name": "stdout",
     "output_type": "stream",
     "text": [
      "[Sep 28, 22:25:34] #> Loading model checkpoint.\n",
      "[Sep 28, 22:25:34] #> Loading checkpoint /nfstrecdl/workspace_xiao/ColRoberta/psg/train.py/ColRoberta_v1/checkpoints/colbert-90000.dnn\n",
      "[Sep 28, 22:25:38] #> checkpoint['epoch'] = 0\n",
      "[Sep 28, 22:25:38] #> checkpoint['batch'] = 90000\n",
      "-->Q_marker_token: [Q] -->tid 50265\n",
      "-->mask_token: <mask> -->tid 50264\n",
      "-->cls_token <s> -->tid 0\n",
      "-->sep_token </s> -->tid 2\n"
     ]
    }
   ],
   "source": [
    "\n",
    "from pyterrier_colbert.ranking import ColBERTFactory\n",
    "\n",
    "factory = ColBERTFactory(checkpoint_path, \"/nfstrecdl/index_colroberta/\",\"msmarco_passage_index_colroberta90k_new\",faiss_partitions=100,memtype='mem'\n",
    ")\n"
   ]
  },
  {
   "cell_type": "code",
   "execution_count": 10,
   "id": "metropolitan-planner",
   "metadata": {},
   "outputs": [
    {
     "name": "stdout",
     "output_type": "stream",
     "text": [
      "[Sep 28, 22:25:49] #> Loading the FAISS index from /nfstrecdl/index_colroberta/msmarco_passage_index_colroberta90k_new/ivfpq.100.faiss ..\n",
      "[Sep 28, 22:26:18] #> Building the emb2pid mapping..\n",
      "[Sep 28, 22:27:02] len(self.emb2pid) = 685796573\n",
      "Loading reranking index, memtype=mem\n"
     ]
    },
    {
     "name": "stderr",
     "output_type": "stream",
     "text": [
      "Loading index shards to memory: 100%|██████████| 127/127 [04:30<00:00,  2.13s/shard]\n"
     ]
    }
   ],
   "source": [
    "factory.faiss_index_on_gpu = False\n",
    "e2e = factory.end_to_end()"
   ]
  },
  {
   "cell_type": "code",
   "execution_count": 11,
   "id": "packed-charity",
   "metadata": {},
   "outputs": [
    {
     "name": "stdout",
     "output_type": "stream",
     "text": [
      "-->Q_marker_token: [Q] -->tid 50265\n",
      "-->mask_token: <mask> -->tid 50264\n",
      "-->cls_token <s> -->tid 0\n",
      "-->sep_token </s> -->tid 2\n",
      "[Sep 28, 22:31:39] #> Building the emb2tid mapping..\n",
      "685796573\n",
      ">>>vocab_size: 50267\n",
      "Loading doclens\n"
     ]
    }
   ],
   "source": [
    "fnt=factory.nn_term(df=True)"
   ]
  },
  {
   "cell_type": "code",
   "execution_count": 12,
   "id": "opponent-orbit",
   "metadata": {},
   "outputs": [
    {
     "data": {
      "text/plain": [
       "50267"
      ]
     },
     "execution_count": 12,
     "metadata": {},
     "output_type": "execute_result"
    }
   ],
   "source": [
    "len(fnt.inference.query_tokenizer.tok)"
   ]
  },
  {
   "cell_type": "code",
   "execution_count": 13,
   "id": "everyday-henry",
   "metadata": {},
   "outputs": [
    {
     "data": {
      "text/plain": [
       "50265"
      ]
     },
     "execution_count": 13,
     "metadata": {},
     "output_type": "execute_result"
    }
   ],
   "source": [
    "fnt.inference.query_tokenizer.tok.vocab_size"
   ]
  },
  {
   "cell_type": "code",
   "execution_count": 14,
   "id": "taken-singer",
   "metadata": {},
   "outputs": [
    {
     "data": {
      "text/plain": [
       "128"
      ]
     },
     "execution_count": 14,
     "metadata": {},
     "output_type": "execute_result"
    }
   ],
   "source": [
    "factory.args.dim"
   ]
  },
  {
   "cell_type": "markdown",
   "id": "posted-nomination",
   "metadata": {},
   "source": [
    "## No. of Parameters of ColRoberta"
   ]
  },
  {
   "cell_type": "code",
   "execution_count": 11,
   "id": "continuous-halloween",
   "metadata": {},
   "outputs": [],
   "source": [
    "# model = ColRoberta.from_pretrained(pretrained_model_name_or_path = 'roberta-base', \n",
    "#                                      query_maxlen=32,\n",
    "#                                       doc_maxlen=180,\n",
    "#                                       dim=128,\n",
    "#                                       similarity_metric='cosine',\n",
    "#                                       mask_punctuation=True)\n",
    "# model.to(torch.device(\"cuda\"))\n",
    "# model.roberta.resize_token_embeddings(len(model.tokenizer))\n",
    "# x = sum(p.numel() for p in model.parameters() if p.requires_grad)\n",
    "# x/100000"
   ]
  },
  {
   "cell_type": "markdown",
   "id": "nasty-explanation",
   "metadata": {},
   "source": [
    "# Reranking Evaluate"
   ]
  },
  {
   "cell_type": "code",
   "execution_count": 13,
   "id": "basic-genre",
   "metadata": {},
   "outputs": [
    {
     "name": "stdout",
     "output_type": "stream",
     "text": [
      "19:01:27.085 [main] WARN org.terrier.structures.BaseCompressingMetaIndex - Structure meta reading data file directly from disk (SLOW) - try index.meta.data-source=fileinmem in the index properties file. 1.9 GiB of memory would be required.\n"
     ]
    }
   ],
   "source": [
    "bm25_terrier_stemmed_text = pt.BatchRetrieve.from_dataset(\n",
    "    'msmarco_passage', \n",
    "    'terrier_stemmed_text', \n",
    "    wmodel='BM25',\n",
    "    metadata=['docno', 'text'], \n",
    "    num_results=1000)\n"
   ]
  },
  {
   "cell_type": "code",
   "execution_count": 14,
   "id": "sharing-plastic",
   "metadata": {},
   "outputs": [],
   "source": [
    "def make_pipe(checkpoint_loc):\n",
    "    model = ColRoberta.from_pretrained('roberta-base', \n",
    "                                         query_maxlen=32,\n",
    "                                          doc_maxlen=180,\n",
    "                                          dim=128,\n",
    "                                          similarity_metric='cosine',\n",
    "                                          mask_punctuation=True)\n",
    "    model.to(torch.device(\"cuda\"))\n",
    "    model.roberta.resize_token_embeddings(len(model.tokenizer))\n",
    "    from pyterrier_colbert import load_checkpoint\n",
    "    checkpoint = load_checkpoint(checkpoint_loc, model, do_print=True)\n",
    "    import pyterrier_colbert.ranking\n",
    "    mof = pyterrier_colbert.ranking.ColBERTModelOnlyFactory((model, checkpoint))\n",
    "    pipe = bm25_terrier_stemmed_text >> mof.text_scorer()\n",
    "    return pipe"
   ]
  },
  {
   "cell_type": "code",
   "execution_count": 19,
   "id": "wound-consideration",
   "metadata": {},
   "outputs": [],
   "source": [
    "checkpoint_path = \"/nfs/sean/workspace_xiao/ColRoberta/psg/train.py/ColRoberta_v1/checkpoints/colbert-90000.dnn\""
   ]
  },
  {
   "cell_type": "code",
   "execution_count": 20,
   "id": "sonic-passport",
   "metadata": {
    "scrolled": true
   },
   "outputs": [
    {
     "name": "stdout",
     "output_type": "stream",
     "text": [
      "RobertaConfig {\n",
      "  \"_name_or_path\": \"roberta-base\",\n",
      "  \"architectures\": [\n",
      "    \"RobertaForMaskedLM\"\n",
      "  ],\n",
      "  \"attention_probs_dropout_prob\": 0.1,\n",
      "  \"bos_token_id\": 0,\n",
      "  \"classifier_dropout\": null,\n",
      "  \"eos_token_id\": 2,\n",
      "  \"gradient_checkpointing\": false,\n",
      "  \"hidden_act\": \"gelu\",\n",
      "  \"hidden_dropout_prob\": 0.1,\n",
      "  \"hidden_size\": 768,\n",
      "  \"initializer_range\": 0.02,\n",
      "  \"intermediate_size\": 3072,\n",
      "  \"layer_norm_eps\": 1e-05,\n",
      "  \"max_position_embeddings\": 514,\n",
      "  \"model_type\": \"roberta\",\n",
      "  \"num_attention_heads\": 12,\n",
      "  \"num_hidden_layers\": 12,\n",
      "  \"pad_token_id\": 1,\n",
      "  \"position_embedding_type\": \"absolute\",\n",
      "  \"transformers_version\": \"4.10.0\",\n",
      "  \"type_vocab_size\": 1,\n",
      "  \"use_cache\": true,\n",
      "  \"vocab_size\": 50265\n",
      "}\n",
      "\n"
     ]
    },
    {
     "name": "stderr",
     "output_type": "stream",
     "text": [
      "Some weights of the model checkpoint at roberta-base were not used when initializing ColRoberta: ['lm_head.dense.bias', 'lm_head.bias', 'lm_head.decoder.weight', 'lm_head.layer_norm.bias', 'lm_head.layer_norm.weight', 'lm_head.dense.weight']\n",
      "- This IS expected if you are initializing ColRoberta from the checkpoint of a model trained on another task or with another architecture (e.g. initializing a BertForSequenceClassification model from a BertForPreTraining model).\n",
      "- This IS NOT expected if you are initializing ColRoberta from the checkpoint of a model that you expect to be exactly identical (initializing a BertForSequenceClassification model from a BertForSequenceClassification model).\n",
      "Some weights of ColRoberta were not initialized from the model checkpoint at roberta-base and are newly initialized: ['linear.weight', 'roberta.embeddings.position_ids']\n",
      "You should probably TRAIN this model on a down-stream task to be able to use it for predictions and inference.\n"
     ]
    },
    {
     "name": "stdout",
     "output_type": "stream",
     "text": [
      "[Jan 08, 19:02:57] #> Loading checkpoint /nfs/sean/workspace_xiao/ColRoberta/psg/train.py/ColRoberta_v1/checkpoints/colbert-90000.dnn\n",
      "[Jan 08, 19:03:00] #> checkpoint['epoch'] = 0\n",
      "[Jan 08, 19:03:00] #> checkpoint['batch'] = 90000\n",
      "-->Q_marker_token: [Q] -->tid 50265\n",
      "-->mask_token: <mask> -->tid 50264\n",
      "-->cls_token <s> -->tid 0\n",
      "-->sep_token </s> -->tid 2\n"
     ]
    }
   ],
   "source": [
    "reranker = make_pipe(checkpoint_path)\n"
   ]
  },
  {
   "cell_type": "code",
   "execution_count": 21,
   "id": "comprehensive-seattle",
   "metadata": {},
   "outputs": [
    {
     "name": "stderr",
     "output_type": "stream",
     "text": [
      "pt.Experiment: 100%|██████████| 43/43 [01:24<00:00,  1.97s/batches]\n"
     ]
    },
    {
     "data": {
      "text/html": [
       "<div>\n",
       "<style scoped>\n",
       "    .dataframe tbody tr th:only-of-type {\n",
       "        vertical-align: middle;\n",
       "    }\n",
       "\n",
       "    .dataframe tbody tr th {\n",
       "        vertical-align: top;\n",
       "    }\n",
       "\n",
       "    .dataframe thead th {\n",
       "        text-align: right;\n",
       "    }\n",
       "</style>\n",
       "<table border=\"1\" class=\"dataframe\">\n",
       "  <thead>\n",
       "    <tr style=\"text-align: right;\">\n",
       "      <th></th>\n",
       "      <th>name</th>\n",
       "      <th>RR(rel=2)@10</th>\n",
       "      <th>nDCG@10</th>\n",
       "      <th>nDCG@100</th>\n",
       "      <th>nDCG@1000</th>\n",
       "      <th>AP(rel=2)@100</th>\n",
       "      <th>AP(rel=2)@1000</th>\n",
       "      <th>R(rel=2)@100</th>\n",
       "      <th>R(rel=2)@1000</th>\n",
       "    </tr>\n",
       "  </thead>\n",
       "  <tbody>\n",
       "    <tr>\n",
       "      <th>0</th>\n",
       "      <td>bm25.colroberta_base.100k.dl2019</td>\n",
       "      <td>0.865891</td>\n",
       "      <td>0.69492</td>\n",
       "      <td>0.627033</td>\n",
       "      <td>0.679875</td>\n",
       "      <td>0.412032</td>\n",
       "      <td>0.458888</td>\n",
       "      <td>0.589269</td>\n",
       "      <td>0.755332</td>\n",
       "    </tr>\n",
       "  </tbody>\n",
       "</table>\n",
       "</div>"
      ],
      "text/plain": [
       "                               name  RR(rel=2)@10  nDCG@10  nDCG@100  \\\n",
       "0  bm25.colroberta_base.100k.dl2019      0.865891  0.69492  0.627033   \n",
       "\n",
       "   nDCG@1000  AP(rel=2)@100  AP(rel=2)@1000  R(rel=2)@100  R(rel=2)@1000  \n",
       "0   0.679875       0.412032        0.458888      0.589269       0.755332  "
      ]
     },
     "execution_count": 21,
     "metadata": {},
     "output_type": "execute_result"
    }
   ],
   "source": [
    "from pyterrier.measures import *\n",
    "pt.Experiment(\n",
    "    [\n",
    "        reranker,\n",
    "    ],\n",
    "    topics2019,\n",
    "    qrels2019,\n",
    "    batch_size=1, \n",
    "    verbose=True,\n",
    "    save_dir = \"./factor_res/\",\n",
    "    filter_by_qrels=True,\n",
    "    eval_metrics=[RR(rel=2)@10, nDCG@10, nDCG@100,nDCG@1000, AP(rel=2)@100,AP(rel=2)@1000,R(rel=2)@100,R(rel=2)@1000],\n",
    "    names=[\"bm25.colroberta_base.100k.dl2019\"]\n",
    ")"
   ]
  },
  {
   "cell_type": "code",
   "execution_count": null,
   "id": "mental-replacement",
   "metadata": {},
   "outputs": [],
   "source": []
  },
  {
   "cell_type": "code",
   "execution_count": 44,
   "id": "gothic-mustang",
   "metadata": {},
   "outputs": [
    {
     "name": "stderr",
     "output_type": "stream",
     "text": [
      "pt.Experiment:   2%|▏         | 2/86 [00:00<00:25,  3.27batches/s]\n"
     ]
    },
    {
     "data": {
      "text/html": [
       "<div>\n",
       "<style scoped>\n",
       "    .dataframe tbody tr th:only-of-type {\n",
       "        vertical-align: middle;\n",
       "    }\n",
       "\n",
       "    .dataframe tbody tr th {\n",
       "        vertical-align: top;\n",
       "    }\n",
       "\n",
       "    .dataframe thead th {\n",
       "        text-align: right;\n",
       "    }\n",
       "</style>\n",
       "<table border=\"1\" class=\"dataframe\">\n",
       "  <thead>\n",
       "    <tr style=\"text-align: right;\">\n",
       "      <th></th>\n",
       "      <th>name</th>\n",
       "      <th>RR(rel=2)@10</th>\n",
       "      <th>nDCG@10</th>\n",
       "      <th>nDCG@100</th>\n",
       "      <th>nDCG@1000</th>\n",
       "      <th>AP(rel=2)@100</th>\n",
       "      <th>AP(rel=2)@1000</th>\n",
       "      <th>R(rel=2)@100</th>\n",
       "      <th>R(rel=2)@1000</th>\n",
       "    </tr>\n",
       "  </thead>\n",
       "  <tbody>\n",
       "    <tr>\n",
       "      <th>0</th>\n",
       "      <td>bm25.1k.dl2019</td>\n",
       "      <td>0.639655</td>\n",
       "      <td>0.47954</td>\n",
       "      <td>0.487416</td>\n",
       "      <td>0.593433</td>\n",
       "      <td>0.232165</td>\n",
       "      <td>0.286448</td>\n",
       "      <td>0.488133</td>\n",
       "      <td>0.755332</td>\n",
       "    </tr>\n",
       "    <tr>\n",
       "      <th>1</th>\n",
       "      <td>bm25.1k.colroberta.dl2019</td>\n",
       "      <td>0.865891</td>\n",
       "      <td>0.69492</td>\n",
       "      <td>0.627033</td>\n",
       "      <td>0.679875</td>\n",
       "      <td>0.412032</td>\n",
       "      <td>0.458888</td>\n",
       "      <td>0.589269</td>\n",
       "      <td>0.755332</td>\n",
       "    </tr>\n",
       "  </tbody>\n",
       "</table>\n",
       "</div>"
      ],
      "text/plain": [
       "                        name  RR(rel=2)@10  nDCG@10  nDCG@100  nDCG@1000  \\\n",
       "0             bm25.1k.dl2019      0.639655  0.47954  0.487416   0.593433   \n",
       "1  bm25.1k.colroberta.dl2019      0.865891  0.69492  0.627033   0.679875   \n",
       "\n",
       "   AP(rel=2)@100  AP(rel=2)@1000  R(rel=2)@100  R(rel=2)@1000  \n",
       "0       0.232165        0.286448      0.488133       0.755332  \n",
       "1       0.412032        0.458888      0.589269       0.755332  "
      ]
     },
     "execution_count": 44,
     "metadata": {},
     "output_type": "execute_result"
    }
   ],
   "source": [
    "\n",
    "from pyterrier.measures import *\n",
    "pt.Experiment(\n",
    "    [\n",
    "        bm25_terrier_stemmed_text,\n",
    "        reranker,\n",
    "    ],\n",
    "    topics2019,\n",
    "    qrels2019,\n",
    "    batch_size=1, \n",
    "    verbose=True,\n",
    "    save_dir = \"./\",\n",
    "    filter_by_qrels=True,\n",
    "    eval_metrics=[RR(rel=2)@10, nDCG@10, nDCG@100,nDCG@1000, AP(rel=2)@100,AP(rel=2)@1000,R(rel=2)@100,R(rel=2)@1000],\n",
    "    names=[\"bm25.1k.dl2019\",\"bm25.1k.colroberta.dl2019\"]\n",
    ")"
   ]
  },
  {
   "cell_type": "code",
   "execution_count": 45,
   "id": "rocky-frontier",
   "metadata": {},
   "outputs": [
    {
     "name": "stderr",
     "output_type": "stream",
     "text": [
      "pt.Experiment:   2%|▏         | 2/108 [00:00<00:33,  3.21batches/s]\n"
     ]
    },
    {
     "data": {
      "text/html": [
       "<div>\n",
       "<style scoped>\n",
       "    .dataframe tbody tr th:only-of-type {\n",
       "        vertical-align: middle;\n",
       "    }\n",
       "\n",
       "    .dataframe tbody tr th {\n",
       "        vertical-align: top;\n",
       "    }\n",
       "\n",
       "    .dataframe thead th {\n",
       "        text-align: right;\n",
       "    }\n",
       "</style>\n",
       "<table border=\"1\" class=\"dataframe\">\n",
       "  <thead>\n",
       "    <tr style=\"text-align: right;\">\n",
       "      <th></th>\n",
       "      <th>name</th>\n",
       "      <th>RR(rel=2)@10</th>\n",
       "      <th>nDCG@10</th>\n",
       "      <th>nDCG@100</th>\n",
       "      <th>nDCG@1000</th>\n",
       "      <th>AP(rel=2)@100</th>\n",
       "      <th>AP(rel=2)@1000</th>\n",
       "      <th>R(rel=2)@100</th>\n",
       "      <th>R(rel=2)@1000</th>\n",
       "    </tr>\n",
       "  </thead>\n",
       "  <tbody>\n",
       "    <tr>\n",
       "      <th>0</th>\n",
       "      <td>bm25.1k.dl2020</td>\n",
       "      <td>0.614675</td>\n",
       "      <td>0.493627</td>\n",
       "      <td>0.502562</td>\n",
       "      <td>0.598059</td>\n",
       "      <td>0.275282</td>\n",
       "      <td>0.292988</td>\n",
       "      <td>0.583855</td>\n",
       "      <td>0.807223</td>\n",
       "    </tr>\n",
       "    <tr>\n",
       "      <th>1</th>\n",
       "      <td>bm25.1k.colroberta.dl2020</td>\n",
       "      <td>0.843541</td>\n",
       "      <td>0.694104</td>\n",
       "      <td>0.627657</td>\n",
       "      <td>0.689698</td>\n",
       "      <td>0.448627</td>\n",
       "      <td>0.462986</td>\n",
       "      <td>0.696473</td>\n",
       "      <td>0.807223</td>\n",
       "    </tr>\n",
       "  </tbody>\n",
       "</table>\n",
       "</div>"
      ],
      "text/plain": [
       "                        name  RR(rel=2)@10   nDCG@10  nDCG@100  nDCG@1000  \\\n",
       "0             bm25.1k.dl2020      0.614675  0.493627  0.502562   0.598059   \n",
       "1  bm25.1k.colroberta.dl2020      0.843541  0.694104  0.627657   0.689698   \n",
       "\n",
       "   AP(rel=2)@100  AP(rel=2)@1000  R(rel=2)@100  R(rel=2)@1000  \n",
       "0       0.275282        0.292988      0.583855       0.807223  \n",
       "1       0.448627        0.462986      0.696473       0.807223  "
      ]
     },
     "execution_count": 45,
     "metadata": {},
     "output_type": "execute_result"
    }
   ],
   "source": [
    "\n",
    "from pyterrier.measures import *\n",
    "pt.Experiment(\n",
    "    [\n",
    "        bm25_terrier_stemmed_text,\n",
    "        reranker,\n",
    "    ],\n",
    "    topics2020,\n",
    "    qrels2020,\n",
    "    batch_size=1, \n",
    "    verbose=True,\n",
    "    save_dir = \"./\",\n",
    "    filter_by_qrels=True,\n",
    "    eval_metrics=[RR(rel=2)@10, nDCG@10, nDCG@100,nDCG@1000, AP(rel=2)@100,AP(rel=2)@1000,R(rel=2)@100,R(rel=2)@1000],\n",
    "    names=[\"bm25.1k.dl2020\",\"bm25.1k.colroberta.dl2020\"]\n",
    ")"
   ]
  },
  {
   "cell_type": "code",
   "execution_count": null,
   "id": "applied-length",
   "metadata": {},
   "outputs": [],
   "source": []
  },
  {
   "cell_type": "code",
   "execution_count": 18,
   "id": "portuguese-canadian",
   "metadata": {},
   "outputs": [],
   "source": [
    "baseloc=\"/nfstrecdl/workspace_xiao/ColRoberta/psg/train.py/ColRoberta_v1/checkpoints/\""
   ]
  },
  {
   "cell_type": "code",
   "execution_count": 19,
   "id": "signed-malawi",
   "metadata": {},
   "outputs": [
    {
     "name": "stdout",
     "output_type": "stream",
     "text": [
      "colbert-10000.dnn   colbert-25000.dnn\tcolbert-50000.dnn  colbert-90000.dnn\r\n",
      "colbert-100000.dnn  colbert-30000.dnn\tcolbert-60000.dnn  colbert.dnn\r\n",
      "colbert-150000.dnn  colbert-300000.dnn\tcolbert-70000.dnn\r\n",
      "colbert-20000.dnn   colbert-32000.dnn\tcolbert-75000.dnn\r\n",
      "colbert-200000.dnn  colbert-40000.dnn\tcolbert-80000.dnn\r\n"
     ]
    }
   ],
   "source": [
    "!ls /nfstrecdl/workspace_xiao/ColRoberta/psg/train.py/ColRoberta_v1/checkpoints/"
   ]
  },
  {
   "cell_type": "code",
   "execution_count": null,
   "id": "documentary-coach",
   "metadata": {},
   "outputs": [],
   "source": []
  },
  {
   "cell_type": "code",
   "execution_count": null,
   "id": "incorporated-textbook",
   "metadata": {},
   "outputs": [],
   "source": []
  },
  {
   "cell_type": "code",
   "execution_count": 37,
   "id": "choice-reynolds",
   "metadata": {},
   "outputs": [
    {
     "data": {
      "text/html": [
       "<style  type=\"text/css\" >\n",
       "#T_4c8da_row3_col2,#T_4c8da_row9_col4,#T_4c8da_row10_col1,#T_4c8da_row10_col3{\n",
       "            font-weight:  bold;\n",
       "        }</style><table id=\"T_4c8da_\" ><thead>    <tr>        <th class=\"blank level0\" ></th>        <th class=\"col_heading level0 col0\" >name</th>        <th class=\"col_heading level0 col1\" >RR(rel=2)</th>        <th class=\"col_heading level0 col2\" >nDCG@10</th>        <th class=\"col_heading level0 col3\" >nDCG@100</th>        <th class=\"col_heading level0 col4\" >AP(rel=2)</th>    </tr></thead><tbody>\n",
       "                <tr>\n",
       "                        <th id=\"T_4c8da_level0_row0\" class=\"row_heading level0 row0\" >0</th>\n",
       "                        <td id=\"T_4c8da_row0_col0\" class=\"data row0 col0\" >bm25.1000</td>\n",
       "                        <td id=\"T_4c8da_row0_col1\" class=\"data row0 col1\" >0.641565</td>\n",
       "                        <td id=\"T_4c8da_row0_col2\" class=\"data row0 col2\" >0.479540</td>\n",
       "                        <td id=\"T_4c8da_row0_col3\" class=\"data row0 col3\" >0.487416</td>\n",
       "                        <td id=\"T_4c8da_row0_col4\" class=\"data row0 col4\" >0.286448</td>\n",
       "            </tr>\n",
       "            <tr>\n",
       "                        <th id=\"T_4c8da_level0_row1\" class=\"row_heading level0 row1\" >1</th>\n",
       "                        <td id=\"T_4c8da_row1_col0\" class=\"data row1 col0\" >ColRoberta-10k</td>\n",
       "                        <td id=\"T_4c8da_row1_col1\" class=\"data row1 col1\" >0.815223</td>\n",
       "                        <td id=\"T_4c8da_row1_col2\" class=\"data row1 col2\" >0.685080</td>\n",
       "                        <td id=\"T_4c8da_row1_col3\" class=\"data row1 col3\" >0.608477</td>\n",
       "                        <td id=\"T_4c8da_row1_col4\" class=\"data row1 col4\" >0.439132</td>\n",
       "            </tr>\n",
       "            <tr>\n",
       "                        <th id=\"T_4c8da_level0_row2\" class=\"row_heading level0 row2\" >2</th>\n",
       "                        <td id=\"T_4c8da_row2_col0\" class=\"data row2 col0\" >ColRoberta-20k</td>\n",
       "                        <td id=\"T_4c8da_row2_col1\" class=\"data row2 col1\" >0.836455</td>\n",
       "                        <td id=\"T_4c8da_row2_col2\" class=\"data row2 col2\" >0.690907</td>\n",
       "                        <td id=\"T_4c8da_row2_col3\" class=\"data row2 col3\" >0.618127</td>\n",
       "                        <td id=\"T_4c8da_row2_col4\" class=\"data row2 col4\" >0.444721</td>\n",
       "            </tr>\n",
       "            <tr>\n",
       "                        <th id=\"T_4c8da_level0_row3\" class=\"row_heading level0 row3\" >3</th>\n",
       "                        <td id=\"T_4c8da_row3_col0\" class=\"data row3 col0\" >ColRoberta-25k</td>\n",
       "                        <td id=\"T_4c8da_row3_col1\" class=\"data row3 col1\" >0.856880</td>\n",
       "                        <td id=\"T_4c8da_row3_col2\" class=\"data row3 col2\" >0.705925</td>\n",
       "                        <td id=\"T_4c8da_row3_col3\" class=\"data row3 col3\" >0.623856</td>\n",
       "                        <td id=\"T_4c8da_row3_col4\" class=\"data row3 col4\" >0.451830</td>\n",
       "            </tr>\n",
       "            <tr>\n",
       "                        <th id=\"T_4c8da_level0_row4\" class=\"row_heading level0 row4\" >4</th>\n",
       "                        <td id=\"T_4c8da_row4_col0\" class=\"data row4 col0\" >ColRoberta-30k</td>\n",
       "                        <td id=\"T_4c8da_row4_col1\" class=\"data row4 col1\" >0.844961</td>\n",
       "                        <td id=\"T_4c8da_row4_col2\" class=\"data row4 col2\" >0.691829</td>\n",
       "                        <td id=\"T_4c8da_row4_col3\" class=\"data row4 col3\" >0.618469</td>\n",
       "                        <td id=\"T_4c8da_row4_col4\" class=\"data row4 col4\" >0.446472</td>\n",
       "            </tr>\n",
       "            <tr>\n",
       "                        <th id=\"T_4c8da_level0_row5\" class=\"row_heading level0 row5\" >5</th>\n",
       "                        <td id=\"T_4c8da_row5_col0\" class=\"data row5 col0\" >ColRoberta-32k</td>\n",
       "                        <td id=\"T_4c8da_row5_col1\" class=\"data row5 col1\" >0.825581</td>\n",
       "                        <td id=\"T_4c8da_row5_col2\" class=\"data row5 col2\" >0.691866</td>\n",
       "                        <td id=\"T_4c8da_row5_col3\" class=\"data row5 col3\" >0.617523</td>\n",
       "                        <td id=\"T_4c8da_row5_col4\" class=\"data row5 col4\" >0.446711</td>\n",
       "            </tr>\n",
       "            <tr>\n",
       "                        <th id=\"T_4c8da_level0_row6\" class=\"row_heading level0 row6\" >6</th>\n",
       "                        <td id=\"T_4c8da_row6_col0\" class=\"data row6 col0\" >ColRoberta-40k</td>\n",
       "                        <td id=\"T_4c8da_row6_col1\" class=\"data row6 col1\" >0.846750</td>\n",
       "                        <td id=\"T_4c8da_row6_col2\" class=\"data row6 col2\" >0.693977</td>\n",
       "                        <td id=\"T_4c8da_row6_col3\" class=\"data row6 col3\" >0.621379</td>\n",
       "                        <td id=\"T_4c8da_row6_col4\" class=\"data row6 col4\" >0.447780</td>\n",
       "            </tr>\n",
       "            <tr>\n",
       "                        <th id=\"T_4c8da_level0_row7\" class=\"row_heading level0 row7\" >7</th>\n",
       "                        <td id=\"T_4c8da_row7_col0\" class=\"data row7 col0\" >ColRoberta-50k</td>\n",
       "                        <td id=\"T_4c8da_row7_col1\" class=\"data row7 col1\" >0.869767</td>\n",
       "                        <td id=\"T_4c8da_row7_col2\" class=\"data row7 col2\" >0.691991</td>\n",
       "                        <td id=\"T_4c8da_row7_col3\" class=\"data row7 col3\" >0.622844</td>\n",
       "                        <td id=\"T_4c8da_row7_col4\" class=\"data row7 col4\" >0.453577</td>\n",
       "            </tr>\n",
       "            <tr>\n",
       "                        <th id=\"T_4c8da_level0_row8\" class=\"row_heading level0 row8\" >8</th>\n",
       "                        <td id=\"T_4c8da_row8_col0\" class=\"data row8 col0\" >ColRoberta-60k</td>\n",
       "                        <td id=\"T_4c8da_row8_col1\" class=\"data row8 col1\" >0.862901</td>\n",
       "                        <td id=\"T_4c8da_row8_col2\" class=\"data row8 col2\" >0.691089</td>\n",
       "                        <td id=\"T_4c8da_row8_col3\" class=\"data row8 col3\" >0.622163</td>\n",
       "                        <td id=\"T_4c8da_row8_col4\" class=\"data row8 col4\" >0.454126</td>\n",
       "            </tr>\n",
       "            <tr>\n",
       "                        <th id=\"T_4c8da_level0_row9\" class=\"row_heading level0 row9\" >9</th>\n",
       "                        <td id=\"T_4c8da_row9_col0\" class=\"data row9 col0\" >ColRoberta-70k</td>\n",
       "                        <td id=\"T_4c8da_row9_col1\" class=\"data row9 col1\" >0.862403</td>\n",
       "                        <td id=\"T_4c8da_row9_col2\" class=\"data row9 col2\" >0.695896</td>\n",
       "                        <td id=\"T_4c8da_row9_col3\" class=\"data row9 col3\" >0.628490</td>\n",
       "                        <td id=\"T_4c8da_row9_col4\" class=\"data row9 col4\" >0.460051</td>\n",
       "            </tr>\n",
       "            <tr>\n",
       "                        <th id=\"T_4c8da_level0_row10\" class=\"row_heading level0 row10\" >10</th>\n",
       "                        <td id=\"T_4c8da_row10_col0\" class=\"data row10 col0\" >ColRoberta-80k</td>\n",
       "                        <td id=\"T_4c8da_row10_col1\" class=\"data row10 col1\" >0.872093</td>\n",
       "                        <td id=\"T_4c8da_row10_col2\" class=\"data row10 col2\" >0.702140</td>\n",
       "                        <td id=\"T_4c8da_row10_col3\" class=\"data row10 col3\" >0.630870</td>\n",
       "                        <td id=\"T_4c8da_row10_col4\" class=\"data row10 col4\" >0.459880</td>\n",
       "            </tr>\n",
       "            <tr>\n",
       "                        <th id=\"T_4c8da_level0_row11\" class=\"row_heading level0 row11\" >11</th>\n",
       "                        <td id=\"T_4c8da_row11_col0\" class=\"data row11 col0\" >ColRoberta-90k</td>\n",
       "                        <td id=\"T_4c8da_row11_col1\" class=\"data row11 col1\" >0.868605</td>\n",
       "                        <td id=\"T_4c8da_row11_col2\" class=\"data row11 col2\" >0.695532</td>\n",
       "                        <td id=\"T_4c8da_row11_col3\" class=\"data row11 col3\" >0.626954</td>\n",
       "                        <td id=\"T_4c8da_row11_col4\" class=\"data row11 col4\" >0.459247</td>\n",
       "            </tr>\n",
       "            <tr>\n",
       "                        <th id=\"T_4c8da_level0_row12\" class=\"row_heading level0 row12\" >12</th>\n",
       "                        <td id=\"T_4c8da_row12_col0\" class=\"data row12 col0\" >ColRoberta-100k</td>\n",
       "                        <td id=\"T_4c8da_row12_col1\" class=\"data row12 col1\" >0.856212</td>\n",
       "                        <td id=\"T_4c8da_row12_col2\" class=\"data row12 col2\" >0.698656</td>\n",
       "                        <td id=\"T_4c8da_row12_col3\" class=\"data row12 col3\" >0.624302</td>\n",
       "                        <td id=\"T_4c8da_row12_col4\" class=\"data row12 col4\" >0.456905</td>\n",
       "            </tr>\n",
       "            <tr>\n",
       "                        <th id=\"T_4c8da_level0_row13\" class=\"row_heading level0 row13\" >13</th>\n",
       "                        <td id=\"T_4c8da_row13_col0\" class=\"data row13 col0\" >ColRoberta-150k</td>\n",
       "                        <td id=\"T_4c8da_row13_col1\" class=\"data row13 col1\" >0.822121</td>\n",
       "                        <td id=\"T_4c8da_row13_col2\" class=\"data row13 col2\" >0.690698</td>\n",
       "                        <td id=\"T_4c8da_row13_col3\" class=\"data row13 col3\" >0.621669</td>\n",
       "                        <td id=\"T_4c8da_row13_col4\" class=\"data row13 col4\" >0.453977</td>\n",
       "            </tr>\n",
       "            <tr>\n",
       "                        <th id=\"T_4c8da_level0_row14\" class=\"row_heading level0 row14\" >14</th>\n",
       "                        <td id=\"T_4c8da_row14_col0\" class=\"data row14 col0\" >ColRoberta-200k</td>\n",
       "                        <td id=\"T_4c8da_row14_col1\" class=\"data row14 col1\" >0.841085</td>\n",
       "                        <td id=\"T_4c8da_row14_col2\" class=\"data row14 col2\" >0.696354</td>\n",
       "                        <td id=\"T_4c8da_row14_col3\" class=\"data row14 col3\" >0.626930</td>\n",
       "                        <td id=\"T_4c8da_row14_col4\" class=\"data row14 col4\" >0.454515</td>\n",
       "            </tr>\n",
       "            <tr>\n",
       "                        <th id=\"T_4c8da_level0_row15\" class=\"row_heading level0 row15\" >15</th>\n",
       "                        <td id=\"T_4c8da_row15_col0\" class=\"data row15 col0\" >ColRoberta-300k</td>\n",
       "                        <td id=\"T_4c8da_row15_col1\" class=\"data row15 col1\" >0.864341</td>\n",
       "                        <td id=\"T_4c8da_row15_col2\" class=\"data row15 col2\" >0.705536</td>\n",
       "                        <td id=\"T_4c8da_row15_col3\" class=\"data row15 col3\" >0.620362</td>\n",
       "                        <td id=\"T_4c8da_row15_col4\" class=\"data row15 col4\" >0.454165</td>\n",
       "            </tr>\n",
       "    </tbody></table>"
      ],
      "text/plain": [
       "<pandas.io.formats.style.Styler at 0x7f8d86434f90>"
      ]
     },
     "execution_count": 37,
     "metadata": {},
     "output_type": "execute_result"
    }
   ],
   "source": [
    "from pyterrier.measures import *\n",
    "pt.Experiment(\n",
    "    [bm25_terrier_stemmed_text, pipe_10k,pipe_20k,pipe_25k,pipe_30k,pipe_32k,pipe_40k,\n",
    "     pipe_50k,pipe_60k,pipe_70k,pipe_80k,pipe_90k,pipe_100k,\n",
    "     pipe_150k,pipe_200k, pipe_300k],\n",
    "    pt.get_dataset('msmarco_passage').get_topics('test-2019'),\n",
    "    pt.get_dataset('msmarco_passage').get_qrels('test-2019'),\n",
    "    batch_size=200,\n",
    "    filter_by_qrels=True,\n",
    "    eval_metrics=[RR(rel=2), nDCG@10, nDCG@100, AP(rel=2)],highlight=\"bold\",\n",
    "    names=[\"bm25.1000\",\"ColRoberta-10k\",\"ColRoberta-20k\",\"ColRoberta-25k\",\"ColRoberta-30k\",\"ColRoberta-32k\",\"ColRoberta-40k\",\n",
    "           \"ColRoberta-50k\",\"ColRoberta-60k\",\"ColRoberta-70k\",\"ColRoberta-80k\",\"ColRoberta-90k\",\"ColRoberta-100k\",\n",
    "           \"ColRoberta-150k\",\"ColRoberta-200k\",\"ColRoberta-300k\"#\"ColAbert-400k\"\n",
    "          ]\n",
    ")"
   ]
  },
  {
   "cell_type": "code",
   "execution_count": null,
   "id": "printable-jones",
   "metadata": {},
   "outputs": [],
   "source": []
  },
  {
   "cell_type": "code",
   "execution_count": null,
   "id": "illegal-sheet",
   "metadata": {},
   "outputs": [],
   "source": []
  },
  {
   "cell_type": "code",
   "execution_count": null,
   "id": "difficult-bangladesh",
   "metadata": {},
   "outputs": [],
   "source": []
  },
  {
   "cell_type": "markdown",
   "id": "impressive-transfer",
   "metadata": {},
   "source": [
    "# E2E Evaluate"
   ]
  },
  {
   "cell_type": "code",
   "execution_count": null,
   "id": "cross-damage",
   "metadata": {},
   "outputs": [],
   "source": [
    "#avg seperate\n",
    "newQ = \"\"\n",
    "fnt=factory.nn_term(df=True)\n",
    "for i, tid in enumerate(res1.iloc[0].query_toks):\n",
    "    newQ+=\" \"+fnt.inference.query_tokenizer.tok.decode([tid])\n",
    "#     newQ+= \"%s^%0.3f \" % ( fnt.inference.query_tokenizer.tok.decode([tid]), res.iloc[0].query_weights[i] )\n",
    "    \n",
    "newQ"
   ]
  },
  {
   "cell_type": "code",
   "execution_count": 12,
   "id": "legendary-promotion",
   "metadata": {},
   "outputs": [],
   "source": [
    "# fnt=factory.nn_term(df=True)\n",
    "# colbert_prf_rank = factory.prf(rerank=False)\n",
    "# colbert_prf_rerank = factory.prf(rerank=True)"
   ]
  },
  {
   "cell_type": "code",
   "execution_count": 27,
   "id": "micro-subsection",
   "metadata": {},
   "outputs": [],
   "source": [
    "res = pt.io.read_results(\"./colroberta.dl2019.newRes.res.gz\")\n",
    "colrobertaT=pt.transformer.SourceTransformer(res)\n",
    "\n",
    "res1 = pt.io.read_results(\"/nfsxiao/DenseQEResult/ColBERT-PRF-ResFiles/ColBERT-E2E/E2E.2019.res.gz\")\n",
    "e2eT=pt.transformer.SourceTransformer(res1)\n",
    "res = pt.io.read_results(\"./colroberta.dl2019.newRes.res.gz\")\n",
    "colrobertaT=pt.transformer.SourceTransformer(res)\n",
    "\n",
    "res1 = pt.io.read_results(\"/nfsxiao/DenseQEResult/ColBERT-PRF-ResFiles/ColBERT-E2E/E2E.2019.res.gz\")\n",
    "e2eT=pt.transformer.SourceTransformer(res1)"
   ]
  },
  {
   "cell_type": "code",
   "execution_count": 28,
   "id": "cognitive-cyprus",
   "metadata": {},
   "outputs": [
    {
     "name": "stderr",
     "output_type": "stream",
     "text": [
      "pt.Experiment: 100%|██████████| 86/86 [00:05<00:00, 15.32batches/s]\n"
     ]
    },
    {
     "data": {
      "text/html": [
       "<div>\n",
       "<style scoped>\n",
       "    .dataframe tbody tr th:only-of-type {\n",
       "        vertical-align: middle;\n",
       "    }\n",
       "\n",
       "    .dataframe tbody tr th {\n",
       "        vertical-align: top;\n",
       "    }\n",
       "\n",
       "    .dataframe thead th {\n",
       "        text-align: right;\n",
       "    }\n",
       "</style>\n",
       "<table border=\"1\" class=\"dataframe\">\n",
       "  <thead>\n",
       "    <tr style=\"text-align: right;\">\n",
       "      <th></th>\n",
       "      <th>name</th>\n",
       "      <th>RR</th>\n",
       "      <th>nDCG@10</th>\n",
       "      <th>nDCG@100</th>\n",
       "      <th>nDCG@1000</th>\n",
       "      <th>AP(rel=2)@100</th>\n",
       "      <th>AP(rel=2)@1000</th>\n",
       "      <th>R(rel=2)@100</th>\n",
       "      <th>R(rel=2)@1000</th>\n",
       "    </tr>\n",
       "  </thead>\n",
       "  <tbody>\n",
       "    <tr>\n",
       "      <th>0</th>\n",
       "      <td>colbert.dl2019</td>\n",
       "      <td>0.939922</td>\n",
       "      <td>0.693407</td>\n",
       "      <td>0.602951</td>\n",
       "      <td>0.672190</td>\n",
       "      <td>0.386963</td>\n",
       "      <td>0.430964</td>\n",
       "      <td>0.578838</td>\n",
       "      <td>0.789166</td>\n",
       "    </tr>\n",
       "    <tr>\n",
       "      <th>1</th>\n",
       "      <td>colroberta.dl2019</td>\n",
       "      <td>0.899723</td>\n",
       "      <td>0.683896</td>\n",
       "      <td>0.582139</td>\n",
       "      <td>0.629057</td>\n",
       "      <td>0.389507</td>\n",
       "      <td>0.426179</td>\n",
       "      <td>0.565804</td>\n",
       "      <td>0.738065</td>\n",
       "    </tr>\n",
       "  </tbody>\n",
       "</table>\n",
       "</div>"
      ],
      "text/plain": [
       "                name        RR   nDCG@10  nDCG@100  nDCG@1000  AP(rel=2)@100  \\\n",
       "0     colbert.dl2019  0.939922  0.693407  0.602951   0.672190       0.386963   \n",
       "1  colroberta.dl2019  0.899723  0.683896  0.582139   0.629057       0.389507   \n",
       "\n",
       "   AP(rel=2)@1000  R(rel=2)@100  R(rel=2)@1000  \n",
       "0        0.430964      0.578838       0.789166  \n",
       "1        0.426179      0.565804       0.738065  "
      ]
     },
     "execution_count": 28,
     "metadata": {},
     "output_type": "execute_result"
    }
   ],
   "source": [
    "\n",
    "from pyterrier.measures import *\n",
    "pt.Experiment(\n",
    "    [\n",
    "        e2eT,\n",
    "        colrobertaT,\n",
    "    ],\n",
    "    topics2019,\n",
    "    qrels2019,\n",
    "    batch_size=1, \n",
    "    verbose=True,\n",
    "    filter_by_qrels=True,\n",
    "    eval_metrics=[RR, nDCG@10, nDCG@100,nDCG@1000, AP(rel=2)@100,AP(rel=2)@1000,R(rel=2)@100,R(rel=2)@1000],\n",
    "    names=[\"colbert.dl2019\",\"colroberta.dl2019\"]\n",
    ")"
   ]
  },
  {
   "cell_type": "code",
   "execution_count": 27,
   "id": "inner-mystery",
   "metadata": {},
   "outputs": [
    {
     "name": "stderr",
     "output_type": "stream",
     "text": [
      "pt.Experiment: 100%|██████████| 43/43 [34:37<00:00, 48.32s/batches]\n"
     ]
    },
    {
     "data": {
      "text/html": [
       "<div>\n",
       "<style scoped>\n",
       "    .dataframe tbody tr th:only-of-type {\n",
       "        vertical-align: middle;\n",
       "    }\n",
       "\n",
       "    .dataframe tbody tr th {\n",
       "        vertical-align: top;\n",
       "    }\n",
       "\n",
       "    .dataframe thead th {\n",
       "        text-align: right;\n",
       "    }\n",
       "</style>\n",
       "<table border=\"1\" class=\"dataframe\">\n",
       "  <thead>\n",
       "    <tr style=\"text-align: right;\">\n",
       "      <th></th>\n",
       "      <th>name</th>\n",
       "      <th>RR</th>\n",
       "      <th>nDCG@10</th>\n",
       "      <th>nDCG@100</th>\n",
       "      <th>nDCG@1000</th>\n",
       "      <th>AP(rel=2)@100</th>\n",
       "      <th>AP(rel=2)@1000</th>\n",
       "      <th>R(rel=2)@100</th>\n",
       "      <th>R(rel=2)@1000</th>\n",
       "      <th>mrt</th>\n",
       "    </tr>\n",
       "  </thead>\n",
       "  <tbody>\n",
       "    <tr>\n",
       "      <th>0</th>\n",
       "      <td>colroberta.dl2019.new</td>\n",
       "      <td>0.899612</td>\n",
       "      <td>0.683896</td>\n",
       "      <td>0.581919</td>\n",
       "      <td>0.628119</td>\n",
       "      <td>0.389557</td>\n",
       "      <td>0.426708</td>\n",
       "      <td>0.559191</td>\n",
       "      <td>0.733648</td>\n",
       "      <td>48142.580966</td>\n",
       "    </tr>\n",
       "  </tbody>\n",
       "</table>\n",
       "</div>"
      ],
      "text/plain": [
       "                    name        RR   nDCG@10  nDCG@100  nDCG@1000  \\\n",
       "0  colroberta.dl2019.new  0.899612  0.683896  0.581919   0.628119   \n",
       "\n",
       "   AP(rel=2)@100  AP(rel=2)@1000  R(rel=2)@100  R(rel=2)@1000           mrt  \n",
       "0       0.389557        0.426708      0.559191       0.733648  48142.580966  "
      ]
     },
     "execution_count": 27,
     "metadata": {},
     "output_type": "execute_result"
    }
   ],
   "source": [
    "from pyterrier.measures import *\n",
    "pt.Experiment(\n",
    "    [factory.end_to_end() ],\n",
    "    topics2019,\n",
    "    qrels2019,\n",
    "    batch_size=1, \n",
    "    verbose=True,\n",
    "    save_dir=\"./\",\n",
    "    filter_by_qrels=True,\n",
    "    eval_metrics=[RR, nDCG@10, nDCG@100,nDCG@1000, AP(rel=2)@100,AP(rel=2)@1000,R(rel=2)@100,R(rel=2)@1000,\"mrt\"],\n",
    "    names=[\"colroberta.dl2019\"]\n",
    ")"
   ]
  },
  {
   "cell_type": "code",
   "execution_count": 28,
   "id": "presidential-chair",
   "metadata": {},
   "outputs": [],
   "source": [
    "from pyterrier.measures import *\n",
    "pt.Experiment(\n",
    "    [factory.end_to_end() ],\n",
    "    topics2020,\n",
    "    qrels2020,\n",
    "    batch_size=1, \n",
    "    verbose=True,\n",
    "    save_dir=\"./\",\n",
    "    filter_by_qrels=True,\n",
    "    eval_metrics=[RR, nDCG@10, nDCG@100,nDCG@1000, AP(rel=2)@100,AP(rel=2)@1000,R(rel=2)@100,R(rel=2)@1000,\"mrt\"],\n",
    "    names=[\"colroberta.dl2020\"]\n",
    ")"
   ]
  },
  {
   "cell_type": "code",
   "execution_count": null,
   "id": "lesbian-accreditation",
   "metadata": {},
   "outputs": [],
   "source": []
  },
  {
   "cell_type": "code",
   "execution_count": null,
   "id": "serious-stress",
   "metadata": {},
   "outputs": [],
   "source": []
  },
  {
   "cell_type": "code",
   "execution_count": null,
   "id": "saved-method",
   "metadata": {},
   "outputs": [],
   "source": []
  },
  {
   "cell_type": "markdown",
   "id": "junior-approach",
   "metadata": {},
   "source": [
    "## SMP for ColRoberta"
   ]
  },
  {
   "cell_type": "code",
   "execution_count": 20,
   "id": "robust-burns",
   "metadata": {},
   "outputs": [
    {
     "data": {
      "text/plain": [
       "<pyterrier_colbert.faiss_term_index.FaissNNTerm at 0x7f851ee96990>"
      ]
     },
     "execution_count": 20,
     "metadata": {},
     "output_type": "execute_result"
    }
   ],
   "source": [
    "fnt=factory.nn_term(df=True)\n",
    "fnt"
   ]
  },
  {
   "cell_type": "code",
   "execution_count": 21,
   "id": "demonstrated-growth",
   "metadata": {},
   "outputs": [
    {
     "name": "stderr",
     "output_type": "stream",
     "text": [
      "100%|██████████| 50265/50265 [00:00<00:00, 135386.58it/s]\n"
     ]
    }
   ],
   "source": [
    "import torch\n",
    "import numpy as np\n",
    "num_docs=fnt.num_docs\n",
    "num_all_tokens = len(fnt.emb2tid) \n",
    "idfdict = {}\n",
    "probIDF = {}\n",
    "ictfdict = {}\n",
    "idflist=[]\n",
    "for tid in pt.tqdm(range(fnt.inference.query_tokenizer.tok.vocab_size)):\n",
    "    df = fnt.getDF_by_id(tid)\n",
    "    # for add one IDF score\n",
    "    idfscore = np.log((1+num_docs)/(df+1))\n",
    "    idfdict[tid] = idfscore\n",
    "    idflist.append(idfscore)\n",
    "    # for probalistic IDF score\n",
    "    probIDFscore = np.log((num_docs-df+0.5)/(df+0.5))\n",
    "    probIDF[tid] = probIDFscore\n",
    "    # for ICTF score\n",
    "    cf = fnt.getCTF_by_id(tid)\n",
    "    ictfscore = np.log((num_all_tokens+1)/(cf+1))\n",
    "    ictfdict[tid] = ictfscore\n",
    "    \n",
    "# for global normalisation idf scores    \n",
    "maxscore=max(idfdict.values())\n",
    "idfGN={}\n",
    "for key in idfdict:\n",
    "    idfGN[key] = idfdict[key]/maxscore\n",
    "# for global normalisation Probidf scores \n",
    "\n",
    "maxscoreProb=max(probIDF.values())\n",
    "probIDFGN={}\n",
    "for key in idfdict:\n",
    "    probIDFGN[key] = probIDF[key]/maxscoreProb"
   ]
  },
  {
   "cell_type": "code",
   "execution_count": 121,
   "id": "velvet-colonial",
   "metadata": {},
   "outputs": [
    {
     "data": {
      "image/png": "[encoded data removed]",
      "text/plain": [
       "<Figure size 1800x1080 with 1 Axes>"
      ]
     },
     "metadata": {
      "needs_background": "light"
     },
     "output_type": "display_data"
    }
   ],
   "source": [
    "import matplotlib.pyplot as plt\n",
    "import numpy as np\n",
    "\n",
    "plt.figure(figsize=(25, 25*0.6))\n",
    "\n",
    "\n",
    "\n",
    "\n",
    "\n",
    "plt.hist(idflist, bins=30,  histtype='step',  cumulative=True,linewidth=5,log=True, label='cumulative-idf')\n",
    "\n",
    "\n",
    "plt.hist(idflist, bins=30,  histtype='step', linewidth=5, log=True,  label='idf')\n",
    "\n",
    "plt.ylabel(\"Frequency\",size=50)\n",
    "plt.xlabel(\"IDF\",size=50)\n",
    "\n",
    "plt.xticks(fontsize=45)\n",
    "plt.yticks(fontsize=45)\n",
    "plt.legend(fontsize=40,loc='upper left')\n",
    "plt.show()"
   ]
  },
  {
   "cell_type": "markdown",
   "id": "binary-netscape",
   "metadata": {},
   "source": [
    "# RQ2 SMP analysis"
   ]
  },
  {
   "cell_type": "code",
   "execution_count": 16,
   "id": "informational-assurance",
   "metadata": {},
   "outputs": [],
   "source": [
    "# -->Q_marker_token: [Q] -->tid 50265\n",
    "# -->mask_token: <mask> -->tid 50264\n",
    "# -->cls_token <s> -->tid 0\n",
    "# -->sep_token </s> -->tid 2\n",
    "from pyterrier.transformer import TransformerBase\n",
    "def scorer(factory, add_contributions=False, add_exact_match_contribution=False, verbose=False, gpu=True) -> TransformerBase:\n",
    "    \"\"\"\n",
    "    Calculates the ColBERT max_sim operator using previous encodings of queries and documents\n",
    "    input: qid, query_embs, [query_weights], docno, doc_embs\n",
    "    output: ditto + score, [+ contributions]\n",
    "    \"\"\"\n",
    "    import torch\n",
    "    import pyterrier as pt\n",
    "    assert pt.started(), 'PyTerrier must be started'\n",
    "    cuda0 = torch.device('cuda') if gpu else torch.device('cpu')\n",
    "\n",
    "    def _build_interaction(row, D):\n",
    "        doc_embs = row.doc_embs\n",
    "        doc_len = doc_embs.shape[0]\n",
    "        D[row.row_index, 0:doc_len, :] = doc_embs\n",
    "\n",
    "    def _build_toks(row, idsD):\n",
    "        doc_toks = row.doc_toks\n",
    "        doc_len = doc_toks.shape[0]\n",
    "        idsD[row.row_index, 0:doc_len] = doc_toks\n",
    "\n",
    "    def _score_query(df):\n",
    "        with torch.no_grad():\n",
    "            weightsQ = None\n",
    "            Q = torch.cat([df.iloc[0].query_embs])\n",
    "            if \"query_weights\" in df.columns:\n",
    "                weightsQ = df.iloc[0].query_weights\n",
    "            else:\n",
    "                weightsQ = torch.ones(Q.shape[0])\n",
    "            if gpu:\n",
    "                Q = Q.cuda()\n",
    "                weightsQ = weightsQ.cuda()        \n",
    "            D = torch.zeros(len(df), factory.args.doc_maxlen, factory.args.dim, device=cuda0)\n",
    "            df['row_index'] = range(len(df))\n",
    "            if verbose:\n",
    "                pt.tqdm.pandas(desc='scorer')\n",
    "                df.progress_apply(lambda row: _build_interaction(row, D), axis=1)\n",
    "            else:\n",
    "                df.apply(lambda row: _build_interaction(row, D), axis=1)\n",
    "            maxscoreQ = (Q @ D.permute(0, 2, 1)).max(2).values\n",
    "            scores = (weightsQ*maxscoreQ).sum(1).cpu()\n",
    "            df[\"score\"] = scores.tolist()\n",
    "            if add_contributions:\n",
    "                contributions = (Q @ D.permute(0, 2, 1)).max(1).values.cpu()\n",
    "                df[\"contributions\"] = contributions.tolist()\n",
    "            if add_exact_match_contribution:\n",
    "                idsQ = torch.cat([df.iloc[0].query_toks]).unsqueeze(0)\n",
    "                idsD = torch.zeros(len(df), factory.args.doc_maxlen, dtype=idsQ.dtype)\n",
    "\n",
    "                df.apply(lambda row: _build_toks(row, idsD), axis=1)\n",
    "\n",
    "                # which places in the query are actual tokens, not specials such as MASKs\n",
    "#                 token_match = (idsQ != 101) & (idsQ != 102) & (idsQ != 103) & (idsQ != 1) & (idsQ != 2)\n",
    "                token_match = (idsQ != 50264) & (idsQ != 50265) & (idsQ != 50266) & (idsQ != 0) & (idsQ != 2)\n",
    "                # which places in the interaction have exact matches (not [CLS])\n",
    "                exact_match = (idsQ.unsqueeze(1) == idsD.unsqueeze(2)) & (idsQ != 0)\n",
    "\n",
    "                # perform the interaction\n",
    "                interaction = (Q @ D.permute(0, 2, 1)).cpu()\n",
    "\n",
    "                weightsQ = weightsQ.unsqueeze(0).cpu()\n",
    "\n",
    "                weighted_maxsim = weightsQ*interaction.max(2).values\n",
    "\n",
    "                # mask out query embeddings that arent tokens \n",
    "                weighted_maxsim[:, ~token_match[0,:]] = 0\n",
    "\n",
    "                # get the sum\n",
    "                denominator = weighted_maxsim.sum(1)\n",
    "\n",
    "                # zero out entries that arent exact matches\n",
    "                interaction[~ exact_match.permute(0, 2, 1)] = 0\n",
    "\n",
    "                weighted_maxsim = weightsQ*interaction.max(2).values\n",
    "                # mask out query embeddings that arent tokens \n",
    "                weighted_maxsim[:, ~token_match[0,:]] = 0\n",
    "\n",
    "                # get the sum\n",
    "                numerator = weighted_maxsim.sum(1)\n",
    "                #df[\"exact_count\"] = exact_match\n",
    "                df[\"exact_numer\"] = numerator.tolist()\n",
    "                df[\"exact_denom\"] = denominator.tolist()\n",
    "                df[\"exact_pct\"] = (numerator/denominator).tolist()\n",
    "        return df\n",
    "\n",
    "    return pt.apply.by_query(_score_query, add_ranks=True)"
   ]
  },
  {
   "cell_type": "code",
   "execution_count": 37,
   "id": "breeding-working",
   "metadata": {},
   "outputs": [
    {
     "name": "stdout",
     "output_type": "stream",
     "text": [
      "0.48615236997005795\n"
     ]
    }
   ],
   "source": [
    "pipe = (factory.end_to_end()\n",
    "        >>factory.fetch_index_encodings(ids=True)\n",
    "        >>scorer(factory,add_exact_match_contribution=True))\n",
    "allres_e2e =pd.concat(pipe.transform_gen(topics2019, batch_size=10))\n",
    "# allres_e2e = pd.read_csv(\"/nfs/xiao/DenseQEJournal/figures/CRC/seperate/allres_e2e.txt\")\n",
    "allres_e2e[\"semantic_pct\"]=1-allres_e2e[\"exact_pct\"]\n",
    "rank_cutoff=10\n",
    "sorted_AR_e2e = allres_e2e[allres_e2e['rank'] <= rank_cutoff].groupby(['qid', 'query']).mean().reset_index().sort_values(\"semantic_pct\", ascending=False)\n",
    "print(sorted_AR_e2e.semantic_pct.mean())"
   ]
  },
  {
   "cell_type": "code",
   "execution_count": 17,
   "id": "driving-cooperation",
   "metadata": {},
   "outputs": [
    {
     "name": "stdout",
     "output_type": "stream",
     "text": [
      "0.5377410268191537\n"
     ]
    }
   ],
   "source": [
    "pipe = (factory.end_to_end()\n",
    "        >>factory.fetch_index_encodings(ids=True)\n",
    "        >>scorer(factory,add_exact_match_contribution=True))\n",
    "allres_e2e =pd.concat(pipe.transform_gen(topics2020, batch_size=5))\n",
    "allres_e2e[\"semantic_pct\"]=1-allres_e2e[\"exact_pct\"]\n",
    "rank_cutoff=10\n",
    "sorted_AR_e2e = allres_e2e[allres_e2e['rank'] <= rank_cutoff].groupby(['qid', 'query']).mean().reset_index().sort_values(\"semantic_pct\", ascending=False)\n",
    "print(sorted_AR_e2e.semantic_pct.mean())"
   ]
  },
  {
   "cell_type": "markdown",
   "id": "palestinian-guinea",
   "metadata": {},
   "source": [
    "# For reranker SMP"
   ]
  },
  {
   "cell_type": "code",
   "execution_count": 18,
   "id": "clinical-samba",
   "metadata": {},
   "outputs": [
    {
     "name": "stdout",
     "output_type": "stream",
     "text": [
      "23:11:41.656 [main] WARN org.terrier.structures.BaseCompressingMetaIndex - Structure meta reading data file directly from disk (SLOW) - try index.meta.data-source=fileinmem in the index properties file. 1.9 GiB of memory would be required.\n"
     ]
    }
   ],
   "source": [
    "bm25_terrier_stemmed_text = pt.BatchRetrieve.from_dataset(\n",
    "    'msmarco_passage', \n",
    "    'terrier_stemmed_text', \n",
    "    wmodel='BM25',\n",
    "    metadata=['docno', 'text'], \n",
    "    num_results=1000)\n",
    "dataset = pt.get_dataset(\"irds:msmarco-passage\")\n",
    "\n",
    "reranker_pipe = (factory.query_encoder() \n",
    "                 >>bm25_terrier_stemmed_text>>pt.text.get_text(dataset,\"text\")>>factory.text_encoder() \n",
    "                 >>factory.fetch_index_encodings(ids=True)\n",
    "                 >>scorer(factory,add_exact_match_contribution=True)\n",
    "                )\n",
    "\n"
   ]
  },
  {
   "cell_type": "code",
   "execution_count": 19,
   "id": "relevant-governor",
   "metadata": {},
   "outputs": [
    {
     "name": "stdout",
     "output_type": "stream",
     "text": [
      "0.4765054040751863\n"
     ]
    }
   ],
   "source": [
    "allres_e2e  =pd.concat(reranker_pipe.transform_gen(topics2019, batch_size=5))\n",
    "allres_e2e[\"semantic_pct\"]=1-allres_e2e[\"exact_pct\"]\n",
    "rank_cutoff=10\n",
    "sorted_AR_e2e = allres_e2e[allres_e2e['rank'] <= rank_cutoff].groupby(['qid', 'query']).mean().reset_index().sort_values(\"semantic_pct\", ascending=False)\n",
    "print(sorted_AR_e2e.semantic_pct.mean())"
   ]
  },
  {
   "cell_type": "code",
   "execution_count": 20,
   "id": "blond-hollow",
   "metadata": {},
   "outputs": [
    {
     "name": "stdout",
     "output_type": "stream",
     "text": [
      "0.5217289034816551\n"
     ]
    }
   ],
   "source": [
    "allres_e2e  =pd.concat(reranker_pipe.transform_gen(topics2020, batch_size=5))\n",
    "allres_e2e[\"semantic_pct\"]=1-allres_e2e[\"exact_pct\"]\n",
    "rank_cutoff=10\n",
    "sorted_AR_e2e = allres_e2e[allres_e2e['rank'] <= rank_cutoff].groupby(['qid', 'query']).mean().reset_index().sort_values(\"semantic_pct\", ascending=False)\n",
    "print(sorted_AR_e2e.semantic_pct.mean())"
   ]
  },
  {
   "cell_type": "code",
   "execution_count": null,
   "id": "brief-hardware",
   "metadata": {},
   "outputs": [],
   "source": []
  },
  {
   "cell_type": "code",
   "execution_count": null,
   "id": "assumed-sustainability",
   "metadata": {},
   "outputs": [],
   "source": []
  },
  {
   "cell_type": "code",
   "execution_count": null,
   "id": "sought-regular",
   "metadata": {},
   "outputs": [],
   "source": []
  },
  {
   "cell_type": "code",
   "execution_count": null,
   "id": "sticky-american",
   "metadata": {},
   "outputs": [],
   "source": []
  },
  {
   "cell_type": "code",
   "execution_count": 55,
   "id": "listed-roller",
   "metadata": {},
   "outputs": [
    {
     "name": "stdout",
     "output_type": "stream",
     "text": [
      "5488\n",
      "9178\n",
      "12196\n",
      "8569\n",
      "25800\n",
      "14746\n"
     ]
    }
   ],
   "source": [
    "qtokens = [\"which\",\"how\",\"what\",\"where\",\"why\",\"when\"]\n",
    "for token in qtokens:\n",
    "#     print(token,\"-->\",fnt.inference.query_tokenizer.tok.convert_tokens_to_ids(token))\n",
    "     print(fnt.inference.query_tokenizer.tok.convert_tokens_to_ids(token))"
   ]
  },
  {
   "cell_type": "code",
   "execution_count": 13,
   "id": "acknowledged-cathedral",
   "metadata": {},
   "outputs": [],
   "source": [
    "import os\n",
    "from pyterrier.transformer import TransformerBase\n",
    "# if not os.path.exists(\"stopword-list.txt\"):\n",
    "#     !wget \"https://raw.githubusercontent.com/terrier-org/terrier-core/5.x/modules/core/src/main/resources/stopword-list.txt\"\n",
    "cuda0 = torch.device('cuda:0')\n",
    "stops=[]\n",
    "with open(\"stopword-list.txt\") as f:\n",
    "    for l in f:\n",
    "        stops.append(l.strip())\n",
    "        \n",
    "        \n",
    "def scorer(factory, add_contributions=False, \n",
    "           add_exact_match_contribution=False, \n",
    "           add_special_match_contribution=False,\n",
    "           add_question_exact_match_contribution=False,\n",
    "           add_doc_hash=False, add_doc_stop=False,add_doc_numeric=False, \n",
    "           add_doc_low=False,add_doc_med=False,add_doc_high=False,add_doc_stem=False,\n",
    "           verbose=False) -> TransformerBase:\n",
    "        \"\"\"\n",
    "        Calculates the ColBERT max_sim operator using previous encodings of queries and documents\n",
    "        input: qid, query_embs, [query_weights], docno, doc_embs\n",
    "        output: ditto + score, [+ contributions]\n",
    "        \"\"\"\n",
    "        import torch\n",
    "        import pyterrier as pt\n",
    "        assert pt.started(), 'PyTerrier must be started'\n",
    "        pt.tqdm.pandas()\n",
    "        cuda0 = torch.device('cuda:0')\n",
    "\n",
    "        def _build_interaction(row, D):\n",
    "            doc_embs = row.doc_embs\n",
    "            doc_len = doc_embs.shape[0]\n",
    "            D[row.row_index, 0:doc_len, :] = doc_embs\n",
    "            \n",
    "        def _build_toks(row, idsD):\n",
    "            doc_toks = row.doc_toks\n",
    "            doc_len = doc_toks.shape[0]\n",
    "            idsD[row.row_index, 0:doc_len] = doc_toks\n",
    "        def _add_tokD_hash(idsD):\n",
    "            tokD_hash = torch.zeros_like(idsD)\n",
    "            for j in range(idsD.shape[1]):\n",
    "                for i in range(idsD.shape[0]):\n",
    "                    tid= idsD[i][j]\n",
    "                    token =fnt.inference.query_tokenizer.tok.decode([tid])\n",
    "                    if token.startswith(\"##\"):\n",
    "                        tokD_hash[i][j]=1\n",
    "            return tokD_hash\n",
    "        def _add_tokD_stop(idsD):\n",
    "            tokD_stop = torch.zeros_like(idsD)\n",
    "            for j in range(idsD.shape[1]):\n",
    "                for i in range(idsD.shape[0]):\n",
    "                    tid= idsD[i][j]\n",
    "                    token =fnt.inference.query_tokenizer.tok.decode([tid])\n",
    "                    token = token.strip()\n",
    "                    if token in stops:\n",
    "                        tokD_stop[i][j]=1\n",
    "            return tokD_stop\n",
    "        \n",
    "        def _add_tokD_numeric(idsD):\n",
    "            tokD_numeric = torch.zeros_like(idsD)\n",
    "            for j in range(idsD.shape[1]):\n",
    "                for i in range(idsD.shape[0]):\n",
    "                    tid= idsD[i][j]\n",
    "                    token =fnt.inference.query_tokenizer.tok.decode([tid])\n",
    "                    token = token.strip()\n",
    "                    if token.isnumeric():\n",
    "                        tokD_numeric[i][j]=1\n",
    "            return tokD_numeric\n",
    "        \n",
    "        def _add_tokD_low(idsD):\n",
    "            _idsD = idsD.clone().detach()\n",
    "            _idsD = _idsD.apply_(lambda x: idfdict[x])\n",
    "            onesT = torch.ones_like(_idsD)\n",
    "            zerosT = torch.zeros_like(_idsD)\n",
    "            _idsD = torch.where(_idsD < np.percentile(idflist,25), _idsD, zerosT)\n",
    "            _idsD = torch.where(_idsD == 0, zerosT, onesT)\n",
    "            return _idsD\n",
    "\n",
    "        def _add_tokD_med(idsD):\n",
    "            _idsD = idsD.clone().detach()\n",
    "            _idsD = _idsD.apply_(lambda x: idfdict[x])\n",
    "            onesT = torch.ones_like(_idsD)\n",
    "            zerosT = torch.zeros_like(_idsD)\n",
    "            _idsD = torch.where(_idsD > np.percentile(idflist,25), _idsD, zerosT)\n",
    "            _idsD = torch.where(_idsD < np.percentile(idflist,75), _idsD, zerosT)\n",
    "            _idsD = torch.where(_idsD == 0, zerosT, onesT)\n",
    "            return _idsD\n",
    "        def _add_tokD_high(idsD):\n",
    "            _idsD = idsD.clone().detach()\n",
    "            _idsD = _idsD.apply_(lambda x: idfdict[x])\n",
    "            onesT = torch.ones_like(_idsD)\n",
    "            zerosT = torch.zeros_like(_idsD)\n",
    "            _idsD = torch.where(_idsD > np.percentile(idflist,75), _idsD, zerosT)\n",
    "            _idsD = torch.where(_idsD == 0, zerosT, onesT)\n",
    "            return _idsD\n",
    "        Tokeniser = pt.autoclass(\"org.terrier.indexing.tokenisation.Tokeniser\").getTokeniser()\n",
    "        PorterStemmer = pt.autoclass(\"org.terrier.terms.PorterStemmer\")()\n",
    "        def _add_tokD_stem(idsD):\n",
    "            tokD_stem = torch.zeros_like(idsD)\n",
    "            for j in range(idsD.shape[1]):\n",
    "                for i in range(idsD.shape[0]):\n",
    "                    tid= idsD[i][j]\n",
    "                    token =fnt.inference.query_tokenizer.tok.decode([tid])\n",
    "                    if token == PorterStemmer.stem(token):\n",
    "                        tokD_stem[i][j]=1\n",
    "            return tokD_stem\n",
    "        \n",
    "        def _score_query(df):\n",
    "            with torch.no_grad():\n",
    "                weightsQ = None\n",
    "                Q = torch.cat([df.iloc[0].query_embs]).cuda()\n",
    "                if \"query_weights\" in df.columns:\n",
    "                    weightsQ = df.iloc[0].query_weights.cuda()\n",
    "                else:\n",
    "                    weightsQ = torch.ones(Q.shape[0]).cuda()        \n",
    "                D = torch.zeros(len(df), factory.args.doc_maxlen, factory.args.dim, device=cuda0)\n",
    "                df['row_index'] = range(len(df))\n",
    "                if verbose:\n",
    "                    df.progress_apply(lambda row: _build_interaction(row, D), axis=1)\n",
    "                else:\n",
    "                    df.apply(lambda row: _build_interaction(row, D), axis=1)\n",
    "                maxscoreQ = (Q @ D.permute(0, 2, 1)).max(2).values\n",
    "                scores = (weightsQ*maxscoreQ).sum(1).cpu()\n",
    "                df[\"score\"] = scores.tolist()\n",
    "                df = factory._add_docnos(df)\n",
    "                \n",
    "                \n",
    "                if add_contributions:\n",
    "                    contributions = (Q @ D.permute(0, 2, 1)).max(1).values.cpu()\n",
    "                    df[\"contributions\"] = contributions.tolist()\n",
    "                    \n",
    "                    \n",
    "                idsQ = torch.cat([df.iloc[0].query_toks]).unsqueeze(0)\n",
    "                idsD = torch.zeros(len(df), factory.args.doc_maxlen, dtype=idsQ.dtype)\n",
    "                df.apply(lambda row: _build_toks(row, idsD), axis=1)\n",
    "                \n",
    "                # mask out doc toks not the special type\n",
    "                    \n",
    "                if add_doc_hash:\n",
    "                    tokD = _add_tokD_hash(idsD)\n",
    "                if add_doc_stop:\n",
    "                    tokD = _add_tokD_stop(idsD)\n",
    "                if add_doc_numeric:\n",
    "                    tokD = _add_tokD_numeric(idsD)\n",
    "                if add_doc_low:\n",
    "                    tokD = _add_tokD_low(idsD)\n",
    "                if add_doc_med:\n",
    "                    tokD = _add_tokD_med(idsD)\n",
    "                if add_doc_high:\n",
    "                    tokD = _add_tokD_high(idsD)\n",
    "                if add_doc_stem:\n",
    "                    tokD = _add_tokD_stem(idsD)\n",
    "                    \n",
    "                if add_exact_match_contribution:\n",
    "                    # which places in the query are actual tokens, not specials such as MASKs\n",
    "                    token_match = (idsQ != 50264) & (idsQ != 50265) & (idsQ != 50266) & (idsQ != 0) & (idsQ != 2)\n",
    "                    \n",
    "                    idsD_match = idsD*tokD\n",
    "                    \n",
    "                    assert idsD.shape == idsD_match.shape\n",
    "\n",
    "                    # which places in the interaction have exact matches (not [CLS: --> id (<s>)=0])\n",
    "#                     exact_match = (idsQ.unsqueeze(1) == idsD.unsqueeze(2)) & (idsQ != 101)\n",
    "                    exact_match = (idsQ.unsqueeze(1) == idsD_match.unsqueeze(2)) & (idsQ != 0)\n",
    "                    # perform the interaction\n",
    "                    interaction = (Q @ D.permute(0, 2, 1)).cpu()\n",
    "\n",
    "                    weightsQ = weightsQ.unsqueeze(0).cpu()\n",
    "\n",
    "                    weighted_maxsim = weightsQ*interaction.max(2).values\n",
    "\n",
    "                    # mask out query embeddings that arent tokens \n",
    "                    weighted_maxsim[:, ~token_match[0,:]] = 0\n",
    "                    \n",
    "                    # get the sum\n",
    "                    denominator = weighted_maxsim.sum(1)\n",
    "\n",
    "                    # zero out entries that arent exact matches\n",
    "                    interaction[~ exact_match.permute(0, 2, 1)] = 0\n",
    "\n",
    "                    weighted_maxsim = weightsQ*interaction.max(2).values\n",
    "                    # mask out query embeddings that arent tokens \n",
    "                    weighted_maxsim[:, ~token_match[0,:]] = 0\n",
    "\n",
    "                    # get the sum\n",
    "                    numerator = weighted_maxsim.sum(1)\n",
    "                    #df[\"exact_count\"] = exact_match\n",
    "                    df[\"exact_numer\"] = numerator.tolist()\n",
    "                    df[\"exact_denom\"] = denominator.tolist()\n",
    "                    df[\"exact_pct\"] = (numerator/denominator).tolist()\n",
    "                    \n",
    "                if add_question_exact_match_contribution: \n",
    "                    # which places in the query are question tokens: \"which\",\"how\",\"what\",\"where\",\"why\",\"when\"\n",
    "#                     5488,9178,12196,8569,25800,14746\n",
    "\n",
    "                    question_token_match = (idsQ==5488) |(idsQ==9178) |(idsQ==12196)|(idsQ==8569)|(idsQ==25800)|(idsQ==14746)\n",
    "\n",
    "                    # which places in the interaction have exact matches (not [CLS])\n",
    "                    exact_match = (idsQ.unsqueeze(1) == idsD.unsqueeze(2)) & (idsQ != 0)\n",
    "\n",
    "                    ###################perform question words_match\n",
    "                    interaction = (Q @ D.permute(0, 2, 1)).cpu()\n",
    "                    weightsQ = weightsQ.unsqueeze(0).cpu()\n",
    "                    weighted_maxsim = weightsQ*interaction.max(2).values\n",
    "                    # mask out query embeddings that arent tokens \n",
    "            #         weighted_maxsim[:, ~token_match[0,:]] = 0\n",
    "                    #mask out query embeddings that arent question tokens\n",
    "                    weighted_maxsim[:,question_token_match[0,:]]=0\n",
    "\n",
    "                    # get the sum\n",
    "                    denominator = weighted_maxsim.sum(1)\n",
    "\n",
    "\n",
    "\n",
    "                    # zero out entries that arent exact matches\n",
    "                    interaction[~ exact_match.permute(0, 2, 1)] = 0\n",
    "                    weighted_maxsim = weightsQ*interaction.max(2).values\n",
    "                    # mask out query embeddings that arent tokens \n",
    "            #         weighted_maxsim[:, ~token_match[0,:]] = 0\n",
    "                    #mask out query embeddings that arent question tokens\n",
    "                    weighted_maxsim[:,question_token_match[0,:]]=0\n",
    "                    # get the sum\n",
    "                    numerator = weighted_maxsim.sum(1)\n",
    "\n",
    "                    #df[\"exact_count\"] = exact_match\n",
    "                    df[\"exact_numer_question\"] = numerator.tolist()\n",
    "                    df[\"exact_denom_question\"] = denominator.tolist()\n",
    "                    df[\"exact_pct_question\"] = (numerator/denominator).tolist()\n",
    "                    \n",
    "                    \n",
    "                    \n",
    "            return df\n",
    "            \n",
    "        return pt.apply.by_query(_score_query, add_ranks=True)"
   ]
  },
  {
   "cell_type": "code",
   "execution_count": null,
   "id": "fantastic-sessions",
   "metadata": {},
   "outputs": [],
   "source": [
    "-->Q_marker_token: [Q] -->tid 50265\n",
    "-->mask_token: <mask> -->tid 50264\n",
    "-->cls_token <s> -->tid 0\n",
    "-->sep_token </s> -->tid 2"
   ]
  },
  {
   "cell_type": "code",
   "execution_count": 113,
   "id": "clinical-penetration",
   "metadata": {},
   "outputs": [
    {
     "name": "stdout",
     "output_type": "stream",
     "text": [
      "which --> 5488\n",
      "how --> 9178\n",
      "what --> 12196\n",
      "where --> 8569\n",
      "why --> 25800\n",
      "[Q] --> 3\n",
      "[D] --> 3\n"
     ]
    }
   ],
   "source": [
    "qtokens = [\"which\",\"how\",\"what\",\"where\",\"why\",\"[Q]\",\"[D]\"]\n",
    "for token in qtokens:\n",
    "    print(token,\"-->\",fnt.inference.query_tokenizer.tok.convert_tokens_to_ids(token))"
   ]
  },
  {
   "cell_type": "code",
   "execution_count": 120,
   "id": "demographic-rouge",
   "metadata": {},
   "outputs": [
    {
     "data": {
      "text/plain": [
       "'<unk>'"
      ]
     },
     "execution_count": 120,
     "metadata": {},
     "output_type": "execute_result"
    }
   ],
   "source": [
    " fnt.inference.query_tokenizer.tok.decode([3])"
   ]
  },
  {
   "cell_type": "code",
   "execution_count": null,
   "id": "excited-zealand",
   "metadata": {},
   "outputs": [],
   "source": []
  },
  {
   "cell_type": "code",
   "execution_count": null,
   "id": "front-brass",
   "metadata": {},
   "outputs": [],
   "source": []
  },
  {
   "cell_type": "code",
   "execution_count": null,
   "id": "increasing-imagination",
   "metadata": {},
   "outputs": [],
   "source": [
    "def scorer(factory, add_contributions=False, \n",
    "           add_exact_match_contribution=False, \n",
    "           add_special_match_contribution=False,\n",
    "           add_question_exact_match_contribution=False,\n",
    "           add_doc_hash=False, add_doc_stop=False,add_doc_numeric=False, \n",
    "           add_doc_low=False,add_doc_med=False,add_doc_high=False, verbose=False) -> TransformerBase:\n",
    "    "
   ]
  },
  {
   "cell_type": "code",
   "execution_count": 14,
   "id": "extraordinary-entrepreneur",
   "metadata": {},
   "outputs": [
    {
     "data": {
      "text/html": [
       "<div>\n",
       "<style scoped>\n",
       "    .dataframe tbody tr th:only-of-type {\n",
       "        vertical-align: middle;\n",
       "    }\n",
       "\n",
       "    .dataframe tbody tr th {\n",
       "        vertical-align: top;\n",
       "    }\n",
       "\n",
       "    .dataframe thead th {\n",
       "        text-align: right;\n",
       "    }\n",
       "</style>\n",
       "<table border=\"1\" class=\"dataframe\">\n",
       "  <thead>\n",
       "    <tr style=\"text-align: right;\">\n",
       "      <th></th>\n",
       "      <th>qid</th>\n",
       "      <th>query</th>\n",
       "      <th>docid</th>\n",
       "      <th>score</th>\n",
       "      <th>docno</th>\n",
       "      <th>row_index</th>\n",
       "      <th>exact_numer</th>\n",
       "      <th>exact_denom</th>\n",
       "      <th>exact_pct</th>\n",
       "      <th>rank</th>\n",
       "    </tr>\n",
       "  </thead>\n",
       "  <tbody>\n",
       "    <tr>\n",
       "      <th>1995</th>\n",
       "      <td>1037798</td>\n",
       "      <td>who is robert gray</td>\n",
       "      <td>8760866</td>\n",
       "      <td>25.308634</td>\n",
       "      <td>8760866</td>\n",
       "      <td>4319</td>\n",
       "      <td>0.737554</td>\n",
       "      <td>3.973821</td>\n",
       "      <td>0.185603</td>\n",
       "      <td>0</td>\n",
       "    </tr>\n",
       "    <tr>\n",
       "      <th>85</th>\n",
       "      <td>1037798</td>\n",
       "      <td>who is robert gray</td>\n",
       "      <td>3620983</td>\n",
       "      <td>24.339367</td>\n",
       "      <td>3620983</td>\n",
       "      <td>1806</td>\n",
       "      <td>0.691645</td>\n",
       "      <td>3.773253</td>\n",
       "      <td>0.183302</td>\n",
       "      <td>1</td>\n",
       "    </tr>\n",
       "    <tr>\n",
       "      <th>1998</th>\n",
       "      <td>1037798</td>\n",
       "      <td>who is robert gray</td>\n",
       "      <td>8760867</td>\n",
       "      <td>24.111166</td>\n",
       "      <td>8760867</td>\n",
       "      <td>4320</td>\n",
       "      <td>0.705019</td>\n",
       "      <td>3.859904</td>\n",
       "      <td>0.182652</td>\n",
       "      <td>2</td>\n",
       "    </tr>\n",
       "    <tr>\n",
       "      <th>1999</th>\n",
       "      <td>1037798</td>\n",
       "      <td>who is robert gray</td>\n",
       "      <td>8760870</td>\n",
       "      <td>23.786148</td>\n",
       "      <td>8760870</td>\n",
       "      <td>4322</td>\n",
       "      <td>0.644367</td>\n",
       "      <td>3.725878</td>\n",
       "      <td>0.172944</td>\n",
       "      <td>3</td>\n",
       "    </tr>\n",
       "    <tr>\n",
       "      <th>88</th>\n",
       "      <td>1037798</td>\n",
       "      <td>who is robert gray</td>\n",
       "      <td>3620986</td>\n",
       "      <td>23.765379</td>\n",
       "      <td>3620986</td>\n",
       "      <td>1808</td>\n",
       "      <td>0.821835</td>\n",
       "      <td>3.869050</td>\n",
       "      <td>0.212413</td>\n",
       "      <td>4</td>\n",
       "    </tr>\n",
       "  </tbody>\n",
       "</table>\n",
       "</div>"
      ],
      "text/plain": [
       "          qid               query    docid      score    docno  row_index  \\\n",
       "1995  1037798  who is robert gray  8760866  25.308634  8760866       4319   \n",
       "85    1037798  who is robert gray  3620983  24.339367  3620983       1806   \n",
       "1998  1037798  who is robert gray  8760867  24.111166  8760867       4320   \n",
       "1999  1037798  who is robert gray  8760870  23.786148  8760870       4322   \n",
       "88    1037798  who is robert gray  3620986  23.765379  3620986       1808   \n",
       "\n",
       "      exact_numer  exact_denom  exact_pct  rank  \n",
       "1995     0.737554     3.973821   0.185603     0  \n",
       "85       0.691645     3.773253   0.183302     1  \n",
       "1998     0.705019     3.859904   0.182652     2  \n",
       "1999     0.644367     3.725878   0.172944     3  \n",
       "88       0.821835     3.869050   0.212413     4  "
      ]
     },
     "execution_count": 14,
     "metadata": {},
     "output_type": "execute_result"
    }
   ],
   "source": [
    "# topic = topics2019[topics2019.qid==\"1063750\"]\n",
    "e2e_pipe = (\n",
    "    factory.set_retrieve() \n",
    "    >> factory.index_scorer(query_encoded=True, add_ranks=True, batch_size=10000)\n",
    "    >> factory.fetch_index_encodings(ids=True)\n",
    "    >> scorer(factory,add_exact_match_contribution=True,add_doc_stop=True)\n",
    ")\n",
    "# df = e2e_pipe(topics2019)\n",
    "df = pd.concat(e2e_pipe.transform_gen(topics2019, batch_size=1)).drop(columns=[\"query_embs\", \"query_toks\", \"doc_embs\", \"doc_toks\"]).sort_values(['qid', 'rank'])\n",
    "# df = df.drop(columns=[\"query_embs\", \"query_toks\", \"doc_embs\", \"doc_toks\"])\n",
    "# df=df.sort_values(['qid', 'rank'])\n",
    "df.to_csv(\"./colroberta.e2e.smp.doc_stop.2019.txt\",index=False)\n",
    "df.head()"
   ]
  },
  {
   "cell_type": "code",
   "execution_count": 15,
   "id": "enormous-announcement",
   "metadata": {},
   "outputs": [
    {
     "data": {
      "text/html": [
       "<div>\n",
       "<style scoped>\n",
       "    .dataframe tbody tr th:only-of-type {\n",
       "        vertical-align: middle;\n",
       "    }\n",
       "\n",
       "    .dataframe tbody tr th {\n",
       "        vertical-align: top;\n",
       "    }\n",
       "\n",
       "    .dataframe thead th {\n",
       "        text-align: right;\n",
       "    }\n",
       "</style>\n",
       "<table border=\"1\" class=\"dataframe\">\n",
       "  <thead>\n",
       "    <tr style=\"text-align: right;\">\n",
       "      <th></th>\n",
       "      <th>qid</th>\n",
       "      <th>query</th>\n",
       "      <th>docid</th>\n",
       "      <th>score</th>\n",
       "      <th>docno</th>\n",
       "      <th>row_index</th>\n",
       "      <th>exact_numer</th>\n",
       "      <th>exact_denom</th>\n",
       "      <th>exact_pct</th>\n",
       "      <th>rank</th>\n",
       "    </tr>\n",
       "  </thead>\n",
       "  <tbody>\n",
       "    <tr>\n",
       "      <th>1995</th>\n",
       "      <td>1037798</td>\n",
       "      <td>who is robert gray</td>\n",
       "      <td>8760866</td>\n",
       "      <td>25.308634</td>\n",
       "      <td>8760866</td>\n",
       "      <td>4319</td>\n",
       "      <td>0.0</td>\n",
       "      <td>3.973821</td>\n",
       "      <td>0.0</td>\n",
       "      <td>0</td>\n",
       "    </tr>\n",
       "    <tr>\n",
       "      <th>85</th>\n",
       "      <td>1037798</td>\n",
       "      <td>who is robert gray</td>\n",
       "      <td>3620983</td>\n",
       "      <td>24.339367</td>\n",
       "      <td>3620983</td>\n",
       "      <td>1806</td>\n",
       "      <td>0.0</td>\n",
       "      <td>3.773253</td>\n",
       "      <td>0.0</td>\n",
       "      <td>1</td>\n",
       "    </tr>\n",
       "    <tr>\n",
       "      <th>1998</th>\n",
       "      <td>1037798</td>\n",
       "      <td>who is robert gray</td>\n",
       "      <td>8760867</td>\n",
       "      <td>24.111166</td>\n",
       "      <td>8760867</td>\n",
       "      <td>4320</td>\n",
       "      <td>0.0</td>\n",
       "      <td>3.859904</td>\n",
       "      <td>0.0</td>\n",
       "      <td>2</td>\n",
       "    </tr>\n",
       "    <tr>\n",
       "      <th>1999</th>\n",
       "      <td>1037798</td>\n",
       "      <td>who is robert gray</td>\n",
       "      <td>8760870</td>\n",
       "      <td>23.786148</td>\n",
       "      <td>8760870</td>\n",
       "      <td>4322</td>\n",
       "      <td>0.0</td>\n",
       "      <td>3.725878</td>\n",
       "      <td>0.0</td>\n",
       "      <td>3</td>\n",
       "    </tr>\n",
       "    <tr>\n",
       "      <th>88</th>\n",
       "      <td>1037798</td>\n",
       "      <td>who is robert gray</td>\n",
       "      <td>3620986</td>\n",
       "      <td>23.765379</td>\n",
       "      <td>3620986</td>\n",
       "      <td>1808</td>\n",
       "      <td>0.0</td>\n",
       "      <td>3.869050</td>\n",
       "      <td>0.0</td>\n",
       "      <td>4</td>\n",
       "    </tr>\n",
       "  </tbody>\n",
       "</table>\n",
       "</div>"
      ],
      "text/plain": [
       "          qid               query    docid      score    docno  row_index  \\\n",
       "1995  1037798  who is robert gray  8760866  25.308634  8760866       4319   \n",
       "85    1037798  who is robert gray  3620983  24.339367  3620983       1806   \n",
       "1998  1037798  who is robert gray  8760867  24.111166  8760867       4320   \n",
       "1999  1037798  who is robert gray  8760870  23.786148  8760870       4322   \n",
       "88    1037798  who is robert gray  3620986  23.765379  3620986       1808   \n",
       "\n",
       "      exact_numer  exact_denom  exact_pct  rank  \n",
       "1995          0.0     3.973821        0.0     0  \n",
       "85            0.0     3.773253        0.0     1  \n",
       "1998          0.0     3.859904        0.0     2  \n",
       "1999          0.0     3.725878        0.0     3  \n",
       "88            0.0     3.869050        0.0     4  "
      ]
     },
     "execution_count": 15,
     "metadata": {},
     "output_type": "execute_result"
    }
   ],
   "source": [
    "# topic = topics2019[topics2019.qid==\"1063750\"]\n",
    "e2e_pipe = (\n",
    "    factory.set_retrieve() \n",
    "    >> factory.index_scorer(query_encoded=True, add_ranks=True, batch_size=10000)\n",
    "    >> factory.fetch_index_encodings(ids=True)\n",
    "    >> scorer(factory,add_exact_match_contribution=True,add_doc_numeric=True)\n",
    ")\n",
    "# df = e2e_pipe(topics2019)\n",
    "df = pd.concat(e2e_pipe.transform_gen(topics2019, batch_size=1)).drop(columns=[\"query_embs\", \"query_toks\", \"doc_embs\", \"doc_toks\"]).sort_values(['qid', 'rank'])\n",
    "# df = df.drop(columns=[\"query_embs\", \"query_toks\", \"doc_embs\", \"doc_toks\"])\n",
    "# df=df.sort_values(['qid', 'rank'])\n",
    "df.to_csv(\"./colroberta.e2e.smp.doc_numeric.2019.txt\",index=False)\n",
    "df.head()"
   ]
  },
  {
   "cell_type": "code",
   "execution_count": 2,
   "id": "tutorial-appliance",
   "metadata": {},
   "outputs": [
    {
     "ename": "NameError",
     "evalue": "name 'factory' is not defined",
     "output_type": "error",
     "traceback": [
      "\u001b[0;31m---------------------------------------------------------------------------\u001b[0m",
      "\u001b[0;31mNameError\u001b[0m                                 Traceback (most recent call last)",
      "\u001b[0;32m<ipython-input-2-9b84230dcc91>\u001b[0m in \u001b[0;36m<module>\u001b[0;34m\u001b[0m\n\u001b[1;32m      4\u001b[0m     \u001b[0;34m>>\u001b[0m \u001b[0mfactory\u001b[0m\u001b[0;34m.\u001b[0m\u001b[0mindex_scorer\u001b[0m\u001b[0;34m(\u001b[0m\u001b[0mquery_encoded\u001b[0m\u001b[0;34m=\u001b[0m\u001b[0;32mTrue\u001b[0m\u001b[0;34m,\u001b[0m \u001b[0madd_ranks\u001b[0m\u001b[0;34m=\u001b[0m\u001b[0;32mTrue\u001b[0m\u001b[0;34m,\u001b[0m \u001b[0mbatch_size\u001b[0m\u001b[0;34m=\u001b[0m\u001b[0;36m10000\u001b[0m\u001b[0;34m)\u001b[0m\u001b[0;34m\u001b[0m\u001b[0;34m\u001b[0m\u001b[0m\n\u001b[1;32m      5\u001b[0m     \u001b[0;34m>>\u001b[0m \u001b[0mfactory\u001b[0m\u001b[0;34m.\u001b[0m\u001b[0mfetch_index_encodings\u001b[0m\u001b[0;34m(\u001b[0m\u001b[0mids\u001b[0m\u001b[0;34m=\u001b[0m\u001b[0;32mTrue\u001b[0m\u001b[0;34m)\u001b[0m\u001b[0;34m\u001b[0m\u001b[0;34m\u001b[0m\u001b[0m\n\u001b[0;32m----> 6\u001b[0;31m     \u001b[0;34m>>\u001b[0m \u001b[0mscorer\u001b[0m\u001b[0;34m(\u001b[0m\u001b[0mfactory\u001b[0m\u001b[0;34m,\u001b[0m\u001b[0madd_exact_match_contribution\u001b[0m\u001b[0;34m=\u001b[0m\u001b[0;32mTrue\u001b[0m\u001b[0;34m,\u001b[0m\u001b[0madd_question_exact_match_contribution\u001b[0m\u001b[0;34m=\u001b[0m\u001b[0;32mTrue\u001b[0m\u001b[0;34m)\u001b[0m\u001b[0;34m\u001b[0m\u001b[0;34m\u001b[0m\u001b[0m\n\u001b[0m\u001b[1;32m      7\u001b[0m )\n\u001b[1;32m      8\u001b[0m \u001b[0;31m# df = e2e_pipe(topics2019)\u001b[0m\u001b[0;34m\u001b[0m\u001b[0;34m\u001b[0m\u001b[0;34m\u001b[0m\u001b[0m\n",
      "\u001b[0;31mNameError\u001b[0m: name 'factory' is not defined"
     ]
    }
   ],
   "source": [
    "# topic = topics2019[topics2019.qid==\"1063750\"]\n",
    "e2e_pipe = (\n",
    "    factory.set_retrieve() \n",
    "    >> factory.index_scorer(query_encoded=True, add_ranks=True, batch_size=10000)\n",
    "    >> factory.fetch_index_encodings(ids=True)\n",
    "    >> scorer(factory,add_exact_match_contribution=True,add_question_exact_match_contribution=True)\n",
    ")\n",
    "# df = e2e_pipe(topics2019)\n",
    "df = pd.concat(e2e_pipe.transform_gen(topics2019, batch_size=1)).drop(columns=[\"query_embs\", \"query_toks\", \"doc_embs\", \"doc_toks\"]).sort_values(['qid', 'rank'])\n",
    "df.to_csv(\"./colroberta.e2e.smp.query_question.2019.txt\",index=False)\n",
    "df.head()"
   ]
  },
  {
   "cell_type": "code",
   "execution_count": null,
   "id": "leading-interpretation",
   "metadata": {},
   "outputs": [],
   "source": [
    "# topic = topics2019[topics2019.qid==\"1063750\"]\n",
    "e2e_pipe = (\n",
    "    factory.set_retrieve() \n",
    "    >> factory.index_scorer(query_encoded=True, add_ranks=True, batch_size=10000)\n",
    "    >> factory.fetch_index_encodings(ids=True)\n",
    "    >> scorer(factory,add_exact_match_contribution=True,add_doc_low=True)\n",
    ")\n",
    "# df = e2e_pipe(topics2019)\n",
    "df = pd.concat(e2e_pipe.transform_gen(topics2019, batch_size=1)).drop(columns=[\"query_embs\", \"query_toks\", \"doc_embs\", \"doc_toks\"]).sort_values(['qid', 'rank'])\n",
    "df.to_csv(\"./colroberta.e2e.smp.doc_low.2019.txt\",index=False)\n",
    "df.head()"
   ]
  },
  {
   "cell_type": "code",
   "execution_count": null,
   "id": "persistent-agency",
   "metadata": {},
   "outputs": [],
   "source": [
    "# topic = topics2019[topics2019.qid==\"1063750\"]\n",
    "e2e_pipe = (\n",
    "    factory.set_retrieve() \n",
    "    >> factory.index_scorer(query_encoded=True, add_ranks=True, batch_size=10000)\n",
    "    >> factory.fetch_index_encodings(ids=True)\n",
    "    >> scorer(factory,add_exact_match_contribution=True,add_doc_med=True)\n",
    ")\n",
    "# df = e2e_pipe(topics2019)\n",
    "df = pd.concat(e2e_pipe.transform_gen(topics2019, batch_size=1)).drop(columns=[\"query_embs\", \"query_toks\", \"doc_embs\", \"doc_toks\"]).sort_values(['qid', 'rank'])\n",
    "df.to_csv(\"./colroberta.e2e.smp.doc_med.2019.txt\",index=False)\n",
    "df.head()"
   ]
  },
  {
   "cell_type": "code",
   "execution_count": null,
   "id": "dynamic-designer",
   "metadata": {},
   "outputs": [],
   "source": [
    "# topic = topics2019[topics2019.qid==\"1063750\"]\n",
    "e2e_pipe = (\n",
    "    factory.set_retrieve() \n",
    "    >> factory.index_scorer(query_encoded=True, add_ranks=True, batch_size=10000)\n",
    "    >> factory.fetch_index_encodings(ids=True)\n",
    "    >> scorer(factory,add_exact_match_contribution=True,add_doc_high=True)\n",
    ")\n",
    "# df = e2e_pipe(topics2019)\n",
    "df = pd.concat(e2e_pipe.transform_gen(topics2019, batch_size=1)).drop(columns=[\"query_embs\", \"query_toks\", \"doc_embs\", \"doc_toks\"]).sort_values(['qid', 'rank'])\n",
    "df.to_csv(\"./colroberta.e2e.smp.doc_high.2019.txt\",index=False)\n",
    "df.head()"
   ]
  },
  {
   "cell_type": "code",
   "execution_count": null,
   "id": "standard-wilderness",
   "metadata": {},
   "outputs": [],
   "source": []
  },
  {
   "cell_type": "code",
   "execution_count": null,
   "id": "textile-venture",
   "metadata": {},
   "outputs": [],
   "source": []
  },
  {
   "cell_type": "code",
   "execution_count": 69,
   "id": "unlike-scale",
   "metadata": {},
   "outputs": [],
   "source": [
    "import torch\n",
    "import pyterrier as pt\n",
    "assert pt.started(), 'PyTerrier must be started'\n",
    "pt.tqdm.pandas()\n",
    "cuda0 = torch.device('cuda:0')\n",
    "\n",
    "def _build_interaction(row, D):\n",
    "    doc_embs = row.doc_embs\n",
    "    doc_len = doc_embs.shape[0]\n",
    "    D[row.row_index, 0:doc_len, :] = doc_embs\n",
    "\n",
    "def _build_toks(row, idsD):\n",
    "    doc_toks = row.doc_toks\n",
    "    doc_len = doc_toks.shape[0]\n",
    "    idsD[row.row_index, 0:doc_len] = doc_toks"
   ]
  },
  {
   "cell_type": "code",
   "execution_count": 70,
   "id": "attempted-elite",
   "metadata": {},
   "outputs": [
    {
     "name": "stderr",
     "output_type": "stream",
     "text": [
      "100%|██████████| 3283/3283 [00:00<00:00, 15076.14it/s]\n"
     ]
    }
   ],
   "source": [
    "verbose=True\n",
    "with torch.no_grad():\n",
    "    weightsQ = None\n",
    "    Q = torch.cat([df.iloc[0].query_embs]).cuda()\n",
    "    if \"query_weights\" in df.columns:\n",
    "        weightsQ = df.iloc[0].query_weights.cuda()\n",
    "    else:\n",
    "        weightsQ = torch.ones(Q.shape[0]).cuda()        \n",
    "    D = torch.zeros(len(df), factory.args.doc_maxlen, factory.args.dim, device=cuda0)\n",
    "    df['row_index'] = range(len(df))\n",
    "    if verbose:\n",
    "        df.progress_apply(lambda row: _build_interaction(row, D), axis=1)\n",
    "    else:\n",
    "        df.apply(lambda row: _build_interaction(row, D), axis=1)\n",
    "    maxscoreQ = (Q @ D.permute(0, 2, 1)).max(2).values\n",
    "    scores = (weightsQ*maxscoreQ).sum(1).cpu()\n",
    "    df[\"score\"] = scores.tolist()\n",
    "    df = factory._add_docnos(df)\n",
    "#     if add_contributions:\n",
    "#         contributions = (Q @ D.permute(0, 2, 1)).max(1).values.cpu()\n",
    "#         df[\"contributions\"] = contributions.tolist()\n",
    "    idsQ = torch.cat([df.iloc[0].query_toks]).unsqueeze(0)\n",
    "    idsD = torch.zeros(len(df), factory.args.doc_maxlen, dtype=idsQ.dtype)\n",
    "\n",
    "    df.apply(lambda row: _build_toks(row, idsD), axis=1)"
   ]
  },
  {
   "cell_type": "code",
   "execution_count": 76,
   "id": "technological-going",
   "metadata": {},
   "outputs": [],
   "source": [
    "add_exact_match_contribution = True\n",
    "with torch.no_grad():\n",
    "    if add_exact_match_contribution:\n",
    "\n",
    "        # which places in the query are actual tokens, not specials such as MASKs\n",
    "        token_match = (idsQ != 0) & (idsQ != 2) & (idsQ != 50266) & (idsQ != 50264) & (idsQ != 50265)\n",
    "\n",
    "        # which places in the interaction have exact matches (not</s>) not \n",
    "        exact_match = (idsQ.unsqueeze(1) == idsD.unsqueeze(2)) & (idsQ != 2)\n",
    "\n",
    "        # perform the interaction\n",
    "        interaction = (Q @ D.permute(0, 2, 1)).cpu()\n",
    "\n",
    "        weightsQ = weightsQ.unsqueeze(0).cpu()\n",
    "\n",
    "        weighted_maxsim = weightsQ*interaction.max(2).values\n",
    "\n",
    "        # mask out query embeddings that arent tokens \n",
    "        weighted_maxsim[:, ~token_match[0,:]] = 0\n",
    "\n",
    "        # get the sum\n",
    "        denominator = weighted_maxsim.sum(1)\n",
    "\n",
    "        # zero out entries that arent exact matches\n",
    "        interaction[~ exact_match.permute(0, 2, 1)] = 0\n",
    "\n",
    "        weighted_maxsim = weightsQ*interaction.max(2).values\n",
    "        # mask out query embeddings that arent tokens \n",
    "        weighted_maxsim[:, ~token_match[0,:]] = 0\n",
    "\n",
    "        # get the sum\n",
    "        numerator = weighted_maxsim.sum(1)\n",
    "        #df[\"exact_count\"] = exact_match\n",
    "        df[\"exact_numer\"] = numerator.tolist()\n",
    "        df[\"exact_denom\"] = denominator.tolist()\n",
    "        df[\"exact_pct\"] = (numerator/denominator).tolist()"
   ]
  },
  {
   "cell_type": "code",
   "execution_count": null,
   "id": "applied-greek",
   "metadata": {},
   "outputs": [],
   "source": []
  },
  {
   "cell_type": "code",
   "execution_count": null,
   "id": "meaning-approval",
   "metadata": {},
   "outputs": [],
   "source": []
  },
  {
   "cell_type": "markdown",
   "id": "virtual-subdivision",
   "metadata": {},
   "source": [
    "# RQ4"
   ]
  },
  {
   "cell_type": "code",
   "execution_count": 22,
   "id": "acceptable-protein",
   "metadata": {},
   "outputs": [],
   "source": [
    "from pyterrier.transformer import TransformerBase\n",
    "def exact_scorer(factory, add_contributions=False, add_exact_match_contribution=False, all_types_scoring=False,\n",
    "                 only_exact_scoring=False, only_semantic_scoring=False, only_special_scoring=False,only_qtokens_scoring=False,\n",
    "                 verbose=False, gpu=True) -> TransformerBase:\n",
    "    \"\"\"\n",
    "    Calculates the ColBERT max_sim operator using previous encodings of queries and documents\n",
    "    input: qid, query_embs, [query_weights], docno, doc_embs\n",
    "    output: ditto + score, [+ contributions]\n",
    "    \"\"\"\n",
    "    import torch\n",
    "    import pyterrier as pt\n",
    "    assert pt.started(), 'PyTerrier must be started'\n",
    "    cuda0 = torch.device('cuda') if gpu else torch.device('cpu')\n",
    "\n",
    "    def _build_interaction(row, D):\n",
    "        doc_embs = row.doc_embs\n",
    "        doc_len = doc_embs.shape[0]\n",
    "        D[row.row_index, 0:doc_len, :] = doc_embs\n",
    "\n",
    "    def _build_toks(row, idsD):\n",
    "        doc_toks = row.doc_toks\n",
    "        doc_len = doc_toks.shape[0]\n",
    "        idsD[row.row_index, 0:doc_len] = doc_toks\n",
    "\n",
    "    def _score_query(df):\n",
    "        with torch.no_grad():\n",
    "            weightsQ = None\n",
    "            Q = torch.cat([df.iloc[0].query_embs])\n",
    "            if \"query_weights\" in df.columns:\n",
    "                weightsQ = df.iloc[0].query_weights\n",
    "            else:\n",
    "                weightsQ = torch.ones(Q.shape[0])\n",
    "            if gpu:\n",
    "                Q = Q.cuda()\n",
    "                weightsQ = weightsQ.cuda()        \n",
    "            D = torch.zeros(len(df), factory.args.doc_maxlen, factory.args.dim, device=cuda0)\n",
    "            df['row_index'] = range(len(df))\n",
    "            if verbose:\n",
    "                pt.tqdm.pandas(desc='scorer')\n",
    "                df.progress_apply(lambda row: _build_interaction(row, D), axis=1)\n",
    "            else:\n",
    "                df.apply(lambda row: _build_interaction(row, D), axis=1)\n",
    "                \n",
    "            if add_contributions:\n",
    "                contributions = (Q @ D.permute(0, 2, 1)).max(1).values.cpu()\n",
    "                df[\"contributions\"] = contributions.tolist()\n",
    "                \n",
    "                \n",
    "            idsQ = torch.cat([df.iloc[0].query_toks]).unsqueeze(0)\n",
    "            idsD = torch.zeros(len(df), factory.args.doc_maxlen, dtype=idsQ.dtype)\n",
    "\n",
    "            df.apply(lambda row: _build_toks(row, idsD), axis=1)\n",
    "#             print(idsQ.shape,\"!!!!!!!!!!!\")\n",
    "\n",
    "            if only_exact_scoring:\n",
    "#                 print(\">>> Performing only exact scoring\")\n",
    "                # which places in the query are actual tokens, not specials such as MASKs\n",
    "#                 token_match = (idsQ != 101) & (idsQ != 102) & (idsQ != 103) & (idsQ != 1) & (idsQ != 2)\n",
    "                token_match = (idsQ != 0) & (idsQ != 2) & (idsQ != 50266) & (idsQ != 50264) & (idsQ != 50265)\n",
    "                # which places in the interaction have exact matches (not [CLS])\n",
    "                exact_match = (idsQ.unsqueeze(1) == idsD.unsqueeze(2)) & (idsQ != 101)\n",
    "\n",
    "                # perform the interaction\n",
    "                interaction = (Q @ D.permute(0, 2, 1)).cpu()\n",
    "                # zero out entries that arent exact matches\n",
    "                interaction[~ exact_match.permute(0, 2, 1)] = 0\n",
    "                \n",
    "                weightsQ = weightsQ.unsqueeze(0).cpu()\n",
    "                weighted_maxsim = weightsQ*interaction.max(2).values\n",
    "                # mask out query embeddings that arent tokens \n",
    "                weighted_maxsim[:, ~token_match[0,:]] = 0\n",
    "#                 weighted_maxsim=weighted_maxsim.cpu()\n",
    "                df[\"score\"] = weighted_maxsim.sum(1).cpu().tolist()\n",
    "            elif only_semantic_scoring:\n",
    "#                 print(\">>> Performing only semantic scoring\")\n",
    "                # which places in the query are actual tokens, not specials such as MASKs\n",
    "#                 token_match = (idsQ != 101) & (idsQ != 102) & (idsQ != 103) & (idsQ != 1) & (idsQ != 2)\n",
    "                token_match = (idsQ != 0) & (idsQ != 2) & (idsQ != 50266) & (idsQ != 50264) & (idsQ != 50265)\n",
    "\n",
    "                # which places in the interaction have exact matches (not [CLS])\n",
    "                exact_match = (idsQ.unsqueeze(1) == idsD.unsqueeze(2)) & (idsQ != 101)\n",
    "\n",
    "                # perform the interaction\n",
    "                interaction = (Q @ D.permute(0, 2, 1)).cpu()\n",
    "                # zero out entries that are exact matches\n",
    "                interaction[exact_match.permute(0, 2, 1)] = 0\n",
    "\n",
    "                weightsQ = weightsQ.unsqueeze(0).cpu()\n",
    "                weighted_maxsim = weightsQ*interaction.max(2).values\n",
    "                # mask out query embeddings that arent tokens \n",
    "                weighted_maxsim[:, ~token_match[0,:]] = 0\n",
    "                df[\"score\"] = weighted_maxsim.sum(1).cpu().tolist()\n",
    "                \n",
    "                \n",
    "            elif only_special_scoring:\n",
    "#                 print(\">>> Performing only special scoring\")\n",
    "                # which places in the query are actual tokens, not specials such as MASKs\n",
    "                special_token_match = (idsQ == 50266) | (idsQ == 50264) | (idsQ == 50265) | (idsQ == 0) | (idsQ == 2)\n",
    "                 # perform the interaction\n",
    "                interaction = (Q @ D.permute(0, 2, 1)).cpu()\n",
    "                weightsQ = weightsQ.unsqueeze(0).cpu()\n",
    "                weighted_maxsim = weightsQ*interaction.max(2).values\n",
    "                # mask out query embeddings that arent tokens \n",
    "                weighted_maxsim[:, ~special_token_match[0,:]] = 0\n",
    "                df[\"score\"] = weighted_maxsim.sum(1).cpu().tolist()\n",
    "            elif only_qtokens_scoring:\n",
    "#                 print(\">>> Performing only query actual tokens scoring\")\n",
    "                # which places in the query are actual tokens, not specials such as MASKs\n",
    "                special_token_match = (idsQ == 50266) | (idsQ == 50264) | (idsQ == 50265) | (idsQ == 0) | (idsQ == 2)\n",
    "                 # perform the interaction\n",
    "                interaction = (Q @ D.permute(0, 2, 1)).cpu()\n",
    "                weightsQ = weightsQ.unsqueeze(0).cpu()\n",
    "                weighted_maxsim = weightsQ*interaction.max(2).values\n",
    "                # mask out query embeddings that arent special tokens -->only the actual tokens\n",
    "                weighted_maxsim[:, special_token_match[0,:]] = 0\n",
    "                df[\"score\"] = weighted_maxsim.sum(1).cpu().tolist()\n",
    "                \n",
    "            elif all_types_scoring:\n",
    "#                 print(\">>> Performing all types of scoring\")\n",
    "                maxscoreQ = (Q @ D.permute(0, 2, 1)).max(2).values\n",
    "                scores = (weightsQ*maxscoreQ).sum(1)#.cpu()\n",
    "                df[\"score\"] = scores.tolist()\n",
    "        return df\n",
    "\n",
    "    return pt.apply.by_query(_score_query, add_ranks=True)"
   ]
  },
  {
   "cell_type": "code",
   "execution_count": 23,
   "id": "specialized-labor",
   "metadata": {},
   "outputs": [],
   "source": [
    "e2e_pipe_only_exact = (\n",
    "    factory.set_retrieve() \n",
    "    >> factory.index_scorer(query_encoded=True, add_ranks=True, batch_size=10000)\n",
    "    >> factory.fetch_index_encodings(ids=True)\n",
    "    >> exact_scorer(factory,only_exact_scoring=True,only_semantic_scoring=False,only_special_scoring=False,all_types_scoring=False)\n",
    ")\n",
    "\n",
    "e2e_pipe_only_semantic = (\n",
    "    factory.set_retrieve() \n",
    "    >> factory.index_scorer(query_encoded=True, add_ranks=True, batch_size=10000)\n",
    "    >> factory.fetch_index_encodings(ids=True)\n",
    "    >> exact_scorer(factory,only_exact_scoring=False,only_semantic_scoring=True,only_special_scoring=False,all_types_scoring=False)\n",
    ")\n",
    "\n",
    "\n",
    "e2e_pipe_only_qspecial = (\n",
    "    factory.set_retrieve() \n",
    "    >> factory.index_scorer(query_encoded=True, add_ranks=True, batch_size=10000)\n",
    "    >> factory.fetch_index_encodings(ids=True)\n",
    "    >> exact_scorer(factory,only_exact_scoring=False,only_semantic_scoring=False,only_special_scoring=True,all_types_scoring=False)\n",
    ")\n",
    "\n",
    "e2e_pipe_only_qtokens = (\n",
    "    factory.set_retrieve() \n",
    "    >> factory.index_scorer(query_encoded=True, add_ranks=True, batch_size=10000)\n",
    "    >> factory.fetch_index_encodings(ids=True)\n",
    "    >> exact_scorer(factory,only_exact_scoring=False,only_semantic_scoring=False,only_qtokens_scoring=True,all_types_scoring=False)\n",
    ")\n",
    "\n",
    "\n",
    "\n",
    "\n",
    "e2e_pipe_all_types = (\n",
    "    factory.set_retrieve() \n",
    "    >> factory.index_scorer(query_encoded=True, add_ranks=True, batch_size=10000)\n",
    "    >> factory.fetch_index_encodings(ids=True)\n",
    "    >> exact_scorer(factory,only_exact_scoring=False,only_semantic_scoring=False,only_special_scoring=False,all_types_scoring=True)\n",
    ")\n",
    "\n",
    "\n",
    "\n",
    "\n",
    "\n"
   ]
  },
  {
   "cell_type": "code",
   "execution_count": 24,
   "id": "upper-watson",
   "metadata": {},
   "outputs": [
    {
     "name": "stdout",
     "output_type": "stream",
     "text": [
      "11:05:45.821 [main] WARN org.terrier.structures.BaseCompressingMetaIndex - Structure meta reading data file directly from disk (SLOW) - try index.meta.data-source=fileinmem in the index properties file. 1.9 GiB of memory would be required.\n"
     ]
    }
   ],
   "source": [
    "bm25_terrier_stemmed_text = pt.BatchRetrieve.from_dataset(\n",
    "    'msmarco_passage', \n",
    "    'terrier_stemmed_text', \n",
    "    wmodel='BM25',\n",
    "    metadata=['docno', 'text'], \n",
    "    num_results=1000)\n"
   ]
  },
  {
   "cell_type": "code",
   "execution_count": 25,
   "id": "confidential-little",
   "metadata": {},
   "outputs": [],
   "source": [
    "dataset = pt.get_dataset(\"irds:msmarco-passage\")\n",
    "reranker_all_types = (factory.query_encoder() >>bm25_terrier_stemmed_text>>pt.text.get_text(dataset,\"text\")>>factory.text_encoder() \n",
    "       >>factory.fetch_index_encodings(ids=True)\n",
    "        >> exact_scorer(factory,only_exact_scoring=False,only_semantic_scoring=False,only_special_scoring=False,all_types_scoring=True)\n",
    ")\n",
    "\n",
    "reranker_only_exact = (factory.query_encoder() >>bm25_terrier_stemmed_text>>pt.text.get_text(dataset,\"text\")>>factory.text_encoder() \n",
    "       >>factory.fetch_index_encodings(ids=True)\n",
    "        >> exact_scorer(factory,only_exact_scoring=True,only_semantic_scoring=False,only_special_scoring=False,all_types_scoring=False)\n",
    ")\n",
    "\n",
    "reranker_only_semantic = (factory.query_encoder() >>bm25_terrier_stemmed_text>>pt.text.get_text(dataset,\"text\")>>factory.text_encoder() \n",
    "       >>factory.fetch_index_encodings(ids=True)\n",
    "        >> exact_scorer(factory,only_exact_scoring=False,only_semantic_scoring=True,only_special_scoring=False,all_types_scoring=False)\n",
    ")\n",
    "\n",
    "reranker_only_qspecial = (factory.query_encoder() >>bm25_terrier_stemmed_text>>pt.text.get_text(dataset,\"text\")>>factory.text_encoder() \n",
    "       >>factory.fetch_index_encodings(ids=True)\n",
    "        >> exact_scorer(factory,only_exact_scoring=False,only_semantic_scoring=False,only_special_scoring=True,all_types_scoring=False)\n",
    ")\n",
    "\n",
    "reranker_only_qtokens = (factory.query_encoder() >>bm25_terrier_stemmed_text>>pt.text.get_text(dataset,\"text\")>>factory.text_encoder() \n",
    "       >>factory.fetch_index_encodings(ids=True)\n",
    "        >> exact_scorer(factory,only_qtokens_scoring=True, only_exact_scoring=False,only_semantic_scoring=False,only_special_scoring=False,all_types_scoring=False)\n",
    ")\n"
   ]
  },
  {
   "cell_type": "code",
   "execution_count": 26,
   "id": "continuous-ready",
   "metadata": {},
   "outputs": [],
   "source": [
    "!mkdir ./RQ4res/"
   ]
  },
  {
   "cell_type": "code",
   "execution_count": 28,
   "id": "czech-indicator",
   "metadata": {},
   "outputs": [
    {
     "data": {
      "text/html": [
       "<style  type=\"text/css\" >\n",
       "#T_31fb5_row0_col4,#T_31fb5_row1_col4,#T_31fb5_row2_col4,#T_31fb5_row3_col4,#T_31fb5_row4_col4,#T_31fb5_row5_col1,#T_31fb5_row5_col2,#T_31fb5_row5_col3,#T_31fb5_row5_col4,#T_31fb5_row5_col5,#T_31fb5_row5_col6,#T_31fb5_row10_col7{\n",
       "            font-weight:  bold;\n",
       "        }</style><table id=\"T_31fb5_\" ><thead>    <tr>        <th class=\"blank level0\" ></th>        <th class=\"col_heading level0 col0\" >name</th>        <th class=\"col_heading level0 col1\" >nDCG@10</th>        <th class=\"col_heading level0 col2\" >nDCG@100</th>        <th class=\"col_heading level0 col3\" >R(rel=2)@100</th>        <th class=\"col_heading level0 col4\" >R(rel=2)@1000</th>        <th class=\"col_heading level0 col5\" >AP(rel=2)@100</th>        <th class=\"col_heading level0 col6\" >AP(rel=2)@1000</th>        <th class=\"col_heading level0 col7\" >RR(rel=2)@10</th>    </tr></thead><tbody>\n",
       "                <tr>\n",
       "                        <th id=\"T_31fb5_level0_row0\" class=\"row_heading level0 row0\" >0</th>\n",
       "                        <td id=\"T_31fb5_row0_col0\" class=\"data row0 col0\" >bm25</td>\n",
       "                        <td id=\"T_31fb5_row0_col1\" class=\"data row0 col1\" >0.479540</td>\n",
       "                        <td id=\"T_31fb5_row0_col2\" class=\"data row0 col2\" >0.487416</td>\n",
       "                        <td id=\"T_31fb5_row0_col3\" class=\"data row0 col3\" >0.488133</td>\n",
       "                        <td id=\"T_31fb5_row0_col4\" class=\"data row0 col4\" >0.755332</td>\n",
       "                        <td id=\"T_31fb5_row0_col5\" class=\"data row0 col5\" >0.232165</td>\n",
       "                        <td id=\"T_31fb5_row0_col6\" class=\"data row0 col6\" >0.286448</td>\n",
       "                        <td id=\"T_31fb5_row0_col7\" class=\"data row0 col7\" >0.639655</td>\n",
       "            </tr>\n",
       "            <tr>\n",
       "                        <th id=\"T_31fb5_level0_row1\" class=\"row_heading level0 row1\" >1</th>\n",
       "                        <td id=\"T_31fb5_row1_col0\" class=\"data row1 col0\" >colroberta.reranker.only_exact</td>\n",
       "                        <td id=\"T_31fb5_row1_col1\" class=\"data row1 col1\" >0.429556</td>\n",
       "                        <td id=\"T_31fb5_row1_col2\" class=\"data row1 col2\" >0.415678</td>\n",
       "                        <td id=\"T_31fb5_row1_col3\" class=\"data row1 col3\" >0.410077</td>\n",
       "                        <td id=\"T_31fb5_row1_col4\" class=\"data row1 col4\" >0.755332</td>\n",
       "                        <td id=\"T_31fb5_row1_col5\" class=\"data row1 col5\" >0.225779</td>\n",
       "                        <td id=\"T_31fb5_row1_col6\" class=\"data row1 col6\" >0.274448</td>\n",
       "                        <td id=\"T_31fb5_row1_col7\" class=\"data row1 col7\" >0.556100</td>\n",
       "            </tr>\n",
       "            <tr>\n",
       "                        <th id=\"T_31fb5_level0_row2\" class=\"row_heading level0 row2\" >2</th>\n",
       "                        <td id=\"T_31fb5_row2_col0\" class=\"data row2 col0\" >colroberta.reranker.only_semantic</td>\n",
       "                        <td id=\"T_31fb5_row2_col1\" class=\"data row2 col1\" >0.668851</td>\n",
       "                        <td id=\"T_31fb5_row2_col2\" class=\"data row2 col2\" >0.586276</td>\n",
       "                        <td id=\"T_31fb5_row2_col3\" class=\"data row2 col3\" >0.562354</td>\n",
       "                        <td id=\"T_31fb5_row2_col4\" class=\"data row2 col4\" >0.755332</td>\n",
       "                        <td id=\"T_31fb5_row2_col5\" class=\"data row2 col5\" >0.367537</td>\n",
       "                        <td id=\"T_31fb5_row2_col6\" class=\"data row2 col6\" >0.412403</td>\n",
       "                        <td id=\"T_31fb5_row2_col7\" class=\"data row2 col7\" >0.816667</td>\n",
       "            </tr>\n",
       "            <tr>\n",
       "                        <th id=\"T_31fb5_level0_row3\" class=\"row_heading level0 row3\" >3</th>\n",
       "                        <td id=\"T_31fb5_row3_col0\" class=\"data row3 col0\" >colroberta.reranker.only_special</td>\n",
       "                        <td id=\"T_31fb5_row3_col1\" class=\"data row3 col1\" >0.693774</td>\n",
       "                        <td id=\"T_31fb5_row3_col2\" class=\"data row3 col2\" >0.622646</td>\n",
       "                        <td id=\"T_31fb5_row3_col3\" class=\"data row3 col3\" >0.583736</td>\n",
       "                        <td id=\"T_31fb5_row3_col4\" class=\"data row3 col4\" >0.755332</td>\n",
       "                        <td id=\"T_31fb5_row3_col5\" class=\"data row3 col5\" >0.407241</td>\n",
       "                        <td id=\"T_31fb5_row3_col6\" class=\"data row3 col6\" >0.454858</td>\n",
       "                        <td id=\"T_31fb5_row3_col7\" class=\"data row3 col7\" >0.860687</td>\n",
       "            </tr>\n",
       "            <tr>\n",
       "                        <th id=\"T_31fb5_level0_row4\" class=\"row_heading level0 row4\" >4</th>\n",
       "                        <td id=\"T_31fb5_row4_col0\" class=\"data row4 col0\" >colroberta.reranker.only_qtokens</td>\n",
       "                        <td id=\"T_31fb5_row4_col1\" class=\"data row4 col1\" >0.683754</td>\n",
       "                        <td id=\"T_31fb5_row4_col2\" class=\"data row4 col2\" >0.611770</td>\n",
       "                        <td id=\"T_31fb5_row4_col3\" class=\"data row4 col3\" >0.583135</td>\n",
       "                        <td id=\"T_31fb5_row4_col4\" class=\"data row4 col4\" >0.755332</td>\n",
       "                        <td id=\"T_31fb5_row4_col5\" class=\"data row4 col5\" >0.393486</td>\n",
       "                        <td id=\"T_31fb5_row4_col6\" class=\"data row4 col6\" >0.440651</td>\n",
       "                        <td id=\"T_31fb5_row4_col7\" class=\"data row4 col7\" >0.835271</td>\n",
       "            </tr>\n",
       "            <tr>\n",
       "                        <th id=\"T_31fb5_level0_row5\" class=\"row_heading level0 row5\" >5</th>\n",
       "                        <td id=\"T_31fb5_row5_col0\" class=\"data row5 col0\" >colroberta.reranker.all_types</td>\n",
       "                        <td id=\"T_31fb5_row5_col1\" class=\"data row5 col1\" >0.694702</td>\n",
       "                        <td id=\"T_31fb5_row5_col2\" class=\"data row5 col2\" >0.625814</td>\n",
       "                        <td id=\"T_31fb5_row5_col3\" class=\"data row5 col3\" >0.588650</td>\n",
       "                        <td id=\"T_31fb5_row5_col4\" class=\"data row5 col4\" >0.755332</td>\n",
       "                        <td id=\"T_31fb5_row5_col5\" class=\"data row5 col5\" >0.410903</td>\n",
       "                        <td id=\"T_31fb5_row5_col6\" class=\"data row5 col6\" >0.458108</td>\n",
       "                        <td id=\"T_31fb5_row5_col7\" class=\"data row5 col7\" >0.865116</td>\n",
       "            </tr>\n",
       "            <tr>\n",
       "                        <th id=\"T_31fb5_level0_row6\" class=\"row_heading level0 row6\" >6</th>\n",
       "                        <td id=\"T_31fb5_row6_col0\" class=\"data row6 col0\" >colroberta.only_exact</td>\n",
       "                        <td id=\"T_31fb5_row6_col1\" class=\"data row6 col1\" >0.405307</td>\n",
       "                        <td id=\"T_31fb5_row6_col2\" class=\"data row6 col2\" >0.354274</td>\n",
       "                        <td id=\"T_31fb5_row6_col3\" class=\"data row6 col3\" >0.340438</td>\n",
       "                        <td id=\"T_31fb5_row6_col4\" class=\"data row6 col4\" >0.569518</td>\n",
       "                        <td id=\"T_31fb5_row6_col5\" class=\"data row6 col5\" >0.181766</td>\n",
       "                        <td id=\"T_31fb5_row6_col6\" class=\"data row6 col6\" >0.207332</td>\n",
       "                        <td id=\"T_31fb5_row6_col7\" class=\"data row6 col7\" >0.565144</td>\n",
       "            </tr>\n",
       "            <tr>\n",
       "                        <th id=\"T_31fb5_level0_row7\" class=\"row_heading level0 row7\" >7</th>\n",
       "                        <td id=\"T_31fb5_row7_col0\" class=\"data row7 col0\" >colroberta..only_semantic</td>\n",
       "                        <td id=\"T_31fb5_row7_col1\" class=\"data row7 col1\" >0.641455</td>\n",
       "                        <td id=\"T_31fb5_row7_col2\" class=\"data row7 col2\" >0.522940</td>\n",
       "                        <td id=\"T_31fb5_row7_col3\" class=\"data row7 col3\" >0.509024</td>\n",
       "                        <td id=\"T_31fb5_row7_col4\" class=\"data row7 col4\" >0.674936</td>\n",
       "                        <td id=\"T_31fb5_row7_col5\" class=\"data row7 col5\" >0.336749</td>\n",
       "                        <td id=\"T_31fb5_row7_col6\" class=\"data row7 col6\" >0.366688</td>\n",
       "                        <td id=\"T_31fb5_row7_col7\" class=\"data row7 col7\" >0.807032</td>\n",
       "            </tr>\n",
       "            <tr>\n",
       "                        <th id=\"T_31fb5_level0_row8\" class=\"row_heading level0 row8\" >8</th>\n",
       "                        <td id=\"T_31fb5_row8_col0\" class=\"data row8 col0\" >colroberta.only_speical</td>\n",
       "                        <td id=\"T_31fb5_row8_col1\" class=\"data row8 col1\" >0.676710</td>\n",
       "                        <td id=\"T_31fb5_row8_col2\" class=\"data row8 col2\" >0.579954</td>\n",
       "                        <td id=\"T_31fb5_row8_col3\" class=\"data row8 col3\" >0.564471</td>\n",
       "                        <td id=\"T_31fb5_row8_col4\" class=\"data row8 col4\" >0.734303</td>\n",
       "                        <td id=\"T_31fb5_row8_col5\" class=\"data row8 col5\" >0.384788</td>\n",
       "                        <td id=\"T_31fb5_row8_col6\" class=\"data row8 col6\" >0.421983</td>\n",
       "                        <td id=\"T_31fb5_row8_col7\" class=\"data row8 col7\" >0.862403</td>\n",
       "            </tr>\n",
       "            <tr>\n",
       "                        <th id=\"T_31fb5_level0_row9\" class=\"row_heading level0 row9\" >9</th>\n",
       "                        <td id=\"T_31fb5_row9_col0\" class=\"data row9 col0\" >colroberta.only_qtokens</td>\n",
       "                        <td id=\"T_31fb5_row9_col1\" class=\"data row9 col1\" >0.666043</td>\n",
       "                        <td id=\"T_31fb5_row9_col2\" class=\"data row9 col2\" >0.566185</td>\n",
       "                        <td id=\"T_31fb5_row9_col3\" class=\"data row9 col3\" >0.545585</td>\n",
       "                        <td id=\"T_31fb5_row9_col4\" class=\"data row9 col4\" >0.710925</td>\n",
       "                        <td id=\"T_31fb5_row9_col5\" class=\"data row9 col5\" >0.372491</td>\n",
       "                        <td id=\"T_31fb5_row9_col6\" class=\"data row9 col6\" >0.407762</td>\n",
       "                        <td id=\"T_31fb5_row9_col7\" class=\"data row9 col7\" >0.818088</td>\n",
       "            </tr>\n",
       "            <tr>\n",
       "                        <th id=\"T_31fb5_level0_row10\" class=\"row_heading level0 row10\" >10</th>\n",
       "                        <td id=\"T_31fb5_row10_col0\" class=\"data row10 col0\" >colroberta.all_types</td>\n",
       "                        <td id=\"T_31fb5_row10_col1\" class=\"data row10 col1\" >0.683896</td>\n",
       "                        <td id=\"T_31fb5_row10_col2\" class=\"data row10 col2\" >0.581919</td>\n",
       "                        <td id=\"T_31fb5_row10_col3\" class=\"data row10 col3\" >0.559191</td>\n",
       "                        <td id=\"T_31fb5_row10_col4\" class=\"data row10 col4\" >0.733648</td>\n",
       "                        <td id=\"T_31fb5_row10_col5\" class=\"data row10 col5\" >0.389557</td>\n",
       "                        <td id=\"T_31fb5_row10_col6\" class=\"data row10 col6\" >0.426708</td>\n",
       "                        <td id=\"T_31fb5_row10_col7\" class=\"data row10 col7\" >0.866279</td>\n",
       "            </tr>\n",
       "    </tbody></table>"
      ],
      "text/plain": [
       "<pandas.io.formats.style.Styler at 0x7f80498b2a10>"
      ]
     },
     "execution_count": 28,
     "metadata": {},
     "output_type": "execute_result"
    }
   ],
   "source": [
    "from pyterrier.measures import *\n",
    "res = pt.Experiment(\n",
    "    [\n",
    "    bm25_terrier_stemmed_text,\n",
    "    reranker_only_exact,\n",
    "    reranker_only_semantic,\n",
    "    reranker_only_qspecial,\n",
    "    reranker_only_qtokens,\n",
    "    reranker_all_types,\n",
    "    e2e_pipe_only_exact,\n",
    "    e2e_pipe_only_semantic,\n",
    "    e2e_pipe_only_qspecial,\n",
    "    e2e_pipe_only_qtokens,\n",
    "    e2e_pipe_all_types\n",
    "    ],\n",
    "    topics2019,\n",
    "    qrels2019,\n",
    "    save_dir=\"./RQ4res/\",\n",
    "    filter_by_qrels=True,\n",
    "    batch_size=10,highlight=\"bold\",\n",
    "    eval_metrics = [nDCG@10,nDCG@100, R(rel=2)@100,R(rel=2)@1000, AP(rel=2)@100,AP(rel=2)@1000,RR(rel=2)@10], # Note: using R@1000 here instead of R(rel=2)@1000 to match the measure used by the TCT-ColBERT paper\n",
    "    names=['bm25',\n",
    "           \"colroberta.reranker.only_exact\",\"colroberta.reranker.only_semantic\",\n",
    "           \"colroberta.reranker.only_special\",\"colroberta.reranker.only_qtokens\",\"colroberta.reranker.all_types\",\n",
    "        \"colroberta.only_exact\",\"colroberta..only_semantic\",\n",
    "        \"colroberta.only_speical\",\"colroberta.only_qtokens\",\"colroberta.all_types\"]\n",
    ")\n",
    "\n",
    "res"
   ]
  },
  {
   "cell_type": "code",
   "execution_count": null,
   "id": "rotary-emerald",
   "metadata": {},
   "outputs": [],
   "source": []
  },
  {
   "cell_type": "code",
   "execution_count": null,
   "id": "altered-provincial",
   "metadata": {},
   "outputs": [],
   "source": []
  },
  {
   "cell_type": "code",
   "execution_count": null,
   "id": "elect-sierra",
   "metadata": {},
   "outputs": [],
   "source": []
  },
  {
   "cell_type": "code",
   "execution_count": null,
   "id": "attempted-heading",
   "metadata": {},
   "outputs": [],
   "source": []
  },
  {
   "cell_type": "code",
   "execution_count": null,
   "id": "invisible-makeup",
   "metadata": {},
   "outputs": [],
   "source": []
  },
  {
   "cell_type": "code",
   "execution_count": null,
   "id": "reduced-interpretation",
   "metadata": {},
   "outputs": [],
   "source": []
  },
  {
   "cell_type": "code",
   "execution_count": 142,
   "id": "optical-wesley",
   "metadata": {},
   "outputs": [],
   "source": [
    "e2e_pipe = (\n",
    "    factory.set_retrieve() \n",
    "    >> factory.index_scorer(query_encoded=True, add_ranks=True, batch_size=10000)\n",
    "    >> factory.fetch_index_encodings(ids=True)\n",
    "    >> scorer_exact_match(factory,add_exact_match_contribution=True )\n",
    ")\n"
   ]
  },
  {
   "cell_type": "code",
   "execution_count": 33,
   "id": "featured-attack",
   "metadata": {},
   "outputs": [
    {
     "name": "stdout",
     "output_type": "stream",
     "text": [
      "-->Q_marker_token: [Q] -->tid 50265\n",
      "-->mask_token: <mask> -->tid 50264\n",
      "-->cls_token <s> -->tid 0\n",
      "-->sep_token </s> -->tid 2\n",
      "[Q] 50265\n",
      "[D] 50266\n",
      "<mask> 50264\n",
      "<s> 0\n",
      "</s> 2\n"
     ]
    }
   ],
   "source": [
    "from colbert.modeling.tokenization import QueryTokenizer, DocTokenizer, tensorize_triples\n",
    "query_tokenizer = QueryTokenizer(query_maxlen=32)\n",
    "doc_tokenizer = DocTokenizer(180)\n",
    "print(query_tokenizer.Q_marker_token,query_tokenizer.Q_marker_token_id)\n",
    "print(doc_tokenizer.D_marker_token,doc_tokenizer.D_marker_token_id)\n",
    "print(query_tokenizer.mask_token,query_tokenizer.mask_token_id)\n",
    "\n",
    "print(query_tokenizer.cls_token,query_tokenizer.cls_token_id)\n",
    "print(query_tokenizer.sep_token,query_tokenizer.sep_token_id)\n"
   ]
  },
  {
   "cell_type": "code",
   "execution_count": 143,
   "id": "proof-enemy",
   "metadata": {},
   "outputs": [
    {
     "data": {
      "text/html": [
       "<div>\n",
       "<style scoped>\n",
       "    .dataframe tbody tr th:only-of-type {\n",
       "        vertical-align: middle;\n",
       "    }\n",
       "\n",
       "    .dataframe tbody tr th {\n",
       "        vertical-align: top;\n",
       "    }\n",
       "\n",
       "    .dataframe thead th {\n",
       "        text-align: right;\n",
       "    }\n",
       "</style>\n",
       "<table border=\"1\" class=\"dataframe\">\n",
       "  <thead>\n",
       "    <tr style=\"text-align: right;\">\n",
       "      <th></th>\n",
       "      <th>qid</th>\n",
       "      <th>query</th>\n",
       "      <th>docid</th>\n",
       "      <th>score</th>\n",
       "      <th>docno</th>\n",
       "      <th>row_index</th>\n",
       "      <th>exact_numer</th>\n",
       "      <th>exact_denom</th>\n",
       "      <th>exact_pct</th>\n",
       "      <th>rank</th>\n",
       "    </tr>\n",
       "  </thead>\n",
       "  <tbody>\n",
       "    <tr>\n",
       "      <th>1995</th>\n",
       "      <td>1037798</td>\n",
       "      <td>who is robert gray</td>\n",
       "      <td>8760866</td>\n",
       "      <td>25.308634</td>\n",
       "      <td>8760866</td>\n",
       "      <td>4319</td>\n",
       "      <td>0.737554</td>\n",
       "      <td>3.973821</td>\n",
       "      <td>0.185603</td>\n",
       "      <td>0</td>\n",
       "    </tr>\n",
       "    <tr>\n",
       "      <th>85</th>\n",
       "      <td>1037798</td>\n",
       "      <td>who is robert gray</td>\n",
       "      <td>3620983</td>\n",
       "      <td>24.339367</td>\n",
       "      <td>3620983</td>\n",
       "      <td>1806</td>\n",
       "      <td>1.000819</td>\n",
       "      <td>3.773253</td>\n",
       "      <td>0.265240</td>\n",
       "      <td>1</td>\n",
       "    </tr>\n",
       "    <tr>\n",
       "      <th>1998</th>\n",
       "      <td>1037798</td>\n",
       "      <td>who is robert gray</td>\n",
       "      <td>8760867</td>\n",
       "      <td>24.111166</td>\n",
       "      <td>8760867</td>\n",
       "      <td>4320</td>\n",
       "      <td>1.273142</td>\n",
       "      <td>3.859904</td>\n",
       "      <td>0.329838</td>\n",
       "      <td>2</td>\n",
       "    </tr>\n",
       "    <tr>\n",
       "      <th>1999</th>\n",
       "      <td>1037798</td>\n",
       "      <td>who is robert gray</td>\n",
       "      <td>8760870</td>\n",
       "      <td>23.786148</td>\n",
       "      <td>8760870</td>\n",
       "      <td>4322</td>\n",
       "      <td>1.147968</td>\n",
       "      <td>3.725878</td>\n",
       "      <td>0.308107</td>\n",
       "      <td>3</td>\n",
       "    </tr>\n",
       "    <tr>\n",
       "      <th>88</th>\n",
       "      <td>1037798</td>\n",
       "      <td>who is robert gray</td>\n",
       "      <td>3620986</td>\n",
       "      <td>23.765379</td>\n",
       "      <td>3620986</td>\n",
       "      <td>1808</td>\n",
       "      <td>0.821835</td>\n",
       "      <td>3.869050</td>\n",
       "      <td>0.212413</td>\n",
       "      <td>4</td>\n",
       "    </tr>\n",
       "  </tbody>\n",
       "</table>\n",
       "</div>"
      ],
      "text/plain": [
       "          qid               query    docid      score    docno  row_index  \\\n",
       "1995  1037798  who is robert gray  8760866  25.308634  8760866       4319   \n",
       "85    1037798  who is robert gray  3620983  24.339367  3620983       1806   \n",
       "1998  1037798  who is robert gray  8760867  24.111166  8760867       4320   \n",
       "1999  1037798  who is robert gray  8760870  23.786148  8760870       4322   \n",
       "88    1037798  who is robert gray  3620986  23.765379  3620986       1808   \n",
       "\n",
       "      exact_numer  exact_denom  exact_pct  rank  \n",
       "1995     0.737554     3.973821   0.185603     0  \n",
       "85       1.000819     3.773253   0.265240     1  \n",
       "1998     1.273142     3.859904   0.329838     2  \n",
       "1999     1.147968     3.725878   0.308107     3  \n",
       "88       0.821835     3.869050   0.212413     4  "
      ]
     },
     "execution_count": 143,
     "metadata": {},
     "output_type": "execute_result"
    }
   ],
   "source": [
    "df = pd.concat(e2e_pipe.transform_gen(topics2019, batch_size=1)).drop(columns=[\"query_embs\", \"query_toks\", \"doc_embs\", \"doc_toks\"]).sort_values(['qid', 'rank'])\n",
    "# \n",
    "df.head()"
   ]
  },
  {
   "cell_type": "code",
   "execution_count": 144,
   "id": "capable-extension",
   "metadata": {},
   "outputs": [],
   "source": [
    "df.to_csv(\"./colroberta.e2e.smp.all.2019.txt\",index=False)"
   ]
  },
  {
   "cell_type": "code",
   "execution_count": null,
   "id": "unnecessary-adoption",
   "metadata": {},
   "outputs": [],
   "source": []
  },
  {
   "cell_type": "code",
   "execution_count": null,
   "id": "thorough-brunswick",
   "metadata": {},
   "outputs": [],
   "source": []
  },
  {
   "cell_type": "code",
   "execution_count": null,
   "id": "indirect-telescope",
   "metadata": {},
   "outputs": [],
   "source": []
  },
  {
   "cell_type": "markdown",
   "id": "least-elder",
   "metadata": {},
   "source": [
    "# Plot"
   ]
  },
  {
   "cell_type": "code",
   "execution_count": 135,
   "id": "civilian-signal",
   "metadata": {},
   "outputs": [],
   "source": [
    "def transform_query(df,rank_cutoff):\n",
    "    df = df[df['rank']<=rank_cutoff]\n",
    "    #calculate the perquery relevance proportion given a rank_cutoff value\n",
    "    df['rel_prop'] = len(df)/(rank_cutoff+1)\n",
    "    \n",
    "    return df\n",
    "\n",
    "def transform(allres,rank_cutoff,rel):\n",
    "    if rel:\n",
    "        qrels2019_rel = qrels2019[qrels2019.label>0]\n",
    "    else:\n",
    "        qrels2019_rel = qrels2019[qrels2019.label==0]\n",
    "    allres_rel = allres.merge(qrels2019_rel,on=[\"qid\",\"docno\"])\n",
    "\n",
    "    rtr=[]\n",
    "    for qid, df in allres_rel.groupby(\"qid\"):\n",
    "        res = transform_query(df,rank_cutoff)\n",
    "        rtr.append(res)\n",
    "    return pd.concat(rtr)\n",
    "    \n",
    "def get_rel_prop(allres,rel=True):\n",
    "    total_rankoff=np.arange(0,51)\n",
    "    rel_prop=[]\n",
    "    for i in total_rankoff:\n",
    "        rtr = transform(allres,rank_cutoff=i,rel=True)\n",
    "        #calculate the mean relevance prop. value over all the returned queries, given a rank cutoff value\n",
    "        rtr = rtr.groupby(['qid', 'query']).mean().reset_index()\n",
    "        rel_prop.append(rtr[\"rel_prop\"].sum()/43)\n",
    "    df = pd.DataFrame({'mean_rel_prop':rel_prop})\n",
    "    df[\"cutoff\"]=total_rankoff\n",
    "    return df\n"
   ]
  },
  {
   "cell_type": "code",
   "execution_count": 137,
   "id": "departmental-share",
   "metadata": {},
   "outputs": [],
   "source": [
    "# df = get_rel_prop(allres_e2e)\n",
    "\n",
    "\n",
    "# import matplotlib.pyplot as plt\n",
    "# plt.figure(figsize=(20, 20/1.68))\n",
    "# # plt.plot(df[\"cutoff\"], df[\"e2e\"],linewidth=2.0,label=\"ColBERT E2E\")\n",
    "# plt.plot(df[\"cutoff\"], df[\"mean_rel_prop\"],linewidth=3.0,label=\"relevant\")\n",
    "\n",
    "\n",
    "\n",
    "# plt.ylabel(\"Mean Rel Prop.\",size=40)\n",
    "# plt.xlabel(\"Rank Cutoff\",size=40)\n",
    "# # plt.xticks(fontsize=12)\n",
    "# plt.xticks(np.arange(0, 51, step=5),fontsize=24)\n",
    "# plt.yticks(fontsize=24)\n",
    "# plt.legend(fontsize=28)\n",
    "# plt.title(\"Relevance proportaion on TREC 2019\",fontsize=35)\n",
    "# # plt.savefig(\"/nfsxiao/DenseQEJournal/figures/CRC/msmp_ranker_expterms.2019.pdf\",bbox_inches = 'tight')\n",
    "# plt.show()\n",
    "\n"
   ]
  },
  {
   "cell_type": "code",
   "execution_count": null,
   "id": "previous-insider",
   "metadata": {},
   "outputs": [],
   "source": []
  },
  {
   "cell_type": "code",
   "execution_count": null,
   "id": "sunset-scanning",
   "metadata": {},
   "outputs": [],
   "source": []
  },
  {
   "cell_type": "code",
   "execution_count": null,
   "id": "digital-albany",
   "metadata": {},
   "outputs": [],
   "source": []
  },
  {
   "cell_type": "code",
   "execution_count": null,
   "id": "accessible-pledge",
   "metadata": {},
   "outputs": [],
   "source": []
  },
  {
   "cell_type": "markdown",
   "id": "competitive-seattle",
   "metadata": {},
   "source": [
    "# Interaction Plot"
   ]
  },
  {
   "cell_type": "code",
   "execution_count": 138,
   "id": "african-dryer",
   "metadata": {},
   "outputs": [],
   "source": [
    "document=\" the USA entered ww2 because of pearl harbor\"\n",
    "query=\"why did the us voluntarily enter ww1\"\n",
    "# def explain_text(factory, query : str, document : str):\n",
    "#     \"\"\"\n",
    "#     Provides a diagram explaining the interaction between a query and the text of a document\n",
    "#     \"\"\"\n",
    "    \n",
    "#     return factory._explain(query, embsD, idsD)\n",
    "\n",
    "def explain_text(factory, query, docuemnt):\n",
    "    embsD, idsD = factory.args.inference.docFromText([document], with_ids=True)\n",
    "    embsQ, idsQ, masksQ = factory.args.inference.queryFromText([query], with_ids=True)\n",
    "\n",
    "    interaction = (embsQ[0] @ embsD[0].T).cpu().numpy().T\n",
    "\n",
    "    import numpy as np\n",
    "    import matplotlib.pyplot as plt\n",
    "    from matplotlib.gridspec import GridSpec\n",
    "\n",
    "    tokenmap = {\"[unused1]\" : \"[D]\", \"[unused0]\" : \"[Q]\"}\n",
    "\n",
    "    fig = plt.figure(figsize=(30, 30/0.6)) \n",
    "    gs = GridSpec(2, 1, height_ratios=[1, 20]) \n",
    "\n",
    "    ax1=fig.add_subplot(gs[0])\n",
    "    ax2=fig.add_subplot(gs[1])\n",
    "\n",
    "    ax2.matshow(interaction, cmap=plt.cm.Blues)\n",
    "    qtokens = factory.args.inference.query_tokenizer.tok.convert_ids_to_tokens(idsQ[0])\n",
    "    dtokens = factory.args.inference.query_tokenizer.tok.convert_ids_to_tokens(idsD[0])\n",
    "    qtokens = [tokenmap[t] if t in tokenmap else t for t in qtokens]\n",
    "    dtokens = [tokenmap[t] if t in tokenmap else t for t in dtokens]\n",
    "\n",
    "    ax2.set_xticks(range(32), minor=False)\n",
    "    ax2.set_xticklabels(qtokens, rotation=90,size=40)\n",
    "    ax2.set_yticks(range(len(idsD[0])))\n",
    "    ax2.set_yticklabels(dtokens,size=40)\n",
    "    ax2.set_anchor(\"N\")\n",
    "\n",
    "    contributions=[]\n",
    "    for i in range(32):\n",
    "        maxpos = np.argmax(interaction[:,i])\n",
    "        plt.text(i-0.25, maxpos+0.1, \"X\", fontsize=50)\n",
    "        contributions.append(interaction[maxpos,i])\n",
    "\n",
    "    from sklearn.preprocessing import minmax_scale\n",
    "    ax1.bar([0.5 + i for i in range(0,32)], contributions, color=plt.cm.Blues(minmax_scale(contributions, feature_range=(0.4, 1))))\n",
    "    ax1.set_xlim([0,32])\n",
    "    ax1.set_xticklabels([])\n",
    "    fig.tight_layout()\n",
    "    \n",
    "    #fig.subplots_adjust(hspace=-0.37)\n",
    "#     return fig|"
   ]
  },
  {
   "cell_type": "code",
   "execution_count": 139,
   "id": "reduced-mercy",
   "metadata": {},
   "outputs": [
    {
     "data": {
      "image/png": "[encoded data removed]",
      "text/plain": [
       "<Figure size 2160x3600 with 2 Axes>"
      ]
     },
     "metadata": {
      "needs_background": "light"
     },
     "output_type": "display_data"
    }
   ],
   "source": [
    "explain_text(factory,query,document)"
   ]
  },
  {
   "cell_type": "code",
   "execution_count": null,
   "id": "returning-yemen",
   "metadata": {},
   "outputs": [],
   "source": []
  },
  {
   "cell_type": "code",
   "execution_count": null,
   "id": "conservative-belief",
   "metadata": {},
   "outputs": [],
   "source": []
  }
 ],
 "metadata": {
  "kernelspec": {
   "display_name": "Python 3",
   "language": "python",
   "name": "python3"
  },
  "language_info": {
   "codemirror_mode": {
    "name": "ipython",
    "version": 3
   },
   "file_extension": ".py",
   "mimetype": "text/x-python",
   "name": "python",
   "nbconvert_exporter": "python",
   "pygments_lexer": "ipython3",
   "version": "3.7.9"
  }
 },
 "nbformat": 4,
 "nbformat_minor": 5
}
